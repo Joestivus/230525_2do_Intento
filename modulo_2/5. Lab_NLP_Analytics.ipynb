{
  "cells": [
    {
      "cell_type": "markdown",
      "metadata": {
        "id": "view-in-github",
        "colab_type": "text"
      },
      "source": [
        "<a href=\"https://colab.research.google.com/github/Joestivus/230525_2do_Intento/blob/main/modulo_2/5.%20Lab_NLP_Analytics.ipynb\" target=\"_parent\"><img src=\"https://colab.research.google.com/assets/colab-badge.svg\" alt=\"Open In Colab\"/></a>"
      ]
    },
    {
      "cell_type": "markdown",
      "metadata": {
        "id": "bYj3Uf0Vy_i7"
      },
      "source": [
        "\n",
        "<h1 align=\"center\"><font size=\"5\">NLP ANALYTICS</font></h1>"
      ]
    },
    {
      "cell_type": "markdown",
      "metadata": {
        "id": "iPjbs8u-BnP9"
      },
      "source": [
        "<h2> Objetivo </h2>\n",
        "\n",
        "El objetivo del presente laboratorio es el de aplicar modelos de deep learning basados en <b>Language Modeling</b>. Para ello, utilizaremos pre-entrenados para poder realizar el proceso de predicción directamente desde un modelo potente."
      ]
    },
    {
      "cell_type": "markdown",
      "metadata": {
        "id": "LNX1IIP-yn-H"
      },
      "source": [
        "<h2> Natural Language Toolkit </h2>\n",
        "\n",
        "\n",
        "NLTK ó [Natural Language Toolkit](https://www.nltk.org/) es una plataforma líder para crear programas Python que funcionen con datos de lenguaje humano. Proporciona interfaces fáciles de usar para más de 50 corpora y recursos léxicos como WordNet, junto con un conjunto de bibliotecas de procesamiento de texto para clasificación, tokenización, derivación, etiquetado, análisis y razonamiento semántico, envoltorios para bibliotecas de PNL de nivel industrial, y un foro de discusión activo.\n",
        "\n",
        "\n",
        "<img src=\"https://cdn-images-1.medium.com/max/800/1*jfZ4uK1Tko0TFugEk9oXDw.png\" width=\"700\" height=\"350\">\n",
        "\n"
      ]
    },
    {
      "cell_type": "markdown",
      "metadata": {
        "id": "y6-9L5NX0OgH"
      },
      "source": [
        "Primero importamos la librería nltk y descargamos complementos"
      ]
    },
    {
      "cell_type": "code",
      "execution_count": null,
      "metadata": {
        "id": "YxEhbeQh30XR"
      },
      "outputs": [],
      "source": [
        "import nltk\n",
        "\n",
        "nltk.download('stopwords')\n",
        "nltk.download('punkt')\n",
        "nltk.download('averaged_perceptron_tagger')\n"
      ]
    },
    {
      "cell_type": "markdown",
      "metadata": {
        "id": "adWXs4Fz0mcq"
      },
      "source": [
        "Leemos el texto de interés de una página web"
      ]
    },
    {
      "cell_type": "code",
      "execution_count": null,
      "metadata": {
        "id": "fabQ6rm04K7L"
      },
      "outputs": [],
      "source": [
        "import urllib.request\n",
        "response =  urllib.request.urlopen('https://es.wikipedia.org/wiki/Teor%C3%ADa_de_juegos')\n",
        "html = response.read()\n",
        "print(html)"
      ]
    },
    {
      "cell_type": "markdown",
      "metadata": {
        "id": "iwl7mcjG1GAU"
      },
      "source": [
        "<h2> Beautiful Soup </h2>\n",
        "\n",
        "[Beautiful Soup](https://www.crummy.com/software/BeautifulSoup/bs4/doc/) es una biblioteca de Python para extraer datos de archivos HTML y XML. Funciona con su analizador favorito para proporcionar formas idiomáticas de navegar, buscar y modificar el árbol de análisis. Por lo general, ahorra a los programadores horas o días de trabajo."
      ]
    },
    {
      "cell_type": "markdown",
      "metadata": {
        "id": "xuRWY9Wo0x1o"
      },
      "source": [
        "Le daremos formato a nuestro texto utilizando la librería beatifulSoup"
      ]
    },
    {
      "cell_type": "code",
      "execution_count": null,
      "metadata": {
        "id": "dNWkRYvX4RiH"
      },
      "outputs": [],
      "source": [
        "from bs4 import BeautifulSoup\n",
        "\n",
        "soup = BeautifulSoup(html,'html5lib')\n",
        "text = soup.get_text(strip = True)\n",
        "print(text)"
      ]
    },
    {
      "cell_type": "markdown",
      "metadata": {
        "id": "MrvhU3J81Yj6"
      },
      "source": [
        "Tokenizamos la información"
      ]
    },
    {
      "cell_type": "code",
      "execution_count": null,
      "metadata": {
        "colab": {
          "base_uri": "https://localhost:8080/"
        },
        "id": "wW6UoXOy4VCO",
        "outputId": "11cca114-52e9-4bf8-81c3-ccd9aa33c91b"
      },
      "outputs": [
        {
          "output_type": "stream",
          "name": "stdout",
          "text": [
            "['Teoría', 'de', 'juegos', '-', 'Wikipedia,', 'la', 'enciclopedia', 'libredocument.documentElement.className=\"client-js', 'vector-feature-language-in-header-enabled', 'vector-feature-language-in-main-page-header-disabled', 'vector-feature-sticky-header-disabled', 'vector-feature-page-tools-pinned-disabled', 'vector-feature-toc-pinned-enabled', 'vector-feature-main-menu-pinned-disabled', 'vector-feature-limited-width-enabled', 'vector-feature-limited-width-content-enabled', 'vector-feature-zebra-design-disabled\";(function(){var', 'cookie=document.cookie.match(/(?:^|;', ')eswikimwclientprefs=([^;]+)/);if(cookie){var', 'featureName=cookie[1];document.documentElement.className=document.documentElement.className.replace(featureName+\\'-enabled\\',featureName+\\'-disabled\\');}}());RLCONF={\"wgBreakFrames\":false,\"wgSeparatorTransformTable\":[\",\\\\t.\",\"', '\\\\t,\"],\"wgDigitTransformTable\":[\"\",\"\"],\"wgDefaultDateFormat\":\"dmy\",\"wgMonthNames\":[\"\",\"enero\",\"febrero\",\"marzo\",\"abril\",\"mayo\",\"junio\",\"julio\",\"agosto\",\"septiembre\",\"octubre\",\"noviembre\",\"diciembre\"],\"wgRequestId\":\"abfb3b0f-3dd8-4a16-8b2d-f070bdf6b917\",', '\"wgCSPNonce\":false,\"wgCanonicalNamespace\":\"\",\"wgCanonicalSpecialPageName\":false,\"wgNamespaceNumber\":0,\"wgPageName\":\"Teoría_de_juegos\",\"wgTitle\":\"Teoría', 'de', 'juegos\",\"wgCurRevisionId\":151063250,\"wgRevisionId\":151063250,\"wgArticleId\":18600,\"wgIsArticle\":true,\"wgIsRedirect\":false,\"wgAction\":\"view\",\"wgUserName\":null,\"wgUserGroups\":[\"*\"],\"wgCategories\":[\"Wikipedia:Páginas', 'con', 'enlaces', 'mágicos', 'de', 'ISBN\",\"Wikipedia:Artículos', 'que', 'necesitan', 'referencias', 'adicionales\",\"Wikipedia:Referenciar', '(aún', 'sin', 'clasificar)\",\"Wikipedia:Artículos', 'con', 'identificadores', 'BNE\",\"Wikipedia:Artículos', 'con', 'identificadores', 'BNF\",\"Wikipedia:Artículos', 'con', 'identificadores', 'GND\",\"Wikipedia:Artículos', 'con', 'identificadores', 'LCCN\",\"Teoría', 'de', 'juegos\"],\"wgPageViewLanguage\":\"es\",\"wgPageContentLanguage\":\"es\",\"wgPageContentModel\":\"wikitext\",\"wgRelevantPageName\":\"Teoría_de_juegos\",\"wgRelevantArticleId\":18600,\"wgIsProbablyEditable\":true,\"wgRelevantPageIsProbablyEditable\":true,\"wgRestrictionEdit\":[],\"wgRestrictionMove\":[],', '\"wgVisualEditor\":{\"pageLanguageCode\":\"es\",\"pageLanguageDir\":\"ltr\",\"pageVariantFallbacks\":\"es\"},\"wgMFDisplayWikibaseDescriptions\":{\"search\":true,\"watchlist\":true,\"tagline\":true,\"nearby\":true},\"wgWMESchemaEditAttemptStepOversample\":false,\"wgWMEPageLength\":70000,\"wgNoticeProject\":\"wikipedia\",\"wgMediaViewerOnClick\":true,\"wgMediaViewerEnabledByDefault\":true,\"wgPopupsFlags\":10,\"wgULSCurrentAutonym\":\"español\",\"wgEditSubmitButtonLabelPublish\":true,\"wgCentralAuthMobileDomain\":false,\"wgULSPosition\":\"interlanguage\",\"wgULSisCompactLinksEnabled\":true,\"wgULSisLanguageSelectorEmpty\":false,\"wgWikibaseItemId\":\"Q44455\",\"GEHomepageSuggestedEditsEnableTopics\":true,\"wgGETopicsMatchModeEnabled\":true,\"wgGEStructuredTaskRejectionReasonTextInputEnabled\":false,\"wgGELevelingUpEnabledForUser\":false};RLSTATE={\"skins.vector.user.styles\":\"ready\",\"ext.gadget.imagenesinfobox\":\"ready\",\"ext.globalCssJs.user.styles\":\"ready\",\"site.styles\":\"ready\",\"user.styles\":\"ready\",\"skins.vector.user\":\"ready\",\"ext.globalCssJs.user\":', '\"ready\",\"user\":\"ready\",\"user.options\":\"loading\",\"ext.cite.styles\":\"ready\",\"codex-search-styles\":\"ready\",\"skins.vector.styles\":\"ready\",\"skins.vector.icons\":\"ready\",\"ext.visualEditor.desktopArticleTarget.noscript\":\"ready\",\"ext.wikimediaBadges\":\"ready\",\"ext.uls.interlanguage\":\"ready\",\"wikibase.client.init\":\"ready\"};RLPAGEMODULES=[\"ext.cite.ux-enhancements\",\"site\",\"mediawiki.page.ready\",\"mediawiki.toc\",\"skins.vector.js\",\"mmv.head\",\"mmv.bootstrap.autostart\",\"ext.visualEditor.desktopArticleTarget.init\",\"ext.visualEditor.targetLoader\",\"ext.eventLogging\",\"ext.wikimediaEvents\",\"ext.navigationTiming\",\"ext.cx.eventlogging.campaigns\",\"ext.quicksurveys.init\",\"ext.centralNotice.geoIP\",\"ext.centralNotice.startUp\",\"ext.gadget.a-commons-directo\",\"ext.gadget.ReferenceTooltips\",\"ext.gadget.refToolbar\",\"ext.gadget.switcher\",\"ext.centralauth.centralautologin\",\"ext.popups\",\"ext.echo.centralauth\",\"ext.uls.compactlinks\",\"ext.uls.interface\",\"ext.cx.uls.quick.actions\",\"wikibase.client.vector-2022\",', '\"ext.growthExperiments.SuggestedEditSession\"];(RLQ=window.RLQ||[]).push(function(){mw.loader.implement(\"user.options@12s5i\",function($,jQuery,require,module){mw.user.tokens.set({\"patrolToken\":\"+\\\\\\\\\",\"watchToken\":\"+\\\\\\\\\",\"csrfToken\":\"+\\\\\\\\\"});});});Ir', 'al', 'contenidoMenú', 'principalMenú', 'principalmover', 'a', 'la', 'barra', 'lateralocultarNavegaciónPortadaPortal', 'de', 'la', 'comunidadActualidadCambios', 'recientesPáginas', 'nuevasPágina', 'aleatoriaAyudaDonacionesNotificar', 'un', 'errorIdiomasEn', 'Wikipedia,', 'los', 'enlaces', 'de', 'idiomas', 'se', 'encuentran', 'en', 'la', 'parte', 'superior', 'de', 'la', 'página,', 'frente', 'al', 'título', 'del', 'artículo.Ir', 'arriba.BuscarBuscarCrear', 'una', 'cuentaAccederHerramientas', 'personalesCrear', 'una', 'cuentaAccederPáginas', 'para', 'editores', 'desconectadosmás', 'informaciónContribucionesDiscusiónContenidosmover', 'a', 'la', 'barra', 'lateralocultarInicio1Representación', 'de', 'juegosAlternar', 'subsección', 'Representación', 'de', 'juegos1.1Forma', 'normal', 'de', 'un', 'juego1.2Forma', 'extensiva', 'de', 'un', 'juego2Tipos', 'de', 'juegos', 'y', 'ejemplosAlternar', 'subsección', 'Tipos', 'de', 'juegos', 'y', 'ejemplos2.1Juegos', 'simétricos', 'y', 'asimétricos2.2Juegos', 'de', 'suma', 'cero', 'y', 'de', 'suma', 'distinta', 'de', 'cero2.3Criterios', '«maximin»', 'y', '«minimax»2.4Equilibrio', 'de', 'Nash2.5Juegos', 'cooperativos2.6Simultáneos', 'y', 'secuenciales2.7Juegos', 'de', 'información', 'perfecta2.8Juegos', 'de', 'longitud', 'infinita2.9Juegos', 'combinatorios2.10Juego', 'continuo2.11Juegos', 'diferenciales2.12Juegos', 'de', 'muchos', 'jugadores', 'y', 'poblaciones2.13Resultados', 'estocásticos', '(y', 'relación', 'con', 'otros', 'campos)2.14Metagames3AplicacionesAlternar', 'subsección', 'Aplicaciones3.1Economía', 'y', 'negocios3.1.1Descriptiva3.1.2Normativa3.2Psicología', 'y', 'psiquiatría3.3Biología3.4Informática', 'y', 'lógica3.5Ciencia', 'política3.6Derecho', 'Penal', 'y', 'Criminología3.7Filosofía3.8Música3.9Optimización', 'de', 'diseño4Críticas', 'y', 'límites', 'a', 'la', 'Teoría', 'de', 'Juegos5Historia', 'de', 'la', 'teoría', 'de', 'juegos6Véase', 'también7BibliografíaAlternar', 'subsección', 'Bibliografía7.1Referencias', 'generales7.2Lecturas', 'adicionales7.3Textos', 'de', 'importancia', 'histórica8Notas9Enlaces', 'externosAlternar', 'subsección', 'Enlaces', 'externos9.1En', 'español9.2En', 'inglésCambiar', 'a', 'la', 'tabla', 'de', 'contenidosCambiar', 'a', 'la', 'tabla', 'de', 'contenidosTeoría', 'de', 'juegos83', 'idiomasالعربيةAsturianuAzərbaycancaBoarischБеларускаяБългарскиবাংলাCatalàČeštinaCymraegDanskDeutschΕλληνικάEnglishEsperantoEestiEuskaraفارسیSuomiFrançaisGaeilge贛語Kriyòl', 'gwiyannenGalegoעבריתहिन्दीHrvatskiMagyarՀայերենInterlinguaBahasa', 'IndonesiaIdoÍslenskaItaliano日本語PatoisქართულიҚазақшаភាសាខ្មែរ한국어КыргызчаLietuviųLatviešuМакедонскиമലയാളംМонголBahasa', 'MelayuNederlandsNorsk', 'nynorskNorsk', 'bokmålNovialOccitanਪੰਜਾਬੀDeitschPolskiپښتوPortuguêsRomânăРусскийSicilianuSrpskohrvatski', '/', 'српскохрватскиසිංහලSimple', 'EnglishSlovenčinaSlovenščinaShqipСрпски', '/', 'srpskiSvenskaதமிழ்ไทยTagalogTürkçeئۇيغۇرچە', '/', 'UyghurcheУкраїнськаاردوOʻzbekcha', '/', 'ўзбекчаTiếng', 'ViệtWinaray吴语ייִדיש中文Bân-lâm-gú粵語Editar', 'enlacesArtículoDiscusiónespañolLeerEditarVer', 'historialHerramientasHerramientasmover', 'a', 'la', 'barra', 'lateralocultarAccionesLeerEditarVer', 'historialGeneralLo', 'que', 'enlaza', 'aquíCambios', 'en', 'enlazadasSubir', 'archivoPáginas', 'especialesEnlace', 'permanenteInformación', 'de', 'la', 'páginaCitar', 'esta', 'páginaElemento', 'de', 'WikidataImprimir/exportarCrear', 'un', 'libroDescargar', 'como', 'PDFVersión', 'para', 'imprimirEn', 'otros', 'proyectosWikimedia', 'CommonsDe', 'Wikipedia,', 'la', 'enciclopedia', 'libreEste', 'artículo', 'o', 'sección', 'tienereferencias,', 'pero', 'necesita', 'más', 'para', 'complementar', 'suverificabilidad.Este', 'aviso', 'fue', 'puesto', 'el', '26', 'de', 'enero', 'de', '2017.No', 'debe', 'confundirse', 'conLudificación.Lateoría', 'de', 'juegoses', 'un', 'área', 'de', 'lamatemática', 'aplicadaque', 'utilizamodelospara', 'estudiar', 'interacciones', 'en', 'estructuras', 'formalizadas', 'de', 'incentivos', '(los', 'llamados', '«juegos»).', 'La', 'teoría', 'de', 'juegos', 'se', 'ha', 'convertido', 'en', 'una', 'herramienta', 'sumamente', 'importante', 'para', 'laciencia', 'económicay', 'ha', 'contribuido', 'a', 'comprender', 'más', 'adecuadamente', 'la', 'conducta', 'humana', 'frente', 'a', 'la', 'toma', 'de', 'decisiones.', 'Sus', 'investigadores', 'estudian', 'lasestrategiasóptimas,', 'así', 'como', 'el', 'comportamiento', 'previsto', 'y', 'observado', 'de', 'individuos', 'en', 'juegos.', 'Tipos', 'de', 'interacción', 'aparentemente', 'distintos', 'pueden', 'presentar', 'en', 'realidad', 'una', 'estructura', 'de', 'incentivo', 'similar', 'y,', 'por', 'lo', 'tanto,', 'se', 'puede', 'representar', 'mil', 'veces', 'conjuntamente', 'un', 'mismo', 'juego.[1]\\u200bDesarrollada', 'en', 'sus', 'comienzos', 'como', 'una', 'herramienta', 'para', 'entender', 'el', 'comportamiento', 'de', 'laeconomía,', 'la', 'teoría', 'de', 'juegos', 'se', 'ha', 'ido', 'extendiendo', 'a', 'muchos', 'otros', 'campos,', 'como', 'labiología,', 'lasciencias', 'de', 'la', 'computación,', 'lasociología,', 'lapolitología,', 'lapsicologíay', 'lafilosofía.', 'Experimentó', 'un', 'crecimiento', 'sustancial', 'y', 'se', 'formalizó', 'por', 'primera', 'vez', 'a', 'partir', 'de', 'los', 'trabajos', 'deJohn', 'von', 'NeumannyOskar', 'Morgenstern,', 'antes', 'y', 'durante', 'laGuerra', 'Fría,', 'debido', 'sobre', 'todo', 'a', 'su', 'aplicación', 'a', 'laestrategia', 'militar,', 'en', 'particular', 'a', 'causa', 'del', 'concepto', 'dedestrucción', 'mutua', 'garantizada.', 'Desde', 'los', 'setenta,', 'la', 'teoría', 'de', 'juegos', 'se', 'ha', 'aplicado', 'a', 'la', 'conducta', 'animal,', 'incluyendo', 'el', 'desarrollo', 'de', 'las', 'especies', 'por', 'la', 'selección', 'natural.', 'A', 'raíz', 'de', 'juegos', 'como', 'eldilema', 'del', 'prisionero,', 'en', 'los', 'que', 'el', 'egoísmo', 'generalizado', 'perjudica', 'a', 'los', 'jugadores,', 'la', 'teoría', 'de', 'juegos', 'ha', 'atraído', 'también', 'la', 'atención', 'de', 'los', 'investigadores', 'eninformática,', 'usándose', 'eninteligencia', 'artificialycibernética.Los', 'conflictos', 'entre', 'seres', 'racionales', 'que', 'recelan', 'uno', 'del', 'otro,', 'o', 'la', 'pugna', 'entre', 'competidores', 'que', 'interactúan', 'y', 'se', 'influyen', 'mutuamente,', 'que', 'piensan', 'y', 'que,', 'incluso,', 'pueden', 'ser', 'capaces', 'de', 'traicionarse', 'uno', 'al', 'otro,', 'constituyen', 'el', 'campo', 'de', 'estudio', 'de', 'la', 'teoría', 'de', 'juegos,', 'la', 'cual', 'se', 'basa', 'en', 'un', 'análisis', 'matemático', 'riguroso', 'pero', 'que,', 'sin', 'embargo,', 'surge', 'de', 'manera', 'natural', 'al', 'observar', 'y', 'analizar', 'un', 'conflicto', 'desde', 'un', 'punto', 'de', 'vista', 'racional.', 'Desde', 'el', 'enfoque', 'de', 'esta', 'teoría,', 'un', '«juego»', 'es', 'una', 'situación', 'conflictiva', 'en', 'la', 'que', 'priman', 'intereses', 'contrapuestos', 'de', 'individuos', 'o', 'instituciones,', 'y', 'en', 'ese', 'contexto', 'una', 'parte,', 'al', 'tomar', 'una', 'decisión,', 'influye', 'sobre', 'la', 'decisión', 'que', 'tomará', 'la', 'otra;', 'así,', 'el', 'resultado', 'del', 'conflicto', 'se', 'determina', 'a', 'partir', 'de', 'todas', 'las', 'decisiones', 'tomadas', 'por', 'todos', 'los', 'actuantes.La', 'teoría', 'de', 'juegos', 'plantea', 'que', 'debe', 'haber', 'una', 'forma', 'racional', 'de', 'jugar', 'a', 'cualquier', '«juego»', '(o', 'de', 'negociar', 'en', 'un', 'conflicto),', 'especialmente', 'en', 'el', 'caso', 'de', 'haber', 'muchas', 'situaciones', 'engañosas', 'y', 'segundas', 'intenciones;', 'así,', 'por', 'ejemplo,', 'la', 'anticipación', 'mutua', 'de', 'las', 'intenciones', 'del', 'contrario,', 'que', 'sucede', 'en', 'juegos', 'como', 'el', 'ajedrez', 'o', 'el', 'póquer,', 'da', 'lugar', 'a', 'cadenas', 'de', 'razonamiento', 'teóricamente', 'infinitas,', 'las', 'cuales', 'pueden', 'también', 'trasladarse', 'al', 'ámbito', 'de', 'resolución', 'de', 'conflictos', 'reales', 'y', 'complejos.', 'En', 'síntesis,', 'y', 'tal', 'como', 'se', 'comentó,', 'los', 'individuos,', 'al', 'interactuar', 'en', 'un', 'conflicto,', 'obtendrán', 'resultados', 'que', 'de', 'algún', 'modo', 'son', 'totalmente', 'dependientes', 'de', 'tal', 'interacción.[2]\\u200bAsí,', 'desde', 'que', 'Von', 'Neumann,', 'Morgenstern', 'yJohn', 'Nashdelinearon', 'los', 'postulados', 'básicos', 'de', 'esta', 'teoría', 'durante', 'las', 'décadas', 'del', '40', 'y', '50,', 'varias', 'han', 'sido', 'las', 'aplicaciones', 'que', 'se', 'le', 'han', 'otorgado', 'a', 'esta', 'herramienta', 'en', 'el', 'campo', 'de', 'las', 'decisiones', 'económicas,', 'llegando', 'incluso', 'a', 'modificar', 'el', 'modo', 'en', 'que', 'los', 'economistas', 'interpretaban', 'la', 'toma', 'de', 'decisiones', 'y', 'la', 'consecución', 'del', 'bienestar', 'común.Representación', 'de', 'juegos[editar]Eldilema', 'del', 'prisioneroUno', 'de', 'los', 'problemas', 'que', 'plantea', 'el', 'equilibrio', 'de', 'Nash', 'se', 'halla', 'en', 'que', 'no', 'conduce', 'necesariamente', 'a', 'situaciones', 'eficientes', 'en', 'el', 'sentido', 'de', 'Pareto1.', 'El', 'análisis', 'original', 'de', 'este', 'juego', 'se', 'basa', 'en', 'una', 'situación', 'en', 'la', 'que', 'se', 'interroga', 'en', 'habitaciones', 'distintas', 'a', 'dos', 'personas', 'que', 'han', 'cometido', 'conjuntamente', 'un', 'robo', 'armado', 'a', 'un', 'banco;', 'sin', 'embargo,', 'el', 'dinero', 'sustraído', 'no', 'se', 'encuentra', 'en', 'sus', 'manos', 'y,', 'por', 'ello,', 'la', 'policía', 'solo', 'puede', 'inculparlos', 'por', 'tenencia', 'ilícita', 'de', 'armas,', 'al', 'carecer', 'de', 'otras', 'pruebas.', 'Así,', 'al', 'ser', 'interrogados', 'por', 'separado,', 'cada', 'uno', 'de', 'ellos', 'tendría', 'la', 'posibilidad', 'de', 'confesarse', 'culpable,', 'implicar', 'al', 'otro', 'prisionero', 'o', 'negar', 'haber', 'participado', 'en', 'el', 'atraco.', 'Sin', 'embargo,', 'la', 'policía', 'puede', 'proponerles', 'un', 'trato', 'y,', 'a', 'través', 'del', 'uso', 'de', 'un', 'adecuado', 'esquema', 'de', 'incentivos,', 'hacer', 'que', 'ambos', 'confiesen', 'la', 'participación', 'en', 'el', 'hecho,', 'lograr', 'que', 'la', 'verdad', 'salga', 'a', 'la', 'luz', 'y', 'condenarlos.', 'A', 'continuación', 'se', 'verá', 'que', 'una', 'adecuada', 'propuesta', 'efectuada', 'por', 'el', 'cuerpo', 'de', 'policías,', 'puede', 'conducir', 'a', 'que', 'la', 'racionalidad', 'y', 'el', 'egoísmo', 'individual', 'con', 'el', 'que', 'suelen', 'ser', 'tomadas', 'las', 'decisiones', 'puede', 'volverse', 'en', 'contra', 'del', 'interés', 'conjunto', 'de', 'estos', 'sujetos.', 'Para', 'demostrar', 'esto,', 'considérese', 'por', 'ejemplo,', 'el', 'juego', 'denominadoEl', 'dilema', 'del', 'prisionero.', 'Este', 'juego', 'permite', 'comprender', 'que', 'mantener', 'la', 'cooperación', 'es', 'algo', 'sumamente', 'difícil.', 'Muchas', 'veces', 'los', 'individuos', 'no', 'cooperan', '(este', 'caso', 'es', 'un', 'ejemplo', 'paradójico,', 'ya', 'que', 'demuestra', 'los', 'beneficios', 'que', 'se', 'obtendrían', 'al', 'mantener', 'la', 'cooperación', 'entre', 'cualquier', 'grupo', 'de', 'individuos,', 'pero', 'a', 'la', 'vez', 'demuestra', 'que', 'ello,', 'bajo', 'ciertos', 'postulados,', 'es', 'imposible', 'de', 'conseguir),', 'y', 'sus', 'decisiones', 'individuales', 'no', 'necesariamente', 'conducen', 'al', 'mutuo', 'bienestar.Forma', 'normal', 'de', 'un', 'juego[editar]Un', 'juego', 'en', 'forma', 'normalEl', 'jugador', '2', 'elige', 'izquierdaEl', 'jugador', '2', 'elige', 'derechaEl', 'jugador', '1', 'elige', 'arriba4,3-1,-1El', 'jugador', '1', 'elige', 'abajo0,03,4Artículo', 'principal:Forma', 'normal', 'de', 'un', 'juegoLa', 'forma', 'normal', '(o', 'forma', 'estratégica)', 'de', 'un', 'juego', 'es', 'unamatriz', 'de', 'pagos,', 'que', 'muestra', 'los', 'jugadores,', 'las', 'estrategias', 'y', 'las', 'recompensas', '(ver', 'el', 'ejemplo', 'a', 'la', 'derecha).', 'Hay', 'dos', 'tipos', 'de', 'jugadores;', 'uno', 'elige', 'la', 'fila', 'y', 'otro', 'la', 'columna.', 'Cada', 'jugador', 'tiene', 'dos', 'estrategias,', 'que', 'están', 'especificadas', 'por', 'el', 'número', 'de', 'filas', 'y', 'el', 'número', 'de', 'columnas.', 'Las', 'recompensas', 'se', 'especifican', 'en', 'el', 'interior.', 'El', 'primer', 'número', 'es', 'la', 'recompensa', 'recibida', 'por', 'el', 'jugador', 'de', 'las', 'filas', '(elJugador', '1en', 'nuestro', 'ejemplo);', 'el', 'segundo', 'es', 'la', 'recompensa', 'del', 'jugador', 'de', 'las', 'columnas', '(elJugador', '2en', 'nuestro', 'ejemplo).', 'Si', 'eljugador', '1elige', 'arriba', 'y', 'eljugador', '2elige', 'izquierda', 'entonces', 'sus', 'recompensas', 'son', '4', 'y', '3,', 'respectivamente.Cuando', 'un', 'juego', 'se', 'presenta', 'en', 'forma', 'normal,', 'se', 'presupone', 'que', 'todos', 'los', 'jugadores', 'actúan', 'simultáneamente', 'o,', 'al', 'menos,', 'sin', 'saber', 'la', 'elección', 'que', 'toma', 'el', 'otro.', 'Si', 'los', 'jugadores', 'tienen', 'alguna', 'información', 'acerca', 'de', 'las', 'elecciones', 'de', 'otros', 'jugadores', 'el', 'juego', 'se', 'presenta', 'habitualmente', 'en', 'la', 'forma', 'extensiva.También', 'existe', 'una', 'forma', 'normal', 'reducida.', 'Ésta', 'combina', 'estrategias', 'asociadas', 'con', 'el', 'mismo', 'pago.Forma', 'extensiva', 'de', 'un', 'juego[editar]Artículo', 'principal:Juegos', 'en', 'forma', 'extensivaUn', 'juego', 'en', 'forma', 'extensiva.La', 'representación', 'de', 'juegos', 'en', 'forma', 'extensiva', 'modela', 'juegos', 'con', 'algún', 'orden', 'que', 'se', 'debe', 'considerar.', 'Los', 'juegos', 'se', 'presentan', 'comoárboles(como', 'se', 'muestra', 'a', 'la', 'derecha).', 'Cadavérticeonodorepresenta', 'un', 'punto', 'donde', 'el', 'jugador', 'toma', 'decisiones.', 'El', 'jugador', 'se', 'específica', 'por', 'un', 'número', 'situado', 'junto', 'al', 'vértice.', 'Las', 'líneas', 'que', 'parten', 'del', 'vértice', 'representan', 'acciones', 'posibles', 'para', 'el', 'jugador.', 'Las', 'recompensas', 'se', 'especifican', 'en', 'las', 'hojas', 'del', 'árbol.En', 'el', 'juego', 'que', 'se', 'muestra', 'en', 'el', 'ejemplo', 'hay', 'dos', 'jugadores.', 'Eljugador', '1mueve', 'primero', 'y', 'eligeFoU.', 'Eljugador', '2ve', 'el', 'movimiento', 'deljugador', '1y', 'eligeAoR.', 'Si', 'eljugador', '1eligeUy', 'entonces', 'eljugador', '2eligeA,', 'entonces', 'eljugador', '1obtiene', '8', 'y', 'eljugador', '2obtiene', '2.Los', 'juegos', 'en', 'forma', 'extensiva', 'pueden', 'modelar', 'también', 'juegos', 'de', 'movimientos', 'simultáneos.', 'En', 'esos', 'casos', 'se', 'dibuja', 'una', 'línea', 'punteada', 'o', 'un', 'círculo', 'alrededor', 'de', 'dos', 'vértices', 'diferentes', 'para', 'representarlos', 'como', 'parte', 'del', 'mismoconjunto', 'de', 'información(por', 'ejemplo,', 'cuando', 'los', 'jugadores', 'no', 'saben', 'en', 'qué', 'punto', 'se', 'encuentran).La', 'forma', 'normal', 'da', 'al', 'matemático', 'una', 'notación', 'sencilla', 'para', 'el', 'estudio', 'de', 'los', 'problemas', 'de', 'equilibrio,', 'porque', 'desestima', 'la', 'cuestión', 'de', 'cómo', 'las', 'estrategias', 'son', 'calculadas', 'o,', 'en', 'otras', 'palabras,', 'de', 'cómo', 'el', 'juego', 'es', 'jugado', 'en', 'realidad.', 'La', 'notación', 'conveniente', 'para', 'tratar', 'estas', 'cuestiones,', 'más', 'relevantes', 'para', 'lateoría', 'combinatoria', 'de', 'juegos,', 'es', 'la', 'forma', 'extensiva', 'del', 'juego.Tipos', 'de', 'juegos', 'y', 'ejemplos[editar]La', 'teoría', 'clasifica', 'los', 'juegos', 'en', 'muchas', 'categorías', 'que', 'determinan', 'qué', 'métodos', 'particulares', 'se', 'pueden', 'aplicar', 'para', 'resolverlos', '(y,', 'de', 'hecho,', 'también', 'cómo', 'se', 'define', '\"resolución\"', 'en', 'una', 'categoría', 'particular).', 'Las', 'categorías', 'comunes', 'incluyen:Juegos', 'simétricos', 'y', 'asimétricos[editar]Artículo', 'principal:Juego', 'simétricoUn', 'juego', 'asimétricoEFE1,', '20,', '0F0,', '01,', '2Un', 'juego', 'simétrico', 'es', 'un', 'juego', 'en', 'el', 'que', 'las', 'recompensas', 'por', 'jugar', 'una', 'estrategia', 'en', 'particular', 'dependen', 'solo', 'de', 'las', 'estrategias', 'que', 'empleen', 'los', 'otros', 'jugadores', 'y', 'no', 'de', 'quien', 'las', 'juegue.', 'Si', 'las', 'identidades', 'de', 'los', 'jugadores', 'pueden', 'cambiarse', 'sin', 'que', 'cambien', 'las', 'recompensas', 'de', 'las', 'estrategias,', 'entonces', 'el', 'juego', 'es', 'simétrico.', 'Muchos', 'de', 'los', 'juegos', '2×2', 'más', 'estudiados', 'son', 'simétricos.', 'Las', 'representaciones', 'estándar', 'deljuego', 'del', 'gallina,', 'eldilema', 'del', 'prisioneroy', 'lacaza', 'del', 'ciervoson', 'juegos', 'simétricos.[3]\\u200bLos', 'juegos', 'asimétricos', 'más', 'estudiados', 'son', 'los', 'juegos', 'donde', 'no', 'hay', 'conjuntos', 'de', 'estrategias', 'idénticas', 'para', 'ambos', 'jugadores.', 'Por', 'ejemplo,', 'eljuego', 'del', 'ultimátumy', 'eljuego', 'del', 'dictadortienen', 'diferentes', 'estrategias', 'para', 'cada', 'jugador;', 'no', 'obstante,', 'puede', 'haber', 'juegos', 'asimétricos', 'con', 'estrategias', 'idénticas', 'para', 'cada', 'jugador.', 'Por', 'ejemplo,', 'el', 'juego', 'mostrado', 'a', 'la', 'derecha', 'es', 'asimétrico', 'a', 'pesar', 'de', 'tener', 'conjuntos', 'de', 'estrategias', 'idénticos', 'para', 'ambos', 'jugadores.Juegos', 'de', 'suma', 'cero', 'y', 'de', 'suma', 'distinta', 'de', 'cero[editar]Artículo', 'principal:Juego', 'de', 'suma', 'ceroUn', 'juego', 'de', 'suma', 'ceroABC130,', '-30-10,', '1020,', '-20210,', '-1020,', '-20-30,', '30En', 'los', 'juegos', 'desuma', 'ceroel', 'beneficio', 'total', 'para', 'todos', 'los', 'jugadores', 'del', 'juego,', 'en', 'cada', 'combinación', 'de', 'estrategias,', 'siempre', 'suma', 'cero', '(en', 'otras', 'palabras,', 'un', 'jugador', 'se', 'beneficia', 'solamente', 'a', 'expensas', 'de', 'otros).', 'Elgo,', 'elajedrez,', 'elpókery', 'eljuego', 'del', 'ososon', 'ejemplos', 'de', 'juegos', 'de', 'suma', 'cero,', 'porque', 'se', 'gana', 'exactamente', 'la', 'cantidad', 'que', 'pierde', 'el', 'oponente.', 'Como', 'curiosidad,', 'elfútboldejó', 'hace', 'unos', 'años', 'de', 'ser', 'de', 'suma', 'cero,', 'pues', 'las', 'victorias', 'reportaban', '2', 'puntos', 'y', 'el', 'empate', '1', '(considérese', 'que', 'ambos', 'equipos', 'parten', 'inicialmente', 'con', '1', 'punto),', 'mientras', 'que', 'en', 'la', 'actualidad', 'las', 'victorias', 'reportan', '3', 'puntos', 'y', 'el', 'empate', '1.La', 'mayoría', 'de', 'los', 'ejemplos', 'reales', 'en', 'negocios', 'y', 'política,', 'al', 'igual', 'que', 'eldilema', 'del', 'prisionero,', 'son', 'juegos', 'de', 'suma', 'distinta', 'de', 'cero,', 'porque', 'algunos', 'desenlaces', 'tienen', 'resultados', 'netos', 'mayores', 'o', 'menores', 'que', 'cero.', 'Es', 'decir,', 'la', 'ganancia', 'de', 'un', 'jugador', 'no', 'necesariamente', 'se', 'corresponde', 'con', 'la', 'pérdida', 'de', 'otro.', 'Por', 'ejemplo,', 'un', 'contrato', 'de', 'negocios', 'involucra', 'idealmente', 'un', 'desenlace', 'de', 'suma', 'positiva,', 'donde', 'cada', 'oponente', 'termina', 'en', 'una', 'posición', 'mejor', 'que', 'la', 'que', 'tendría', 'si', 'no', 'se', 'hubiera', 'dado', 'la', 'negociación.Se', 'puede', 'analizar', 'más', 'fácilmente', 'un', 'juego', 'de', 'suma', 'distinta', 'de', 'cero,', 'y', 'cualquier', 'juego', 'se', 'puede', 'transformar', 'en', 'un', 'juego', 'de', 'suma', 'cero', 'añadiendo', 'un', 'jugador', '\"ficticio\"', 'adicional', '(\"el', 'tablero\"', 'o', '\"la', 'banca\"),', 'cuyas', 'pérdidas', 'compensen', 'las', 'ganancias', 'netas', 'de', 'los', 'jugadores.La', 'matriz', 'de', 'pagos', 'de', 'un', 'juego', 'es', 'una', 'forma', 'conveniente', 'de', 'representación.', 'Por', 'ejemplo,', 'un', 'juego', 'de', 'suma', 'cero', 'de', 'dos', 'jugadores', 'con', 'la', 'matriz', 'que', 'se', 'muestra', 'a', 'la', 'derecha.Criterios', '«maximin»', 'y', '«minimax»[editar]Los', 'criterios', '«maximin»', 'y', '«minimax»', 'establecen', 'que', 'cada', 'jugador', 'debe', 'minimizar', 'su', 'pérdida', 'máxima:Criterio', '«maximin»:', 'el', 'jugador', 'A,', 'elige', 'que', 'su', 'cobro', 'mínimo', 'posible', 'sea', 'el', 'mayor.Criterio', '«minimax»:', 'el', 'jugador', 'B', 'elige', 'que', 'el', 'pago', 'máximo', 'a', 'A', 'sea', 'el', 'menor', 'posible.Equilibrio', 'de', 'Nash[editar]Los', 'equilibrios', 'de', 'las', 'estrategias', 'dominantes', 'están', 'muy', 'bien', 'cuando', 'aparecen', 'en', 'los', 'juegos,', 'pero', 'desafortunadamente,', 'eso', 'no', 'ocurre', 'con', 'frecuencia.Un', 'par', 'de', 'estrategias', 'es', 'un', 'equilibrio', 'de', 'Nash', 'si', 'la', 'elección', 'del', 'jugador', 'A', 'es', 'óptima,', 'dada', 'elección', 'de', 'B,', 'y', 'la', 'de', 'B', 'es', 'óptima,', 'dada', 'la', 'de', 'A.El', 'equilibrio', 'de', 'Nash', 'puede', 'interpretarse', 'como', 'un', 'par', 'de', 'expectativas', 'sobre', 'la', 'elección', 'de', 'cada', 'persona', 'tal', 'que,', 'cuando', 'la', 'otra', 'revela', 'su', 'elección,', 'ninguna', 'de', 'las', 'dos', 'quiere', 'cambiar', 'de', 'conducta.Cada', 'jugador', 'conoce', 'y', 'ha', 'adoptado', 'su', 'mejor', 'estrategia,', 'y', 'todos', 'conocen', 'las', 'estrategias', 'de', 'los', 'otros.', 'Consecuentemente,', 'cada', 'jugador', 'individual', 'no', 'gana', 'nada', 'modificando', 'su', 'estrategia', 'mientras', 'los', 'otros', 'mantengan', 'las', 'suyas.', 'Así,', 'cada', 'jugador', 'está', 'ejecutando', 'el', 'mejor', '\"movimiento\"', 'que', 'puede', 'dados', 'los', 'movimientos', 'de', 'los', 'demás', 'jugadores.Juegos', 'cooperativos[editar]Artículo', 'principal:Juego', 'cooperativoUnjuego', 'cooperativose', 'caracteriza', 'por', 'un', 'contrato', 'que', 'puede', 'hacerse', 'cumplir.', 'La', 'teoría', 'de', 'los', 'juegos', 'cooperativos', 'da', 'justificaciones', 'de', 'contratos', 'plausibles.', 'La', 'plausibilidad', 'de', 'un', 'contrato', 'está', 'muy', 'relacionada', 'con', 'la', 'estabilidad.Dos', 'jugadores', 'negocian', 'tanto', 'quieren', 'invertir', 'en', 'un', 'contrato.', 'La', 'teoría', 'de', 'la', 'negociación', 'axiomática', 'nos', 'muestra', 'cuánta', 'inversión', 'es', 'conveniente', 'para', 'nosotros.', 'Por', 'ejemplo,', 'la', 'solución', 'de', 'Nash', 'para', 'la', 'negociación', 'demanda', 'que', 'la', 'inversión', 'sea', 'justa', 'y', 'eficiente.De', 'cualquier', 'forma,', 'podríamos', 'no', 'estar', 'interesados', 'en', 'la', 'justicia', 'y', 'exigir', 'más.', 'De', 'hecho,', 'existe', 'un', 'juego', 'no', 'cooperativo', 'creado', 'por', 'Ariel', 'Rubinstein', 'consistente', 'en', 'alternar', 'ofertas,', 'que', 'apoya', 'la', 'solución', 'de', 'Nash', 'considerándola', 'la', 'mejor,', 'mediante', 'el', 'llamadoequilibrio', 'de', 'Nash.El', 'juego', 'cooperativo', 'en', 'la', 'hora', 'de', 'MatemáticaEn', 'este', 'sentido,', 'proponemos', 'analizar', 'secuencias', 'didácticas', 'para', 'que', 'nuestros', 'alumnos', '“hagan', 'matemática”,', 'es', 'decir,', 'exploren,', 'establezcan', 'relaciones,', 'confronten', 'sus', 'producciones', 'con', 'las', 'de', 'otros,', 'discutan', 'con', 'sus', 'pares,', 'tomen', 'decisiones,', 'argumenten,', 'validen', 'proposiciones,', 'produzcan', 'conocimiento.', 'Para', 'que', 'este', 'trabajo', 'sea', 'posible,', 'es', 'necesario', 'plantear', 'problemas', 'que', 'impliquen', 'un', 'cierto', 'nivel', 'de', 'desafío;', 'un', 'contexto', 'fértil', 'para', 'el', 'planteo', 'de', 'esos', 'desafíos', 'es', 'el', 'de', 'los', 'juegos.Simultáneos', 'y', 'secuenciales[editar]Los', 'juegos', 'simultáneos', 'son', 'juegos', 'en', 'los', 'que', 'los', 'jugadores', 'mueven', 'simultáneamente', 'o', 'en', 'los', 'que', 'éstos', 'desconocen', 'los', 'movimientos', 'anteriores', 'de', 'otros', 'jugadores.', 'Los', 'juegos', 'secuenciales', '(o', 'dinámicos)', 'son', 'juegos', 'en', 'los', 'que', 'los', 'jugadores', 'posteriores', 'tienen', 'algún', 'conocimiento', 'de', 'las', 'acciones', 'previas.', 'Este', 'conocimiento', 'no', 'necesariamente', 'tiene', 'que', 'ser', 'perfecto;', 'solo', 'debe', 'consistir', 'en', 'algo', 'de', 'información.', 'Por', 'ejemplo,', 'un', 'jugador1', 'puede', 'conocer', 'que', 'un', 'jugador2', 'no', 'realizó', 'una', 'acción', 'determinada,', 'pero', 'no', 'saber', 'cuál', 'de', 'las', 'otras', 'acciones', 'disponibles', 'eligió.La', 'diferencia', 'entre', 'juegos', 'simultáneos', 'y', 'secuenciales', 'se', 'recoge', 'en', 'las', 'representaciones', 'discutidas', 'previamente.', 'La', 'forma', 'normal', 'se', 'usa', 'para', 'representar', 'juegos', 'simultáneos,', 'y', 'la', 'extensiva', 'para', 'representar', 'juegos', 'secuenciales.Juegos', 'de', 'información', 'perfecta[editar]Un', 'juego', 'de', 'información', 'imperfecta', '(las', 'líneas', 'punteadas', 'representan', 'la', 'ignorancia', 'de', 'la', 'parte', 'del', 'jugador', '2).Un', 'subconjunto', 'importante', 'de', 'los', 'juegos', 'secuenciales', 'es', 'el', 'conjunto', 'de', 'los', 'juegos', 'de', 'información', 'perfecta.', 'Un', 'juego', 'es', 'de', 'información', 'perfecta', 'si', 'todos', 'los', 'jugadores', 'conocen', 'los', 'movimientos', 'que', 'han', 'efectuado', 'previamente', 'todos', 'los', 'otros', 'jugadores;', 'así', 'que', 'solo', 'los', 'juegos', 'secuenciales', 'pueden', 'ser', 'juegos', 'de', 'información', 'perfecta,', 'pues', 'en', 'los', 'juegos', 'simultáneos', 'no', 'todos', 'los', 'jugadores', '(a', 'menudo', 'ninguno)', 'conocen', 'las', 'acciones', 'del', 'resto.', 'La', 'mayoría', 'de', 'los', 'juegos', 'estudiados', 'en', 'la', 'teoría', 'de', 'juegos', 'son', 'juegos', 'de', 'información', 'imperfecta,', 'aunque', 'algunos', 'juegos', 'interesantes', 'son', 'de', 'información', 'perfecta,', 'incluyendo', 'el', 'juego', 'del', 'ultimátum', 'y', 'eljuego', 'del', 'ciempiés.', 'También', 'muchos', 'juegos', 'populares', 'son', 'de', 'información', 'perfecta,', 'incluyendo', 'elajedrezy', 'elgo.La', 'información', 'perfecta', 'se', 'confunde', 'a', 'menudo', 'con', 'lainformación', 'completa,', 'que', 'es', 'un', 'concepto', 'similar.', 'La', 'información', 'completa', 'requiere', 'que', 'cada', 'jugador', 'conozca', 'las', 'estrategias', 'y', 'recompensas', 'del', 'resto', 'pero', 'no', 'necesariamente', 'las', 'acciones.En', 'los', 'juegos', 'de', 'información', 'completa', 'cada', 'jugador', 'tiene', 'la', 'misma', '\"información', 'relevante', 'al', 'juego\"', 'que', 'los', 'demás', 'jugadores.', 'Elajedrezy', 'eldilema', 'del', 'prisioneroejemplifican', 'juegos', 'de', 'información', 'completa.', 'Los', 'juegos', 'de', 'información', 'completa', 'ocurren', 'raramente', 'en', 'el', 'mundo', 'real,', 'y', 'los', 'teóricos', 'de', 'los', 'juegos,', 'usualmente', 'los', 'ven', 'solo', 'como', 'aproximaciones', 'al', 'juego', 'realmente', 'jugado.Elmatemáticoinglés,', 'y', 'catedráticoeméritode', 'laUniversidad', 'de', 'Princeton,John', 'Conway,', 'desarrolló', 'una', 'notación', 'para', 'algunosjuegos', 'de', 'información', 'completay', 'definió', 'varias', 'operaciones', 'en', 'esos', 'juegos,', 'originalmente', 'para', 'estudiar', 'los', 'finales', 'dego,', 'aunque', 'buena', 'parte', 'de', 'este', 'análisis', 'se', 'enfocó', 'ennim.', 'Esto', 'devino', 'en', 'la', 'teoría', 'de', 'juegos', 'combinatoria.Conway', 'descubrió', 'que', 'existe', 'una', 'subclase', 'de', 'esos', 'juegos', 'que', 'pueden', 'ser', 'usados', 'como', 'números,', 'como', 'describió', 'en', 'su', 'libroOn', 'Numbers', 'and', 'Games(1976),', 'llegando', 'a', 'la', 'clase', 'muy', 'general', 'de', 'losnúmeros', 'surreales.Juegos', 'de', 'longitud', 'infinita[editar]Por', 'razones', 'obvias,', 'los', 'juegos', 'estudiados', 'por', 'los', 'economistas', 'y', 'los', 'juegos', 'del', 'mundo', 'real', 'finalizan', 'generalmente', 'tras', 'un', 'número', 'finito', 'de', 'movimientos.', 'Los', 'juegos', 'matemáticos', 'puros', 'no', 'tienen', 'estas', 'restricciones', 'y', 'lateoría', 'de', 'conjuntosestudia', 'juegos', 'de', 'infinitos', 'movimientos,', 'donde', 'el', 'ganador', 'no', 'se', 'conocehastaque', 'todos', 'los', 'movimientos', 'se', 'conozcan.El', 'interés', 'en', 'dicha', 'situación', 'no', 'suele', 'ser', 'decidir', 'cuál', 'es', 'la', 'mejor', 'manera', 'de', 'jugar', 'a', 'un', 'juego,', 'sino', 'simplemente', 'qué', 'jugador', 'tiene', 'una', 'estrategia', 'ganadora', '(Se', 'puede', 'probar,', 'usando', 'elaxioma', 'de', 'elección,', 'que', 'hay', 'juegos', '—incluso', 'de', 'información', 'perfecta,', 'y', 'donde', 'las', 'únicas', 'recompensas', 'son', '\"perder\"', 'y', '\"ganar\"—', 'para', 'los', 'queningúnjugador', 'tiene', 'una', 'estrategia', 'ganadora.)', 'La', 'existencia', 'de', 'tales', 'estrategias', 'tiene', 'consecuencias', 'importantes', 'en', 'lateoría', 'descriptiva', 'de', 'conjuntos.Juegos', 'combinatorios[editar]Artículo', 'principal:Teoría', 'de', 'juegos', 'combinatoriosLos', 'juegos', 'en', 'los', 'que', 'la', 'dificultad', 'de', 'encontrar', 'una', 'estrategia', 'óptima', 'proviene', 'de', 'la', 'multiplicidad', 'de', 'movimientos', 'posibles', 'se', 'denominan', 'juegos', 'combinatorios.', 'Algunos', 'ejemplos', 'de', 'estos', 'juegos', 'pueden', 'serajedrezygo.', 'Los', 'juegos', 'que', 'implican', 'información', 'imperfecta', 'o', 'incompleta', 'también', 'pueden', 'tener', 'un', 'fuerte', 'carácter', 'combinatorio,', 'por', 'ejemplo', 'elbackgammon.', 'No', 'hay', 'una', 'teoría', 'unificada', 'que', 'se', 'ocupa', 'de', 'los', 'elementos', 'combinatorios', 'en', 'los', 'juegos.', 'Hay,', 'sin', 'embargo,', 'herramientas', 'matemáticas', 'que', 'pueden', 'resolver', 'problemas', 'particulares', 'y', 'responder', 'a', 'preguntas', 'generales.Se', 'han', 'estudiado', 'juegos', 'deinformación', 'perfectaen', 'la', 'teoría', 'combinatoria', 'de', 'juegos,', 'que', 'ha', 'desarrollado', 'nuevas', 'representaciones,', 'como', 'por', 'ejemplo', 'losnúmeros', 'surreales,', 'así', 'como', 'métodos', 'de', 'prueba', 'combinatorios', 'y', 'algebraicos', '(y', 'a', 'veces', 'no', 'constructivos)', 'pararesolverjuegos', 'de', 'ciertos', 'tipos,', 'incluyendo', 'juegos', '\"loopy\"', 'que', 'pueden', 'dar', 'lugar', 'a', 'secuencias', 'de', 'movimientos', 'infinitamente', 'largas.', 'Estos', 'métodos', 'se', 'dirigen', 'a', 'juegos', 'con', 'mayor', 'complejidad', 'combinatoria', 'que', 'los', 'normalmente', 'considerados', 'en', 'la', 'teoría', 'de', 'juegos', 'tradicional', '(o', '\"económica\").', 'Un', 'juego', 'típico', 'que', 'se', 'ha', 'resuelto', 'de', 'esta', 'manera', 'es', 'hexadecimal.', 'Un', 'campo', 'relacionado', 'de', 'estudio,', 'basado', 'en', 'lateoría', 'de', 'la', 'complejidad', 'computacional,', 'es', 'la', 'complejidad', 'del', 'juego,', 'que', 'se', 'ocupa', 'de', 'estimar', 'la', 'dificultad', 'computacional', 'de', 'encontrar', 'estrategias', 'óptimas.La', 'investigación', 'eninteligencia', 'artificialha', 'abordado', 'juegos', 'de', 'información', 'perfectos', 'e', 'imperfectos', '(o', 'incompletos)', 'que', 'tienen', 'estructuras', 'combinatorias', 'muy', 'complejas', '(como', 'ajedrez,', 'go', 'o', 'backgammon)', 'para', 'los', 'cuales', 'no', 'se', 'han', 'encontrado', 'estrategias', 'óptimas', 'comprobables.', 'Las', 'soluciones', 'prácticas', 'implican', 'laheurísticacomputacional,', 'como', 'lapoda', 'alfa-betao', 'el', 'uso', 'deredes', 'neuronalesartificiales', 'entrenadas', 'por', 'el', 'aprendizaje', 'de', 'refuerzo,', 'que', 'hacen', 'que', 'los', 'juegos', 'sean', 'más', 'manejables', 'en', 'la', 'práctica', 'de', 'la', 'computación.Juego', 'continuo[editar]Gran', 'parte', 'de', 'la', 'teoría', 'de', 'juegos', 'se', 'refiere', 'a', 'juegos', 'finitos', 'y', 'discretos,', 'que', 'tienen', 'un', 'número', 'finito', 'de', 'jugadores,', 'movimientos,', 'eventos,', 'resultados,', 'etc.', 'Sin', 'embargo,', 'muchos', 'conceptos', 'pueden', 'extenderse.', 'Los', 'juegos', 'continuos', 'permiten', 'a', 'los', 'jugadores', 'elegir', 'una', 'estrategia', 'a', 'partir', 'de', 'un', 'conjunto', 'de', 'estrategias', 'continuas.', 'Por', 'ejemplo,', 'lacompetición', 'de', 'Cournotse', 'modela', 'típicamente', 'con', 'las', 'estrategias', 'de', 'los', 'jugadores', 'cualesquiera', 'cantidades', 'no', 'negativas,', 'incluyendo', 'cantidades', 'fraccionarias.Juegos', 'diferenciales[editar]Los', 'juegos', 'diferenciales', 'son', 'juegos', 'continuos', 'donde', 'la', 'evolución', 'de', 'las', 'variables', 'de', 'estado', 'de', 'los', 'jugadores', 'se', 'rige', 'por', 'ecuaciones', 'diferenciales.', 'El', 'problema', 'de', 'encontrar', 'una', 'estrategia', 'óptima', 'en', 'un', 'juego', 'diferencial', 'está', 'estrechamente', 'relacionado', 'con', 'la', 'teoría', 'del', 'control', 'óptimo.', 'En', 'particular,', 'existen', 'dos', 'tipos', 'de', 'estrategias:', 'las', 'estrategias', 'de', 'bucle', 'abierto', 'utilizan', 'el', 'principio', 'de', 'Pontryagin', 'máximo,', 'mientras', 'que', 'las', 'estrategias', 'de', 'bucle', 'cerrado', 'utilizan', 'el', 'método', 'de', 'programación', 'dinámica', 'de', 'Bellman.Un', 'caso', 'particular', 'de', 'juegos', 'diferenciales', 'son', 'los', 'juegos', 'con', 'un', 'horizonte', 'temporal', 'aleatorio.', 'En', 'estos', 'juegos,', 'el', 'tiempo', 'terminal', 'es', 'una', 'variable', 'aleatoria', 'con', 'una', 'función', 'de', 'distribución', 'de', 'probabilidad', 'dada.', 'Por', 'lo', 'tanto,', 'los', 'jugadores', 'maximizar', 'la', 'expectativa', 'matemática', 'de', 'la', 'función', 'de', 'costo.', 'Se', 'demostró', 'que', 'el', 'problema', 'de', 'optimización', 'modificado', 'se', 'puede', 'reformular', 'como', 'un', 'juego', 'diferencial', 'con', 'descuento', 'en', 'un', 'intervalo', 'de', 'tiempo', 'infinito.Juegos', 'de', 'muchos', 'jugadores', 'y', 'poblaciones[editar]Los', 'juegos', 'con', 'un', 'número', 'arbitrario,', 'pero', 'finito,', 'de', 'jugadores', 'a', 'menudo', 'se', 'denominan', 'juegos', 'de', 'la', 'n-persona.', 'La', 'teoría', 'evolutiva', 'de', 'los', 'juegos', 'considera', 'los', 'juegos', 'que', 'involucran', 'a', 'una', 'población', 'de', 'tomadores', 'de', 'decisiones,', 'donde', 'la', 'frecuencia', 'con', 'la', 'que', 'se', 'toma', 'una', 'decisión', 'particular', 'puede', 'cambiar', 'con', 'el', 'tiempo', 'en', 'respuesta', 'a', 'las', 'decisiones', 'tomadas', 'por', 'todos', 'los', 'individuos', 'de', 'la', 'población.', 'En', 'biología,', 'esto', 'se', 'utiliza', 'para', 'modelar', 'la', 'evolución', '(biológica),', 'donde', 'los', 'organismos', 'programados', 'genéticamente', 'pasan', 'a', 'lo', 'largo', 'algo', 'de', 'su', 'programación', 'de', 'la', 'estrategia', 'a', 'su', 'descendencia.', 'En', 'economía,', 'la', 'misma', 'teoría', 'está', 'destinada', 'a', 'captar', 'los', 'cambios', 'de', 'población', 'porque', 'las', 'personas', 'juegan', 'el', 'juego', 'muchas', 'veces', 'dentro', 'de', 'su', 'vida,', 'y', 'conscientemente', '(y', 'quizás', 'racionalmente)', 'cambiar', 'las', 'estrategias.Resultados', 'estocásticos', '(y', 'relación', 'con', 'otros', 'campos)[editar]Los', 'problemas', 'individuales', 'de', 'decisión', 'con', 'resultados', 'estocásticos', 'a', 'veces', 'se', 'consideran', '\"juegos', 'de', 'un', 'solo', 'jugador\".', 'Estas', 'situaciones', 'no', 'se', 'consideran', 'teóricas', 'de', 'juego', 'por', 'parte', 'de', 'algunos', 'autores.', 'Pueden', 'ser', 'modeladas', 'utilizando', 'herramientas', 'similares', 'dentro', 'de', 'las', 'disciplinas', 'relacionadas', 'de', 'la', 'teoría', 'de', 'la', 'decisión,', 'la', 'investigación', 'de', 'operaciones', 'y', 'áreas', 'de', 'inteligencia', 'artificial,', 'particularmente,', 'la', 'planificación', 'de', 'IA', '(con', 'incertidumbre)', 'y', 'sistemas', 'multi-agentes.', 'Aunque', 'estos', 'campos', 'pueden', 'tener', 'motivadores', 'diferentes,', 'las', 'matemáticas', 'implicadas', 'son', 'sustancialmente', 'las', 'mismas,', 'por', 'ejemplo,', 'usando', 'procesos', 'de', 'decisión', 'deMarkov(MDP).', 'Los', 'resultados', 'estocásticos', 'también', 'pueden', 'ser', 'modelados', 'en', 'términos', 'de', 'la', 'teoría', 'de', 'juegos', 'agregando', 'a', 'un', 'jugador', 'de', 'acción', 'aleatoria', 'que', 'hace', '\"movimientos', 'de', 'la', 'casualidad\"', '(\"movimientos', 'por', 'naturaleza\").Este', 'jugador', 'no', 'suele', 'ser', 'considerado', 'un', 'tercer', 'jugador', 'en', 'lo', 'que', 'de', 'otro', 'modo', 'es', 'un', 'juego', 'de', 'dos', 'jugadores,', 'sino', 'que', 'simplemente', 'sirve', 'para', 'proporcionar', 'un', 'rol', 'de', 'dado', 'cuando', 'sea', 'requerido', 'por', 'el', 'juego.Para', 'algunos', 'problemas,', 'los', 'diferentes', 'enfoques', 'para', 'modelar', 'resultados', 'estocásticos', 'pueden', 'conducir', 'a', 'soluciones', 'diferentes.', 'Por', 'ejemplo,', 'la', 'diferencia', 'en', 'el', 'enfoque', 'entre', 'MDPs', 'y', 'la', 'soluciónminimaxes', 'que', 'este', 'último', 'considera', 'el', 'peor', 'caso', 'sobre', 'un', 'conjunto', 'de', 'movimientos', 'adversarios,', 'en', 'lugar', 'de', 'razonar', 'en', 'la', 'expectativa', 'sobre', 'estos', 'movimientos', 'dados', 'una', 'distribución', 'de', 'probabilidad', 'fija.', 'El', 'enfoque', 'minimax', 'puede', 'ser', 'ventajoso', 'cuando', 'no', 'se', 'dispone', 'de', 'modelos', 'estocásticos', 'de', 'incertidumbre,', 'pero', 'también', 'puede', 'estar', 'sobreestimando', 'eventos', 'extremadamente', 'improbables', '(pero', 'costosos),', 'cambiando', 'dramáticamente', 'la', 'estrategia', 'en', 'tales', 'escenarios', 'si', 'se', 'supone', 'que', 'un', 'adversario', 'puede', 'forzar', 'que', 'suceda', 'tal', 'evento.', 'También', 'se', 'han', 'estudiado', 'modelos', 'generales', 'que', 'incluyen', 'todos', 'los', 'elementos', 'de', 'resultados', 'estocásticos,', 'adversarios', 'y', 'observabilidad', 'parcial', 'o', 'ruidosa', '(de', 'movimientos', 'de', 'otros', 'jugadores).', 'Se', 'considera', 'que', 'el', '\"patrón', 'oro\"', 'es', 'un', 'juego', 'estocástico', 'parcialmente', 'observable', '(POSG),', 'pero', 'pocos', 'problemas', 'realistas', 'son', 'computacionalmente', 'factibles', 'en', 'la', 'representación', 'POSG.Metagames[editar]Estos', 'son', 'juegos', 'en', 'los', 'que', 'se', 'trata', 'de', 'desarrollar', 'las', 'reglas', 'para', 'otro', 'juego,', 'el', 'objetivo', 'o', 'el', 'jugador.', 'Losmetagamesbuscan', 'maximizar', 'el', 'valor', 'de', 'utilidad', 'del', 'conjunto', 'de', 'reglas', 'desarrollado.', 'La', 'teoría', 'de', 'los', 'metagames', 'está', 'relacionada', 'con', 'la', 'teoría', 'deldiseño', 'de', 'mecanismos.El', 'término', 'análisis', 'metagame', 'también', 'se', 'utiliza', 'para', 'referirse', 'a', 'un', 'enfoque', 'práctico', 'desarrollado', 'porNigel', 'Howard.', 'Por', 'lo', 'que', 'una', 'situación', 'se', 'enmarca', 'como', 'un', 'juego', 'estratégico', 'en', 'el', 'que', 'las', 'partes', 'interesadas', 'tratan', 'de', 'realizar', 'sus', 'objetivos', 'por', 'medio', 'de', 'las', 'opciones', 'disponibles.', 'Los', 'acontecimientos', 'posteriores', 'han', 'llevado', 'a', 'la', 'formulación', 'del', 'análisis', 'de', 'la', 'confrontación.Aplicaciones[editar]La', 'teoría', 'de', 'juegos', 'tiene', 'la', 'característica', 'de', 'ser', 'un', 'área', 'en', 'que', 'la', 'sustancia', 'subyacente', 'es', 'principalmente', 'una', 'categoría', 'dematemáticas', 'aplicadas,', 'pero', 'la', 'mayoría', 'de', 'la', 'investigación', 'fundamental', 'es', 'desempeñada', 'por', 'especialistas', 'en', 'otras', 'áreas.', 'En', 'algunas', 'universidades', 'se', 'enseña', 'y', 'se', 'investiga', 'casi', 'exclusivamente', 'fuera', 'del', 'departamento', 'de', 'matemática.Esta', 'teoría', 'tiene', 'aplicaciones', 'en', 'numerosas', 'áreas,', 'entre', 'las', 'cuales', 'caben', 'destacar', 'lasciencias', 'económicas,', 'labiología', 'evolutiva,', 'lapsicología,', 'lasciencias', 'políticas,', 'eldiseño', 'industrial,', 'lainvestigación', 'operativa,', 'lainformáticay', 'la', 'estrategia', 'militar.Economía', 'y', 'negocios[editar]Los', 'economistas', 'han', 'usado', 'la', 'teoría', 'de', 'juegos', 'para', 'analizar', 'un', 'amplio', 'abanico', 'de', 'problemas', 'económicos,', 'incluyendosubastas,duopolios,oligopolios,', 'la', 'formación', 'deredes', 'sociales,', 'y', 'sistemas', 'de', 'votaciones.', 'Estas', 'investigaciones', 'normalmente', 'están', 'enfocadas', 'a', 'conjuntos', 'particulares', 'de', 'estrategias', 'conocidos', 'como', 'conceptos', 'de', 'solución.', 'Estos', 'conceptos', 'de', 'solución', 'están', 'basados', 'normalmente', 'en', 'lo', 'requerido', 'por', 'las', 'normas', 'de', 'racionalidad', 'perfecta.', 'El', 'más', 'famoso', 'es', 'el', 'equilibrio', 'de', 'Nash.', 'Un', 'conjunto', 'de', 'estrategias', 'es', 'un', 'equilibrio', 'de', 'Nash', 'si', 'cada', 'una', 'representa', 'la', 'mejor', 'respuesta', 'a', 'otras', 'estrategias.', 'De', 'esta', 'forma,', 'si', 'todos', 'los', 'jugadores', 'están', 'aplicando', 'las', 'estrategias', 'en', 'un', 'equilibrio', 'de', 'Nash,', 'no', 'tienen', 'ningún', 'incentivo', 'para', 'cambiar', 'de', 'conducta,', 'pues', 'su', 'estrategia', 'es', 'la', 'mejor', 'que', 'pueden', 'aplicar', 'dadas', 'las', 'estrategias', 'de', 'los', 'demás.Las', 'recompensas', 'de', 'los', 'juegos', 'normalmente', 'representan', 'lautilidadde', 'los', 'jugadores', 'individuales.', 'A', 'menudo', 'las', 'recompensas', 'representan', 'dinero,', 'que', 'se', 'presume', 'corresponden', 'a', 'la', 'utilidad', 'de', 'un', 'individuo.', 'Esta', 'presunción,', 'sin', 'embargo,', 'puede', 'no', 'ser', 'correcta.Un', 'documento', 'de', 'teoría', 'de', 'juegos', 'en', 'economía', 'empieza', 'presentando', 'un', 'juego', 'que', 'es', 'una', 'abstracción', 'de', 'una', 'situación', 'económica', 'particular.', 'Se', 'eligen', 'una', 'o', 'más', 'soluciones,', 'y', 'el', 'autor', 'demuestra', 'qué', 'conjunto', 'de', 'estrategias', 'corresponden', 'al', 'equilibrio', 'en', 'el', 'juego', 'presentado.', 'Los', 'economistas', 'y', 'profesores', 'de', 'escuelas', 'de', 'negocios', 'sugieren', 'dos', 'usos', 'principales.Descriptiva[editar]Un', 'juego', 'del', 'ciempiés', 'de', 'tres', 'fases.El', 'uso', 'principal', 'es', 'informar', 'acerca', 'del', 'comportamiento', 'de', 'las', 'poblaciones', 'humanas', 'actuales.', 'Algunos', 'investigadores', 'creen', 'que', 'encontrar', 'el', 'equilibrio', 'de', 'los', 'juegos', 'puede', 'predecir', 'cómo', 'se', 'comportarían', 'las', 'poblaciones', 'humanas', 'si', 'se', 'enfrentasen', 'a', 'situaciones', 'análogas', 'al', 'juego', 'estudiado.', 'Esta', 'visión', 'particular', 'de', 'la', 'teoría', 'de', 'juegos', 'se', 'ha', 'criticado', 'en', 'la', 'actualidad.', 'En', 'primer', 'lugar,', 'se', 'la', 'crítica', 'porque', 'los', 'supuestos', 'de', 'los', 'teóricos', 'se', 'violan', 'frecuentemente.', 'Los', 'teóricos', 'de', 'juegos', 'pueden', 'suponer', 'jugadores', 'que', 'se', 'comportan', 'siempre', 'racionalmente', 'y', 'actúan', 'para', 'maximizar', 'sus', 'beneficios', '(el', 'modeloHomo', 'oeconomicus),', 'pero', 'los', 'humanos', 'reales', 'a', 'menudo', 'actúan', 'irracionalmente', 'o', 'racionalmente', 'pero', 'buscando', 'el', 'beneficio', 'de', 'un', 'grupo', 'mayor', '(altruismo).Los', 'teóricos', 'de', 'juegos', 'responden', 'comparando', 'sus', 'supuestos', 'con', 'los', 'que', 'se', 'emplean', 'en', 'física.', 'Así,', 'aunque', 'sus', 'supuestos', 'no', 'se', 'mantienen', 'siempre,', 'pueden', 'tratar', 'la', 'teoría', 'de', 'juegos', 'como', 'unaidealizaciónrazonable,', 'de', 'la', 'misma', 'forma', 'que', 'los', 'modelos', 'usados', 'por', 'losfísicos.', 'Sin', 'embargo,', 'este', 'uso', 'de', 'la', 'teoría', 'de', 'juegos', 'se', 'ha', 'seguido', 'criticando', 'porque', 'algunos', 'experimentos', 'han', 'demostrado', 'que', 'los', 'individuos', 'no', 'se', 'comportan', 'según', 'estrategias', 'de', 'equilibrio.', 'Por', 'ejemplo,', 'en', 'el', 'juego', 'del', 'ciempiés,', 'el', 'juego', 'de', 'adivinar', '⅔', 'de', 'la', 'media', 'y', 'el', 'juego', 'del', 'dictador,', 'las', 'personas', 'a', 'menudo', 'no', 'se', 'comportan', 'según', 'el', 'equilibrio', 'de', 'Nash.', 'Esta', 'controversia', 'se', 'está', 'resolviendo', 'actualmente.[4]\\u200bPor', 'otra', 'parte,', 'algunos', 'autores', 'aducen', 'que', 'los', 'equilibrios', 'de', 'Nash', 'no', 'proporcionan', 'predicciones', 'para', 'las', 'poblaciones', 'humanas,', 'sino', 'que', 'proporcionan', 'una', 'explicación', 'de', 'por', 'qué', 'las', 'poblaciones', 'que', 'se', 'comportan', 'según', 'el', 'equilibrio', 'de', 'Nash', 'permanecen', 'en', 'esa', 'conducta.', 'Sin', 'embargo,', 'la', 'cuestión', 'acerca', 'de', 'cuánta', 'gente', 'se', 'comporta', 'así', 'permanece', 'abierta.Algunos', 'teóricos', 'de', 'juegos', 'han', 'puesto', 'esperanzas', 'en', 'lateoría', 'evolutiva', 'de', 'juegospara', 'resolver', 'esas', 'preocupaciones.', 'Tales', 'modelos', 'presuponen', 'o', 'no', 'racionalidad', 'o', 'una', 'racionalidad', 'acotada', 'en', 'los', 'jugadores.', 'A', 'pesar', 'del', 'nombre,', 'la', 'teoría', 'evolutiva', 'de', 'juegos', 'no', 'presupone', 'necesariamenteselección', 'naturalen', 'sentido', 'biológico.', 'La', 'teoría', 'evolutiva', 'de', 'juegos', 'incluye', 'las', 'evoluciones', 'biológica', 'y', 'cultural', 'y', 'también', 'modela', 'el', 'aprendizaje', 'individual.Normativa[editar]El', 'dilema', 'del', 'prisioneroCooperarTraicionarCooperar2203Traicionar3011Por', 'otra', 'parte,', 'algunos', 'matemáticos', 'no', 'ven', 'la', 'teoría', 'de', 'juegos', 'como', 'una', 'herramienta', 'que', 'predice', 'la', 'conducta', 'de', 'los', 'seres', 'humanos,', 'sino', 'como', 'una', 'sugerencia', 'sobre', 'cómo', 'deberían', 'comportarse.', 'Dado', 'que', 'el', 'equilibrio', 'de', 'Nash', 'constituye', 'la', 'mejor', 'respuesta', 'a', 'las', 'acciones', 'de', 'otros', 'jugadores,', 'seguir', 'una', 'estrategia', 'que', 'es', 'parte', 'del', 'equilibrio', 'de', 'Nash', 'parece', 'lo', 'más', 'apropiado.', 'Sin', 'embargo,', 'este', 'uso', 'de', 'la', 'teoría', 'de', 'juegos', 'también', 'ha', 'recibido', 'críticas.', 'En', 'primer', 'lugar,', 'en', 'algunos', 'casos', 'es', 'apropiado', 'jugar', 'según', 'una', 'estrategia', 'ajena', 'al', 'equilibrio', 'si', 'uno', 'espera', 'que', 'los', 'demás', 'también', 'jugarán', 'de', 'acuerdo', 'al', 'equilibrio.', 'Por', 'ejemplo,', 'en', 'el', 'juegoadivina', '⅔', 'de', 'la', 'media.El', 'dilema', 'del', 'prisionero', 'presenta', 'otro', 'contraejemplo', 'potencial.', 'En', 'este', 'juego,', 'si', 'cada', 'jugador', 'persigue', 'su', 'propio', 'beneficio', 'ambos', 'jugadores', 'obtienen', 'un', 'resultado', 'peor', 'que', 'de', 'no', 'haberlo', 'hecho.', 'Algunos', 'matemáticos', 'creen', 'que', 'esto', 'demuestra', 'el', 'fallo', 'de', 'la', 'teoría', 'de', 'juegos', 'como', 'una', 'recomendación', 'de', 'la', 'conducta', 'a', 'seguir.Psicología', 'y', 'psiquiatría[editar]Los', 'diseños', 'experimentales', 'con', 'base', 'en', 'juegos', 'de', 'intercambio', 'económico', 'han', 'comenzado', 'a', 'utilizarse', 'para', 'el', 'estudio', 'de', 'personas', 'con', 'trastornos', 'psiquiátricos', 'y', 'la', 'comprensión', 'del', 'funcionamiento', 'neural', 'que', 'subyace', 'a', 'los', 'procesos', 'cognitivos', 'y', 'de', 'procesamiento', 'afectivo;', 'haciendo', 'énfasis', 'en', 'la', 'toma', 'de', 'decisiones,', 'entre', 'dos', 'o', 'más', 'personas', 'ante', 'la', 'posibilidad', 'de', 'distribuir', 'bienes', 'económicos[5]\\u200b', 'En', 'este', 'sentido,', 'se', 'sabe', 'que', 'las', 'personas', 'toman', 'decisiones', 'en', 'los', 'juegos', 'económicos', 'de', 'acuerdo', 'a', 'su', 'capacidad', 'para', 'experimentarconfianza,[6]\\u200b[7]\\u200b[8]\\u200b', 'así', 'como', 'su', 'procesamiento', 'implícito[9]\\u200b', 'y', 'explícito', 'de', 'la', 'confiabilidad', 'de', 'sus', 'compañeros.Biología[editar]Halcón-PalomaHalcónPalomaHalcón(V-C)/2(V-C)/2V0Paloma0VV/2V/2A', 'diferencia', 'del', 'uso', 'de', 'la', 'teoría', 'de', 'juegos', 'en', 'la', 'economía,', 'las', 'recompensas', 'de', 'los', 'juegos', 'enbiologíase', 'interpretan', 'frecuentemente', 'comoadaptación.', 'Además,', 'su', 'estudio', 'se', 'ha', 'enfocado', 'menos', 'en', 'el', 'equilibrio', 'que', 'corresponde', 'a', 'la', 'noción', 'de', 'racionalidad,', 'centrándose', 'en', 'el', 'equilibrio', 'mantenido', 'por', 'las', 'fuerzasevolutivas.', 'El', 'equilibrio', 'mejor', 'conocido', 'en', 'biología', 'se', 'conoce', 'comoestrategia', 'evolutivamente', 'estable,', 'y', 'fue', 'introducido', 'por', 'primera', 'vez', 'porJohn', 'Maynard', 'Smith.', 'Aunque', 'su', 'motivación', 'inicial', 'no', 'comportaba', 'los', 'requisitos', 'mentales', 'del', 'equilibrio', 'de', 'Nash,', 'toda', 'estrategia', 'evolutivamente', 'estable', 'es', 'un', 'equilibrio', 'de', 'Nash.En', 'biología,', 'la', 'teoría', 'de', 'juegos', 'se', 'emplea', 'para', 'entender', 'muchos', 'problemas', 'diferentes.', 'Se', 'usó', 'por', 'primera', 'vez', 'para', 'explicar', 'la', 'evolución', '(y', 'estabilidad)', 'de', 'las', 'proporciones', 'de', 'sexos', '1:1', '(mismo', 'número', 'de', 'machos', 'que', 'de', 'hembras).Ronald', 'Fishersugirió', 'en', '1930', 'que', 'la', 'proporción', '1:1', 'es', 'el', 'resultado', 'de', 'la', 'acción', 'de', 'los', 'individuos', 'tratando', 'de', 'maximizar', 'el', 'número', 'de', 'sus', 'nietos', 'sujetos', 'a', 'la', 'restricción', 'de', 'las', 'fuerzas', 'evolutivas.Cabe', 'recalcar', 'que,', 'los', 'biólogos', 'han', 'usado', 'la', 'teoría', 'de', 'juegos', 'evolutiva', 'y', 'el', 'concepto', 'de', 'estrategia', 'evolutivamente', 'estable', 'para', 'explicar', 'el', 'surgimiento', 'de', 'lacomunicación', 'animal(John', 'Maynard', 'Smith', 'y', 'Harper', 'en', 'el', 'año', '2003).', 'El', 'análisis', 'de', 'juegos', 'con', 'señales', 'y', 'otros', 'juegos', 'de', 'comunicación', 'ha', 'proporcionado', 'nuevas', 'interpretaciones', 'acerca', 'de', 'la', 'evolución', 'de', 'la', 'comunicación', 'en', 'los', 'animales.Finalmente,', 'los', 'biólogos', 'han', 'usado', 'el', 'problema', 'halcón-paloma', '(también', 'conocido', 'como', 'problema', 'de', 'la', 'gallina)', 'para', 'analizar', 'la', 'conducta', 'combativa', 'y', 'la', 'territorialidad.Informática', 'y', 'lógica[editar]La', 'teoría', 'de', 'juegos', 'ha', 'empezado', 'a', 'desempeñar', 'un', 'papel', 'importante', 'en', 'la', 'lógica', 'y', 'la', 'informática.', 'Muchas', 'teorías', 'lógicas', 'se', 'asientan', 'en', 'la', 'semántica', 'de', 'juegos.', 'Además,', 'los', 'investigadores', 'de', 'informática', 'han', 'usado', 'juegos', 'para', 'modelar', 'programas', 'que', 'interactúan', 'entre', 'sí.Ciencia', 'política[editar]La', 'investigación', 'en', 'ciencia', 'política', 'también', 'ha', 'usado', 'resultados', 'de', 'la', 'teoría', 'de', 'juegos.', 'Una', 'explicación', 'de', 'lateoría', 'de', 'la', 'paz', 'democráticaes', 'que', 'el', 'debate', 'público', 'y', 'abierto', 'en', 'la', 'democracia', 'envía', 'información', 'clara', 'y', 'fiable', 'acerca', 'de', 'las', 'intenciones', 'de', 'los', 'gobiernos', 'hacia', 'otros', 'estados.', 'Por', 'otra', 'parte,', 'es', 'difícil', 'conocer', 'los', 'intereses', 'de', 'los', 'líderes', 'no', 'democráticos,', 'qué', 'privilegios', 'otorgarán', 'y', 'qué', 'promesas', 'mantendrán.', 'Según', 'este', 'razonamiento,', 'habrá', 'desconfianza', 'y', 'poca', 'cooperación', 'si', 'al', 'menos', 'uno', 'de', 'los', 'participantes', 'de', 'una', 'disputa', 'no', 'es', 'una', 'democracia.[10]\\u200bLa', 'aplicación', 'de', 'teoría', 'de', 'juegos,', 'en', 'ciencia', 'política', 'se', 'extiende', 'en', 'otras', 'áreas', 'como', 'ladivisión', 'equitativa,', 'lapolítica', 'económica,decisiones', 'públicas,negociaciones', 'de', 'guerra,', 'teoría', 'políticas', 'positivas', 'y', 'lateoría', 'de', 'la', 'elección', 'social.', 'En', 'cada', 'una', 'de', 'esas', 'áreas,', 'los', 'investigadores', 'han', 'desarrollado', 'modelos', 'de', 'teoría', 'de', 'juegos', 'en', 'donde', 'los', 'jugadores', 'son', 'votantes,', 'estados,', 'grupos', 'de', 'interés', 'o', 'burocráticos', 'y', 'políticos.Algunos', 'de', 'estos', 'ejemplos', 'de', 'teoría', 'de', 'juegos', 'fueron', 'explicados', 'porAnthony', 'Downs.', 'En', 'su', 'libroAn', 'Economic', 'Theory', 'of', 'Democracy,', 'en', 'el', 'cual', 'aplicó', 'laLey', 'de', 'Hotellingal', 'proceso', 'político.', 'En', 'el', 'modelo', 'de', 'Downsian,', 'los', 'candidatos', 'políticos', 'perpetran', 'en', 'ideologías', 'en', 'un', 'espacio', 'de', 'dimensión', 'política.', 'Downs', 'primero', 'muestra', 'como', 'los', 'candidatos', 'políticos', 'van', 'a', 'converger', 'a', 'la', 'ideología', 'preferida', 'del', 'votante', 'mediano', 'si', 'los', 'votantes', 'están', 'completamente', 'informados.', 'Pero', 'entonces,', 'argumenta', 'que', 'los', 'votantes', 'escogen', 'permanecer', 'racionales', 'ignorando', 'lo', 'que', 'permite', 'que', 'se', 'dé', 'la', 'divergencia', 'de', 'los', 'candidatos.', 'También,', 'fue', 'aplicada', 'en', '1962', 'en', 'la', 'crisis', 'de', 'misiles', 'de', 'Cuba', 'durante', 'la', 'presidencia', 'de', 'John.', 'F.', 'Kennedy.[11]\\u200bDerecho', 'Penal', 'y', 'Criminología[editar]Recientemente,', 'se', 'está', 'abordando', 'la', 'utilidad', 'de', 'la', 'teoría', 'de', 'juegos', 'y', 'sus', 'metodologías', 'de', 'análisis', 'para', 'fundamentar', 'la', 'responsabilidad', 'penal', 'de', 'las', 'personas', 'jurídicas', '(empresas,', 'asociaciones,', 'fundaciones,', 'etc.)', 'y', 'para', 'la', 'elaboración', 'de', 'modelos', 'de', 'predicción,', 'detección', 'y', 'reacción', 'frente', 'a', 'delitos', 'cometidos', 'por', 'directivos', 'y', 'empleados', 'en', 'este', 'tipo', 'de', 'organizaciones.', 'El', 'jurista', 'españolRafael', 'Aguilera', 'ha', 'sido', 'pionero', 'en', 'esta', 'línea', 'de', 'investigación[12]\\u200b', 'al', 'proponer', 'en', 'sus', 'estudios', 'la', 'utilización', 'de', 'la', 'teoría', 'de', 'juegos', 'y', 'teorías', 'socioeconómicas', 'en', 'el', 'Derecho', 'Penal', 'corporativo', 'y', 'la', 'Criminología,', 'en', 'concreto', 'para:a)', 'Erigir', 'unmodelo', 'antrópicode', 'responsabilidad', 'penal', 'de', 'la', 'persona', 'jurídica.[13]\\u200bEn', 'esta', 'representación', 'el', 'ente', 'corporativo', 'no', 'es', 'una', 'verdadera', 'entidad,', 'independiente', 'y', 'con', 'capacidad', 'para', 'autodirigirse,', 'sino', 'que', 'se', 'configura', 'por', 'los', 'puntos', '(que', 'son', 'los', 'individuos', 'de', 'la', 'organización)', 'y', 'las', 'constricciones,', 'limitaciones', 'y', 'procedimientos', '(representadas', 'por', 'líneas)', 'que,', 'en', 'puridad,', 'son', 'decididas', 'y', 'configuradas', 'por', 'los', 'propios', 'individuos.', 'La', 'persona', 'jurídica', 'no', 'tiene', 'capacidad', 'de', 'cometer', 'un', 'injusto', 'o', 'de', 'culpabilidad,', 'sino', 'que', 'se', 'le', 'transfiere', 'la', 'responsabilidad,', 'previo', 'análisis', 'de', 'las', 'constricciones.', 'Se', 'concibe', 'al', 'ente', 'como', 'posible', 'destinatario', 'de', 'la', 'responsabilidad', 'penal', 'por', 'la', '«visibilidad»', 'que', 'detenta', 'en', 'virtud', 'de', 'las', 'constricciones', 'y', 'los', 'propios', 'individuos', 'que', 'las', 'originan', 'e', 'implementan.', 'Si,', 'a', 'raíz', 'de', 'una', 'conducta', 'delictiva', 'de', 'un', 'individuo,', 'se', 'aprecia', 'la', 'inexistencia', 'de', 'unas', 'constricciones', 'y', 'procedimientos', 'tendentes', 'a', 'impedir', 'delitos', 'o', 'se', 'observan', 'que', 'son', 'defectuosas', 'o', 'favorecedoras', 'de', 'la', 'comisión', 'de', 'ilícitos', '(representado', 'por', 'líneas', 'rojas),', 'se', 'está', 'observando', 'un', 'déficit', 'organizativo,', 'aspecto', 'implícito', 'en', 'el', '«hecho', 'de', 'conexión»', 'y', 'ello', 'deriva', 'en', 'la', 'trasmisión', 'de', 'responsabilidad', 'penal', 'a', 'la', 'persona', 'jurídica.Modelo', 'antrópico', 'de', 'responsabilidad', 'penal', 'corporativa', 'de', 'Aguilera.b)', 'La', 'elaboración', 'de', 'programas', 'de', 'prevención', 'de', 'delitos', 'o', 'corporate', 'compliance', 'programs', 'que', 'posibiliten', 'una', 'respuesta', 'más', 'eficaz', 'frente', 'al', 'delito', 'en', 'la', 'empresa.Aguilera', 'aborda', 'la', 'extraordinaria', 'utilidad', 'de', 'lateoría', 'de', 'juegos', 'para', 'el', 'ámbito', 'jurídico-penal', 'y', 'criminológio', 'empresarial,', 'pues', 'permite', 'un', 'estudio', 'riguroso', 'de', 'las', 'dinámicas', 'de', 'actuación', 'y', 'la', 'interacción', 'de', 'carácter', 'estratégico', 'entre', 'participantes', 'que', 'actúan', 'dirigidos', 'por', 'sus', 'propios', 'intereses.[14]\\u200b', 'La', 'teoría', 'de', 'juegos', 'permite', 'explicar', 'cómo', 'los', 'individuos,', 'a', 'través', 'de', 'su', 'comportamiento', 'racional', 'y', 'con', 'sustento', 'en', 'las', 'interacciones', 'con', 'otros,', 'se', 'dotan', 'de', 'regulación', 'o', 'adoptan', 'determinadas', 'decisiones.', 'Además,', 'la', 'teoría', 'de', 'juegos', 'viene', 'acompañada', 'de', 'un', 'valioso', 'desarrollo', 'metodológico', 'que', 'posibilita', 'el', 'análisis', 'de', 'los', 'procesos', 'decisorios', 'teniendo', 'en', 'consideración', 'elementos', 'tan', 'importantes', 'para', 'analizar', 'y', 'dilucidar', 'responsabilidades', 'penales', 'como', 'las', 'asimetrías', 'informativas', 'y', 'el', 'cumplimiento', 'o', 'incumplimiento', 'de', 'las', 'normas', 'por', 'razones', 'estratégicas', '(como', 'ocurre,', 'por', 'ejemplo,', 'en', 'el', 'famosoDilema', 'del', 'Prisionero).Igualmente,', 'Aguilera', 'argumenta', 'por', 'qué', 'los', 'Estados', 'están', 'promoviendo,', 'a', 'través', 'de', 'la', 'posibilidad', 'de', 'exoneración', 'de', 'responsabilidad', 'penal', 'corporativa,', 'la', 'incorporación', 'de', 'la', 'figura', 'del', 'compliance', 'officer', 'u', 'oficial', 'de', 'cumplimiento', 'y', 'es', 'que', 'esta', 'teoría', 'demuestra', 'matemáticamente', 'que', 'elcompliance', 'officeraminora', 'la', 'tendencia', 'al', 'incumplimiento', 'de', 'las', 'empresas', 'o', 'resto', 'de', 'organizaciones', '(lo', 'que', 'se', 'conoce', 'en', 'teoría', 'de', 'juegos', 'comosolución', 'externa', 'al', 'dilema).\"En', 'el', 'dilema', 'del', 'prisionero', 'la', 'desconfianza', 'es', 'la', 'estrategia', 'dominante,', 'lo', 'que', 'conduce', 'a', 'un', 'resultado', 'negativo', 'por', 'ambas', 'partes.', 'En', 'tal', 'caso,', 'el', 'órgano', 'con', 'lafunción', 'de', 'complianceocompliance', 'officerpermite', 'adoptar', 'lo', 'que', 'se', 'denomina', 'en', 'la', 'literatura', 'unasolución', 'externa', 'al', 'dilema.', 'Externa,', 'no', 'porque', 'ese', 'sujeto', 'o', 'departamento', 'especializado', 'en', 'cumplimiento', 'normativo', 'no', 'pertenezca', 'al', 'ente,', 'sino', 'porque', 'el', 'dilema', 'sólo', 'se', 'resuelve', 'con', 'la', 'presencia', 'de', 'ese', 'tercer', 'elemento,', 'pues', 'los', 'jugadores', 'por', 'sí', 'solos', '–Estado', 'y', 'Empresas–', 'no', 'son', 'capaces', 'de', 'salir', 'del', 'dilema,', 'ya', 'sea', 'porque', 'las', 'personas', 'jurídicas', 'no', 'cumplen,', 'ya', 'porque', 'el', 'Estado', 'se', 've', 'obligado', '(con', 'los', 'costes', 'y', 'recursos', 'añadidos', 'que', 'todo', 'ello', 'implica)', 'a', 'promulgar', 'una', 'legislación', 'dura.', 'En', 'otras', 'palabras,', 'el', 'órgano', 'con', 'lafunción', 'de', 'complianceocompliance', 'officervigila', 'y', 'controla', 'para', 'que', 'en', 'las', 'personas', 'jurídicas', 'se', 'cumpla', 'y', 'no', 'se', 'produzca', 'el', 'dilema', 'del', 'prisionero\".', 'Aguilera', 'Gordillo,', 'R.;', 'Compliance', 'Penal', 'en', 'España,', 'Ed.', 'Thomson', 'Reuters', 'Aranzadi,', '2018,', 'pp.', '238-239.Este', 'autor', 'defiende', 'que', 'la', 'teoría', 'de', 'juegos', 'es', 'totalmente', 'asumible', 'y', 'extraordinariamente', 'útil', 'para', 'elaborar', 'programas', 'de', 'prevención', 'de', 'delitos', 'o', 'corporate', 'compliance', 'programas', 'más', 'eficaces,', 'pues', 'posibilitan', 'la', 'predicción', 'de', 'conductas', 'ilícitas', 'al', 'tener', 'en', 'cuenta', 'aspectos', 'como', 'los', 'flujos', 'de', 'información,', 'las', 'relaciones', 'interpersonales,', 'los', 'aspectos', 'tácticos', 'con', 'respecto', 'a', 'otros', 'individuos', 'o', 'grupos', 'de', 'individuos,', 'así', 'como', 'la', 'propia', 'influencia', 'que', 'ejercen', 'las', 'organizaciones;', 'se', 'analizan', 'los', 'riesgos', 'desde', 'una', 'óptica', 'dinámica', 'y', 'viva,', 'como', 'es', 'la', 'propia', 'realidad', 'empresarial', 'y', 'no', 'desde', 'la', 'habitual', 'perspectiva', 'estática', '(que', 'es', 'como', 'tradicionalmente', 'se', 'ha', 'venido', 'haciendo', 'a', 'través', 'del', 'uso', 'de', 'las', 'clásicas', 'matrices', 'de', 'riesgo).El', 'resultado', 'de', 'utilizar', 'la', 'teoría', 'de', 'juegos', 'en', 'el', 'contexto', 'empresarial', 'es', 'la', 'obtención', 'de', 'una', 'mayor', 'clarificación', 'del', 'amplio', 'elenco', 'de', 'conductas', 'que', 'puede', 'realizar', 'cada', 'trabajador', 'según', 'el', 'puesto', 'que', 'ocupa,', 'no', 'de', 'manera', 'aislada', 'y', 'estática,', 'sino', 'teniendo', 'en', 'consideración', 'que', 'la', 'decisión', 'de', 'cada', 'empleado', 'pende,', 'a', 'su', 'vez', 'de', 'decisiones', 'de', 'otros', 'empleados', '-decisiones', 'estratégicas', 'en', 'entornos', 'dinámicos-.', 'De', 'este', 'modo,', 'puede', 'resolverse,', 'por', 'ejemplo,', 'cómo', 'actuaría', 'un', 'empleado', 'que', 'se', 'ocupa', 'de', 'la', 'contabilidad', 'de', 'una', 'empresa', 'u', 'otro', 'cuya', 'función', 'es', 'suscribir', 'los', 'contratos', 'de', 'compra', 'con', 'terceros;', 'con', 'fundamento', 'en', 'esa', 'información', 'global', 'que', 'tiene', 'en', 'cuenta', 'todos', 'los', 'factores', 'estratégicos', '(con', 'arreglo', 'a', 'una', 'metodología', 'científicamente', 'contrastada)', 'pueden', 'establecerse', 'unos', 'procedimientos', 'singulares', 'que', '«obliguen»', 'a', 'cada', 'miembro', 'de', 'la', 'empresa', 'a', 'actuar', 'de', 'un', 'modo', 'u', 'otro', 'según', 'los', 'sujetos', 'que', 'intervinieron,', 'circunstancias', 'concretas', 'y', 'contexto', 'para', 'respectar', 'el', 'marco', 'legal.', 'La', 'aplicación', 'de', 'la', 'teoría', 'de', 'juegos', 'en', 'la', 'elaboración', 'de', 'programas', 'de', 'prevención', 'de', 'delitos', 'junto', 'con', 'la', 'jurimetría', 'permite', 'obtener', 'lo', 'que', 'Aguilera', 'denomina', 'un', 'modelo', 'de', 'organización', 'y', 'gestión', 'o', 'compliance', 'jurimétrico.', 'Es', 'decir,', 'el', 'autor', 'defiende', 'que', 'el', 'uso', 'de', 'la', 'modelización', 'para', 'elaborar', 'compliance', 'más', 'efectivos', 'para', 'combatir', 'los', 'delitos', 'en', 'las', 'empresas.Además,', 'la', 'utilización', 'de', 'esta', 'metodología', 'para', 'elaborar', 'un', 'corporate', 'compliance', 'program', 'o', 'programa', 'de', 'prevención', 'de', 'delitos', 'evidencia', 'que,', 'en', 'la', 'organización,', 'se', 'tiene', 'un', 'firme', 'compromiso', 'con', 'la', 'prevención', 'del', 'delito', 'y', 'el', 'cumplimiento', 'normativo,', 'lo', 'que', 'multiplica', 'las', 'opciones', 'de', 'exclusión', 'o', 'libración', 'de', 'responsabilidad', 'penal', 'a', 'la', 'propia', 'persona', 'jurídica', 'cuando', 'alguno', 'de', 'sus', 'miembros', 'logró', 'cometer', 'un', 'delito.Por', 'otro', 'lado,', 'el', 'autor', 'relaciona', 'la', 'utilidad', 'de', 'la', 'teoría', 'de', 'juegos', 'con', 'el', 'actual', 'auge', 'de', 'programas', 'y', 'herramientas', 'informáticas', 'de', 'análisis', 'de', 'riesgos,', 'costes', 'y', 'beneficios', 'en', 'los', 'procesos', 'de', 'toma', 'de', 'decisiones', 'empresariales.', 'Estos', 'programas', 'hacen', 'uso', 'de', 'una', 'ingente', 'cantidad', 'de', 'datos', 'y', 'realizan', 'millones', 'de', 'operaciones', 'matemáticas', 'teniendo', 'en', 'consideración', 'el', 'conjunto', 'de', 'decisiones', 'posibles,', 'todas', 'sus', 'consecuencias', 'y', 'el', 'elenco', 'de', 'estrategias', 'a', 'adoptar;', 'sus', 'resultados', 'arrojan', 'información', 'muy', 'preciada,', 'por', 'ejemplo,', 'cuál', 'es', 'la', 'decisión', 'que', 'conlleva', 'más', 'peligro,', 'cuál', 'es', 'la', 'más', 'conservadora,', 'la', 'más', 'costosa,', 'etc.', 'Al', 'fin', 'y', 'al', 'cabo,', 'se', 'trata', 'de', 'la', 'traslación', 'al', 'lenguaje', 'informático', 'de', 'modelos', 'matemáticos', 'y', 'metodología', 'que', 'traen', 'consigo', 'las', 'propias', 'teorías', 'economicistas,', 'la', 'teoría', 'de', 'juegos', 'o', 'el', 'nuevo', 'institucionalismo', 'de', 'la', 'elección', 'racional.', 'Es', 'decir,', 'desde', 'la', 'informática', 'también', 'viene', 'asumiendo', 'la', 'validez', 'y', 'utilidad', 'de', 'las', 'referidas', 'teorías', 'a', 'la', 'hora', 'de', 'analizar', 'y', 'predecir', 'conductas', 'de', 'los', 'individuos', 'en', 'organizaciones.', 'Sin', 'embargo,', 'esta', 'vinculación', 'entre', 'ambos', 'ámbitos', 'no', 'se', 'contempla', 'desde', 'el', 'plano', 'jurídico-penal.', 'A', 'este', 'respecto,', 'propone', 'una', 'decidida', 'asimilación', 'por', 'el', 'Derecho', 'Penal', 'de', 'las', 'propuestas', 'desarrolladas', 'en', 'la', 'investigación', 'permitiría', 'el', 'establecimiento', 'de', 'lo', 'que', 'el', 'Aguilera', 'viene', 'a', 'denominarnexo', 'lógico', 'de', 'raíz', 'socio-jurídica,', 'lo', 'que', 'permitiría', 'abordar', 'con', 'mayor', 'solvencia', 'las', 'dificultades,', 'retos', 'legales', 'y', 'dilemas', 'éticos', 'que', 'plantean', 'y', 'plantearán', 'el', 'uso', 'de', 'estas', 'nuevas', 'herramientas', 'informáticas', 'por', 'las', 'empresas.Filosofía[editar]La', 'teoría', 'de', 'juegos', 'ha', 'demostrado', 'tener', 'muchos', 'usos', 'enfilosofía.', 'A', 'partir', 'de', 'dos', 'trabajos', 'deW.', 'V.', 'O.', 'Quinepublicados', 'en1960y1967,David', 'Lewis(1969)', 'usó', 'la', 'teoría', 'de', 'juegos', 'para', 'desarrollar', 'el', 'concepto', 'filosófico', 'deconvención.', 'De', 'esta', 'forma,', 'proporcionó', 'el', 'primer', 'análisis', 'delconocimiento', 'comúny', 'lo', 'empleó', 'en', 'analizar', 'juegos', 'de', 'coordinación.', 'Además,', 'fue', 'el', 'primero', 'en', 'sugerir', 'que', 'se', 'podía', 'entender', 'elsignificadoen', 'términos', 'dejuegos', 'de', 'señales.', 'Esta', 'sugerencia', 'se', 'ha', 'seguido', 'por', 'muchos', 'filósofos', 'desde', 'el', 'trabajo', 'de', 'Lewis.[15]\\u200bLeon', 'Henkin,Paul', 'LorenzenyJaakko', 'Hintikkainiciaron', 'una', 'aproximación', 'a', 'la', 'semántica', 'de', 'los', 'lenguajes', 'formales', 'que', 'explica', 'con', 'conceptos', 'de', 'teoría', 'de', 'juegos', 'los', 'conceptos', 'de', 'verdad', 'lógica,', 'validez', 'y', 'similares.', 'En', 'esta', 'aproximación', 'los', '\"jugadores\"', 'compiten', 'proponiendo', 'cuantificaciones', 'e', 'instancias', 'de', 'oraciones', 'abiertas;', 'las', 'reglas', 'del', 'juego', 'son', 'las', 'reglas', 'de', 'interpretación', 'de', 'las', 'sentencias', 'en', 'un', 'modelo,', 'y', 'las', 'estrategias', 'de', 'cada', 'jugador', 'tienen', 'propiedades', 'de', 'las', 'que', 'trata', 'la', 'teoría', 'semántica', '(ser', 'dominante', 'si', 'y', 'solo', 'si', 'las', 'oraciones', 'con', 'que', 'se', 'juega', 'cumplen', 'determinadas', 'condiciones,', 'etc.).La', 'caza', 'del', 'ciervoCiervoLiebreCiervo3,', '30,', '2Liebre2,', '02,', '2Enética,', 'algunos', 'autores', 'han', 'intentado', 'continuar', 'la', 'idea', 'deThomas', 'Hobbesde', 'derivar', 'la', 'moral', 'del', 'interés', 'personal.', 'Dado', 'que', 'juegos', 'como', 'el', 'dilema', 'del', 'prisionero', 'presentan', 'un', 'conflicto', 'aparente', 'entre', 'la', 'moralidad', 'y', 'el', 'interés', 'personal,', 'explicar', 'por', 'qué', 'la', 'cooperación', 'es', 'necesaria', 'para', 'el', 'interés', 'personal', 'es', 'una', 'componente', 'importante', 'de', 'este', 'proyecto.', 'Esta', 'estrategia', 'general', 'es', 'un', 'componente', 'de', 'la', 'idea', 'decontrato', 'socialenfilosofía', 'política(ejemplos', 'en', 'Gauthier', '1987', 'y', 'Kavka', '1986).[16]\\u200bOtros', 'autores', 'han', 'intentado', 'usar', 'la', 'teoría', 'evolutiva', 'de', 'juegos', 'para', 'explicar', 'el', 'nacimiento', 'de', 'las', 'actitudes', 'humanas', 'ante', 'la', 'moralidad', 'y', 'las', 'conductas', 'animales', 'correspondientes.', 'Estos', 'autores', 'han', 'buscado', 'ejemplos', 'en', 'muchos', 'juegos,', 'incluyendo', 'eldilema', 'del', 'prisionero,', 'lacaza', 'del', 'ciervo,', 'y', 'eljuego', 'del', 'trato', 'de', 'Nashpara', 'explicar', 'la', 'razón', 'del', 'surgimiento', 'de', 'las', 'actitudes', 'acerca', 'de', 'la', 'moral', '(véase', 'Skyrms', '1996,', '2004;', 'Sober', 'y', 'Wilson', '1999).Finalmente,', 'Margit', 'Gaffal', 'yJesús', 'Padilla', 'Gálvezhan', 'ampliado', 'la', 'teoría', 'de', 'los', 'juegos', 'estudiando', 'las', 'interrelaciones', 'que', 'generan', 'el', 'uso', 'que', 'hacen', 'los', 'jugadores', 'cuando', 'utilizan', 'determinados', 'juegos', 'de', 'lenguaje', 'y', 'han', 'investigado', 'el', 'modo', 'cómo', 'interviene', 'las', 'formas', 'de', 'vida', 'de', 'los', 'negociadores', 'en', 'las', 'decisiones', 'y', 'estrategias', 'que', 'se', 'llevan', 'a', 'cabo', 'en', 'los', 'juegos.', 'Por', 'tanto', 'han', 'ampliado', 'la', 'teoría', 'de', 'los', 'juegos', 'a', 'dos', 'campos', 'distintos:', 'las', 'formas', 'de', 'vida', 'de', 'los', 'jugadores', 'y', 'los', 'juegos', 'de', 'lenguaje', 'que', 'usan', 'ya', 'que', 'ambos', 'determinan', 'las', 'estrategias', 'que', 'se', 'desarrollan', 'en', 'los', 'juegos', '(véase', 'Gaffal,', 'Margit', 'y', 'Jesús', 'Padilla', 'Gálvez', '2023).Música[editar]Un', 'compositor', 'que', 'usa', 'la', 'teoría', 'de', 'juegos', 'en', 'sus', 'composiciones', 'esIannis', 'Xenakis,', 'en', 'sus', 'obrasDueloStratégie.Optimización', 'de', 'diseño[editar]La', 'teoría', 'de', 'optimización', 'de', 'diseño', 'dicta', 'cinco', 'principios', 'característicos', 'de', 'un', 'juego,', 'sin', 'los', 'cuales,', 'este', 'dejaría', 'de', 'poder', 'ser', 'llamado', 'de', 'tal', 'forma:Reglas:', 'Deben', 'ser', 'fáciles', 'de', 'entender,', 'pero', 'solo', 'a', 'través', 'de', 'la', 'experiencia', 'ser', 'completamente', 'dominadas.Interacción', '(Participación):', 'Los', 'jugadores,', 'por', 'medio', 'de', 'la', 'intervención', 'del', 'mundo', 'creado,', 'deben', 'olvidarse', 'del', 'mundo', 'real.Oposición:', 'El', 'juego', 'debe', 'ser', 'balanceado.', 'Se', 'requiere', 'habilidad', 'para', 'ganar,', 'no', 'suerte.Toma', 'de', 'Decisiones:', 'Todas', 'las', 'tomas', 'de', 'decisiones', 'deben', 'tener', 'un', 'incitador', 'de', 'interés', 'y', 'un', 'mérito', 'por', 'más', 'pequeñas', 'que', 'sean.Meta:', 'Un', 'punto', 'final', 'al', 'cual', 'llegar.', 'Debe', 'ir', 'acompañado', 'de', 'un', 'incremento', 'de', 'emociones', 'y', 'tensión', 'mientras', 'el', 'juego', 'se', 'acerca', 'a', 'su', 'conclusión.Críticas', 'y', 'límites', 'a', 'la', 'Teoría', 'de', 'Juegos[editar]A', 'lo', 'largo', 'de', 'los', 'años,', 'la', 'Teoría', 'de', 'Juegos', 'ha', 'enfrentado', 'diversas', 'críticas', 'y', 'limitaciones', 'desde', 'el', 'ámbito', 'académico.', 'Uno', 'de', 'los', 'principales', 'detractores', 'de', 'la', 'teoría', 'es', 'el', 'economista', 'y', 'filósofoAmartya', 'Sen,', 'quien', 'argumenta', 'que', 'la', 'Teoría', 'de', 'Juegos', 'se', 'centra', 'demasiado', 'en', 'la', 'racionalidad', 'individual', 'y', 'en', 'la', 'maximización', 'de', 'la', 'utilidad,', 'obviando', 'aspectos', 'como', 'la', 'empatía,', 'el', 'compromiso', 'y', 'la', 'responsabilidad', 'social.', 'Otro', 'crítico', 'es', 'el', 'economista', 'y', 'psicólogoHerbert', 'Simon,', 'quien', 'sostiene', 'que', 'la', 'Teoría', 'de', 'Juegos', 'asume', 'que', 'los', 'individuos', 'son', 'capaces', 'de', 'procesar', 'y', 'evaluar', 'toda', 'la', 'información', 'disponible', 'para', 'tomar', 'decisiones', 'óptimas,', 'mientras', 'que', 'en', 'la', 'realidad,', 'los', 'agentes', 'económicos', 'suelen', 'tomar', 'decisiones', 'basadas', 'en', 'una', '\"racionalidad', 'limitada\".', 'Además,', 'algunos', 'académicos', 'han', 'señalado', 'que', 'la', 'Teoría', 'de', 'Juegos', 'no', 'siempre', 'es', 'aplicable', 'en', 'situaciones', 'deincertidumbre,', 'pues', 'sus', 'modelos', 'tienden', 'a', 'asumir', 'que', 'los', 'agentes', 'conocen', 'las', 'probabilidades', 'y', 'las', 'posibles', 'acciones', 'de', 'los', 'demás', 'jugadores.Historia', 'de', 'la', 'teoría', 'de', 'juegos[editar]Cronología[17]\\u200bAñoAcontecimiento1713James', 'Waldegraveda', 'la', 'primera', 'demostración', 'matemáticapara', 'un', 'caso', 'de', 'dos', 'jugadores.1838Antoine', 'Augustin', 'Cournotpublica', 'una', 'solución', 'teórica', 'alcaso', 'de', 'dos', 'jugadores.1928John', 'von', 'Neumannpresenta', 'una', 'serie', 'de', 'artículos', 'sobre', 'el', 'tema.1944John', 'von', 'Neumann', 'junto', 'conOskar', 'MorgensternpublicanTheory', 'of', 'Games', 'and', 'Economic', 'Behavior.1950Albert', 'W.', 'Tuckerplanteó', 'formalmente', '\"dilema', 'del', 'prisionero\",fundamental', 'en', 'la', 'teoría', 'de', 'juegos.John', 'Forbes', 'Nash,', 'bajo', 'la', 'dirección', 'de', 'Albert', 'W.', 'Tucker,se', 'doctora', 'con', 'una', 'tesis', 'sobrejuegos', 'no', 'cooperativos,que', 'incluye', 'lo', 'que', 'más', 'tarde', 'se', 'denominó', 'comoel', 'equilibrio', 'de', 'Nash.1965Reinhard', 'Seltenintrodujo', 'su', 'concepto', 'de', 'solución', 'de', 'los', 'equilibriosperfectos', 'del', 'subjuego,', 'que', 'más', 'adelante', 'refinó', 'el', 'equilibrio', 'de', 'Nash.1967John', 'Harsanyidesarrolló', 'los', 'conceptos', 'de', 'la', 'informacióncompleta', 'y', 'de', 'losjuegos', 'bayesianos.1982En', 'biologíaJohn', 'Maynard', 'Smithintroduce', 'el', 'concepto', 'deestrategia', 'evolutivamente', 'estable.1994John', 'Harsanyi,John', 'Forbes', 'NashyReinhard', 'Seltenganan', 'elPremio', 'en', 'Ciencias', 'Económicas', 'en', 'memoria', 'de', 'Alfred', 'Nobel.2012Lloyd', 'Stowell', 'ShapleyyAlvin', 'E.', 'Rothganan', 'elPremio', 'en', 'Ciencias', 'Económicas', 'en', 'memoria', 'de', 'Alfred', 'Nobel.La', 'primera', 'discusión', 'conocida', 'de', 'la', 'teoría', 'de', 'juegos', 'aparece', 'en', 'una', 'carta', 'escrita', 'porJames', 'Waldegraveen1713.', 'En', 'esta', 'carta,', 'Waldegrave', 'proporciona', 'una', 'soluciónmínimadeestrategia', 'mixtaa', 'una', 'versión', 'para', 'dos', 'personas', 'del', 'juego', 'de', 'cartasle', 'Her.', 'Sin', 'embargo', 'no', 'se', 'publicó', 'un', 'análisis', 'teórico', 'de', 'teoría', 'de', 'juegos', 'en', 'general', 'hasta', 'la', 'publicación', 'deRecherches', 'sur', 'les', 'príncipes', 'mathématiques', 'de', 'la', 'théorie', 'des', 'richesses,', 'deAntoine', 'Augustin', 'Cournoten1838.', 'En', 'este', 'trabajo,', 'Cournot', 'considera', 'unduopolioy', 'presenta', 'una', 'solución', 'que', 'es', 'una', 'versión', 'restringida', 'delequilibrio', 'de', 'Nash.Aunque', 'el', 'análisis', 'de', 'Cournot', 'es', 'más', 'general', 'que', 'el', 'de', 'Waldegrave,', 'la', 'teoría', 'de', 'juegos', 'realmente', 'no', 'existió', 'como', 'campo', 'de', 'estudio', 'aparte', 'hasta', 'queJohn', 'von', 'Neumannpublicó', 'una', 'serie', 'de', 'artículos', 'en1928.', 'Estos', 'resultados', 'fueron', 'ampliados', 'más', 'tarde', 'en', 'su', 'libro', 'de1944,Theory', 'of', 'Games', 'and', 'Economic', 'Behavior[18]\\u200b,', 'escrito', 'junto', 'conOskar', 'Morgenstern.', 'Este', 'trabajo', 'contiene', 'un', 'método', 'para', 'encontrar', 'soluciones', 'óptimas', 'para', 'juegos', 'de', 'suma', 'cero', 'de', 'dos', 'personas.', 'Durante', 'este', 'período,', 'el', 'trabajo', 'sobre', 'teoría', 'de', 'juegos', 'se', 'centró,', 'sobre', 'todo,', 'en', 'teoría', 'de', 'juegos', 'cooperativos.', 'Este', 'tipo', 'de', 'teoría', 'de', 'juegos', 'analiza', 'las', 'estrategias', 'óptimas', 'para', 'grupos', 'de', 'individuos,', 'asumiendo', 'que', 'pueden', 'establecer', 'acuerdos', 'entre', 'sí', 'acerca', 'de', 'las', 'estrategias', 'más', 'apropiadas.En1950Albert', 'W.', 'Tuckerplanteó', 'formalmente', 'las', 'primeras', 'discusiones', 'deldilema', 'del', 'prisionero,', 'y', 'se', 'emprendió', 'un', 'experimento', 'acerca', 'de', 'este', 'juego', 'en', 'la', 'corporaciónRAND.', 'En', 'ese', 'añoJohn', 'Nashdesarrolló', 'una', 'definición', 'de', 'una', 'estrategia', 'óptima', 'para', 'juegos', 'de', 'múltiples', 'jugadores', 'donde', 'el', 'óptimo', 'no', 'se', 'había', 'definido', 'previamente,', 'conocido', 'comoequilibrio', 'de', 'Nash,', 'bajo', 'la', 'supervisión', 'del', 'mencionado', 'Tucker.', 'Este', 'equilibrio', 'es', 'suficientemente', 'general,', 'permitiendo', 'el', 'análisis', 'de', 'juegos', 'no', 'cooperativos', 'además', 'de', 'los', 'juegos', 'cooperativos.La', 'teoría', 'de', 'juegos', 'experimentó', 'una', 'notable', 'actividad', 'en', 'la', 'década', 'de', '1950,', 'momento', 'en', 'el', 'cual', 'los', 'conceptos', 'base,', 'el', 'juego', 'de', 'forma', 'extensiva,', 'el', 'juego', 'ficticio,', 'los', 'juegos', 'repetitivos,', 'y', 'elvalor', 'de', 'Shapleyfueron', 'desarrollados.', 'Además,', 'en', 'ese', 'tiempo,', 'aparecieron', 'las', 'primeras', 'aplicaciones', 'de', 'la', 'teoría', 'de', 'juegos', 'en', 'lafilosofíay', 'lasciencias', 'políticas.En1965,Reinhard', 'Seltenintrodujo', 'su', 'concepto', 'de', 'solución', 'de', 'los', 'equilibrios', 'perfectos', 'del', 'subjuego', 'y', 'el', 'concepto', 'deequilibrio', 'perfecto', 'de', 'mano', 'temblorosa,', 'que', 'más', 'adelante', 'refinaron', 'el', 'concepto', 'de', 'equilibrio', 'de', 'Nash.', 'En1967John', 'Harsanyidesarrolló', 'los', 'conceptos', 'de', 'la', 'información', 'completa', 'y', 'de', 'losjuegos', 'bayesianos.', 'Él,', 'junto', 'conJohn', 'Forbes', 'Nashy', 'Reinhard', 'Selten,', 'ganaron', 'elPremio', 'en', 'Ciencias', 'Económicas', 'en', 'memoria', 'de', 'Alfred', 'Nobelen1994.En', 'ladécada', 'de', '1970la', 'teoría', 'de', 'juegos', 'se', 'aplicó', 'extensamente', 'a', 'labiología,', 'en', 'gran', 'parte', 'como', 'resultado', 'del', 'trabajo', 'deJohn', 'Maynard', 'Smithy', 'su', 'concepto', 'estrategia', 'estable', 'evolutiva.', 'Además,', 'los', 'conceptos', 'delequilibrio', 'correlacionado,equilibrio', 'perfecto', 'de', 'mano', 'temblorosa,', 'y', 'del', 'conocimiento', 'común', 'fueron', 'introducidos', 'y', 'analizados.[19]\\u200bEn2005,', 'los', 'teóricos', 'de', 'juegosThomas', 'SchellingyRobert', 'Aumannganaron', 'elPremio', 'en', 'Ciencias', 'Económicas', 'en', 'memoria', 'de', 'Alfred', 'Nobel.', 'Schelling', 'trabajó', 'en', 'modelos', 'dinámicos,', 'los', 'primeros', 'ejemplos', 'de', 'la', 'teoría', 'de', 'juegos', 'evolutiva.', 'Por', 'su', 'parte,', 'Aumann', 'contribuyó', 'más', 'a', 'laescuela', 'del', 'equilibrio.En', 'el2007,Roger', 'Myerson,', 'junto', 'conLeonid', 'HurwiczyEric', 'Maskin,', 'recibieron', 'elPremio', 'en', 'Ciencias', 'Económicas', 'en', 'memoria', 'de', 'Alfred', 'Nobelpor', '\"sentar', 'las', 'bases', 'de', 'la', 'teoría', 'dediseño', 'de', 'mecanismos.\"En', 'el2012,Lloyd', 'Stowell', 'ShapleyyAlvin', 'E.', 'Rothganan', 'elPremio', 'en', 'Ciencias', 'Económicas', 'en', 'memoria', 'de', 'Alfred', 'Nobelpor', 'dar', 'nombre', 'dentro', 'de', 'este', 'campo', 'a', 'media', 'docena', 'de', 'teoremas,', 'algoritmos,', 'principios,', 'soluciones', 'e', 'índices.Véase', 'también[editar]Teoría', 'de', 'los', 'juegos', 'de', 'rolDinámica', 'de', 'sistemasSistema', 'dinámicoSistema', 'complejoBibliografía[editar]Referencias', 'generales[editar]Bierman,', 'H.', 'S.', 'y', 'L.', 'Fernández,Game', 'Theory', 'with', 'economic', 'applications,', 'Addison-Wesley,', '1998.Davis,', 'M.', 'D.', '(1971):', 'Introducción', 'a', 'la', 'teoría', 'de', 'juegos.', 'Alianza', 'Editorial,', '1.ª', 'edición.Fudenberg,', 'Drew', 'y', 'Jean', 'Tirole:Game', 'Theory,', 'MIT', 'Press,', '1991,ISBN', '0-262-06141-4.Gaffal,', 'Margit', 'yJesús', 'Padilla', 'Gálvez:Negociación.', 'Teoría', 'de', 'juegos,', 'juegos', 'de', 'lenguaje', 'y', 'formas', 'de', 'vida,', 'Valencia,', 'Tirant', 'Humanidades,', '2023,', 'ISBN978-84-19632-23-4.', 'Disponible', 'en', 'Internet', 'en[1]Gardner,', 'R.', '(1996):Juegos', 'para', 'empresarios', 'y', 'economistas.', 'Antoni', 'Bosh', 'editores,', '1.ª', 'edición.Gibbons,', 'Robert', '(1992):Game', 'Theory', 'for', 'Applied', 'Economists,', 'Princeton', 'University', 'PressISBN', '0-691-00395-5.', 'También', 'publicado', 'en', 'Londres', 'por', 'Harvester', 'Wheatsheaf', '(Londres)', 'con', 'el', 'títuloA', 'primer', 'in', 'game', 'theory.Gibbons,', 'R.', '(1993):Un', 'primer', 'curso', 'de', 'teoría', 'de', 'juegos.', 'Antoni', 'Bosch', 'editores,', '1.ª', 'edición.Ginits,', 'Herbert', '(2000):Game', 'Theory', 'Evolving.', 'Princeton', 'University', 'Press,ISBN', '0-691-00943-0.Osborne,', 'Martin', 'y', 'Ariel', 'Rubinstein:A', 'Course', 'in', 'Game', 'Theory,', 'MIT', 'Press,', '1994,ISBN', '0-262-65040-1.Rasmusen,', 'Erik:Games', 'and', 'information,', '4ª', 'edición,', 'Blackwell,', '2006.', 'Disponible', 'en', 'Internet', 'enhttp://www.rasmusen.org/GI/index.html.William', 'Poundstone:El', 'Dilema', 'del', 'Prisionero,', 'Alianza', 'Editorial,', '2005.Cano,', 'Mauricio,', 'Mena', 'L.,', 'Carlos', 'y', 'Sadka,', 'Joyce', '(2009):', '\"Teoría', 'de', 'Juegos', 'y', 'Derecho', 'Contemporáneo;', 'Temas', 'Selectos\",', 'ITAM,', 'George', 'Mason', 'University', 'y', 'Porrúa.ISBN', '978-607-9-00031-8.Hillier,', 'Frederick', 'S.', 'Introducción', 'a', 'la', 'investigación', 'de', 'operaciones.', 'México,', 'D.F.', ':', 'McGraw-Hill,', 'c2010.Lecturas', 'adicionales[editar]Binmore,', 'K.', '(1994):Teoría', 'de', 'juegos.', 'Editorial', 'McGraw-Hill,', '1.ª', 'edición.Friedman,', 'J.W.', '(1991):Teoría', 'de', 'juegos', 'con', 'aplicaciones', 'a', 'la', 'economía.', 'Editorial', 'Alianza', 'Universidad.Kreps,', 'D.M.', '(1994):Teoría', 'de', 'juegos', 'y', 'modelación', 'económica.', 'Fondo', 'de', 'Cultura', 'Económica,', '1.ª', 'edición.Tirole,', 'J.', '(1990):La', 'teoría', 'de', 'la', 'organización', 'industrial.', 'Editorial', 'Ariel,', '1.ª', 'edición.Textos', 'de', 'importancia', 'histórica[editar]Fisher,', 'Ronald', '(1930)The', 'Genetical', 'Theory', 'of', 'Natural', 'Selection.', 'Clarendon', 'Press,', 'Oxford.Luce,', 'Duncan', 'y', 'Howard', 'RaiffaGames', 'and', 'Decisions:', 'Introduction', 'and', 'Critical', 'Survey.', 'Dover,ISBN', '0-486-65943-7.Maynard', 'Smith,', 'John:Evolution', 'and', 'the', 'Theory', 'of', 'Games,', 'Cambridge', 'University', 'Press,', '1982.Morgenstern,', 'Oskar', 'y', 'John', 'von', 'Neumann', '(1947):Theory', 'of', 'Games', 'and', 'Economic', 'Behavior.', 'Princeton', 'University', 'Press.Nash,', 'John', '(1950)', '\"Equilibrium', 'points', 'in', 'n-person', 'games\"Proceedings', 'of', 'the', 'National', 'Academy', 'of', 'the', 'USA36(1):48-49.Poundstone,', \"WilliamPrisoner's\", 'Dilemma:', 'John', 'von', 'Neumann,', 'Game', 'Theory', 'and', 'the', 'Puzzle', 'of', 'the', 'Bomb,ISBN', '0-385-41580-X.Notas[editar]↑De', 'cómo', 'la', 'teoría', 'matemática', 'de', 'los', 'juegos', 'de', 'estrategia', 'resolverá', 'los', 'problemas', 'de', 'la', 'Eurozona', 'y', 'frenará', 'las', 'armas', 'nucleares', 'iraníes,', 'Ariel', 'Rubinstein,', '5', 'de', 'mayo', 'de', '2013,', 'sin', 'permiso.↑Gametheory.net', 'tiene', 'una', 'extensa', 'lista', 'de', 'referencias', 'a', 'la', 'teoría', 'de', 'juegos', 'en', 'la', 'cultura', 'popular.↑Algunos', 'estudiosos', 'consideran', 'ciertos', 'juegos', 'asimétricos', 'como', 'ejemplos', 'de', 'este', 'tipo', 'de', 'juegos.', 'Sin', 'embargo,', 'las', 'recompensas', 'más', 'habituales', 'para', 'todos', 'estos', 'juegos', 'son', 'simétricas.↑El', 'trabajo', 'experimental', 'en', 'teoría', 'de', 'juegos', 'recibe', 'muchos', 'nombres:', 'economía', 'experimental,', 'economía', 'conductista', 'y', 'teoría', 'conductista', 'de', 'juegos.', 'Para', 'discusiones', 'recientes', 'en', 'este', 'campo', 'véase', 'Camer', '2003.↑Sanfey,', 'A.', 'G.', '(26', 'de', 'octubre', 'de', '2007).«Social', 'Decision-Making:', 'Insights', 'from', 'Game', 'Theory', 'and', 'Neuroscience».Science318(5850):', '598-602.ISSN0036-8075.doi:10.1126/science.1142996.', 'Consultado', 'el', '8', 'de', 'marzo', 'de', '2019.↑Unoka,', 'Zsolt;', 'Seres,', 'Imola;', 'Áspán,', 'Nikoletta;', 'Bódi,', 'Nikoletta;', 'Kéri,', 'Szabolcs', '(2009-08).«Trust', 'Game', 'Reveals', 'Restricted', 'Interpersonal', 'Transactions', 'in', 'Patients', 'With', 'Borderline', 'Personality', 'Disorder».Journal', 'of', 'Personality', 'Disorders23(4):', '399-409.ISSN0885-579X.doi:10.1521/pedi.2009.23.4.399.', 'Consultado', 'el', '8', 'de', 'marzo', 'de', '2019.↑King-Casas,', 'B.;', 'Sharp,', 'C.;', 'Lomax-Bream,', 'L.;', 'Lohrenz,', 'T.;', 'Fonagy,', 'P.;', 'Montague,', 'P.', 'R.', '(8', 'de', 'agosto', 'de', '2008).«The', 'Rupture', 'and', 'Repair', 'of', 'Cooperation', 'in', 'Borderline', 'Personality', 'Disorder».Science(en', 'inglés)321(5890):', '806-810.ISSN0036-8075.PMC4105006.PMID18687957.doi:10.1126/science.1156902.', 'Consultado', 'el', '8', 'de', 'marzo', 'de', '2019.↑Berg,', 'Joyce;', 'Dickhaut,', 'John;', 'McCabe,', 'Kevin', '(1995-7).«Trust,', 'Reciprocity,', 'and', 'Social', 'History».Games', 'and', 'Economic', 'Behavior(en', 'inglés)10(1):', '122-142.doi:10.1006/game.1995.1027.', 'Consultado', 'el', '8', 'de', 'marzo', 'de', '2019.↑van', '’t', 'Wout,', 'M.;', 'Sanfey,', 'A.G.', '(2008-9).«Friend', 'or', 'foe:', 'The', 'effect', 'of', 'implicit', 'trustworthiness', 'judgments', 'in', 'social', 'decision-making».Cognition(en', 'inglés)108(3):', '796-803.doi:10.1016/j.cognition.2008.07.002.', 'Consultado', 'el', '8', 'de', 'marzo', 'de', '2019.↑http://papers.ssrn.com/sol3/papers.cfm?abstract_id=433844↑Steven', 'J.', 'Brams,Game', 'theory', 'and', 'the', 'Cuban', 'missile', 'crisis,', 'Plus', 'Magazine,', '1', 'January', '2001,', 'accessed', '31', 'January', '2016.↑Aguilera', 'Gordillo,', 'Rafael.«Diseñan', 'nuevo', 'modelo', 'para', 'prevenir', 'responsabilidad', 'penal', 'de', 'las', 'empresas».La', 'Vanguardia.↑Aguilera', 'Gordillo,', 'R.', '(2018).Compliance', 'Penal', 'en', 'España.', 'Thomson', 'Reuters', 'Aranzadi.ISBN978-84-9197-188-7.↑Aguilera', 'Gordillo', '(2019).«Compliance', 'y', 'Teoría', 'de', 'Juegos».El', 'País', '/', 'Cinco', 'Días.↑Skyrms', '1996,', 'Grim', 'et', 'al.', '2004.↑Para', 'una', 'discusión', 'detallada', 'del', 'uso', 'de', 'la', 'teoría', 'de', 'juegos', 'en', 'ética', 'véase', 'la', 'entrada', 'de', 'la', 'Stanford', 'Encyclopedia', 'of', 'Philosophy,teoría', 'de', 'juegos', 'y', 'ética.↑Tony', 'Crilly', '(2011).50', 'cosas', 'que', 'hay', 'que', 'saber', 'sobre', 'matemáticas.', 'Ed.', 'Ariel.ISBN', '978-987-1496-09-9.↑Teoría', 'de', 'juegos', 'y', 'del', 'comportamiento', 'económico.↑Aunque', 'el', 'conocimiento', 'común', 'fue', 'discutido', 'por', 'primera', 'vez', 'por', 'el', 'filósofo', 'David', 'Lewis', 'en', 'su', 'disertaciónConventiona', 'finales', 'de', 'la', 'década', 'de', '1960,', 'no', 'se', 'estudió', 'con', 'detenimiento', 'por', 'los', 'economistas', 'hasta', 'el', 'trabajo', 'de', 'Robert', 'Aumann,', 'en', '1970.Enlaces', 'externos[editar]En', 'español[editar]Introducción', 'a', 'la', 'teoría', 'de', 'juegos,Eumed.net.Literatura', 'sobre', 'teoría', 'de', 'juegos,', 'Rubén', 'Osuna.Teoría', 'de', 'Juegos', 'y', 'Canales', 'de', 'Denuncia:', 'Explorando', 'estrategias', 'óptimas', 'para', 'promover', 'la', 'integridad', 'empresarial2023\"La', 'teoría', 'de', 'los', 'juegos', 'y', 'el', 'origen', 'de', 'las', 'instituciones\",', 'Martín', 'Krause,RIIM/ESEADE.Sencilla', 'introducción', 'a', 'la', 'teoría', 'de', 'juegos,', 'Raúl', 'Bajo.En', 'inglés[editar]\"Game', 'Theory\",', 'Wilfrid', 'Hodges,Stanford', 'Encyclopedia', 'of', 'Philosophy.\"A', 'framework', 'for', 'the', 'unification', 'of', 'the', 'behavioral', 'sciences\",', 'Herbert', 'Gintis,Behavioral', 'and', 'Brain', 'Sciences(2007)', '30:1-61.Game', 'Theory,', 'Experimental', 'Economics,', 'and', 'Market', 'Design', 'Page,', 'Alvin', 'Roth.A', 'Chronology', 'of', 'Game', 'Theory,', 'Paul', 'Walker.GameTheory.net:', 'A', 'resource', 'for', 'educators', 'and', 'students', 'of', 'game', 'theory,', 'Mike', 'Shor.Introduction', 'to', 'Game', 'Theory.', 'Lecture', 'by', 'Benjamin', 'Polak..mw-parser-output', '.mw-authority-control{margin-top:1.5em}.mw-parser-output', '.mw-authority-control', '.navbox', 'table{margin:0}.mw-parser-output', '.mw-authority-control', '.navbox', 'hr:last-child{display:none}.mw-parser-output', '.mw-authority-control', '.navbox+.mw-mf-linked-projects{display:none}.mw-parser-output', '.mw-authority-control', '.mw-mf-linked-projects{display:flex;padding:0.5em;border:1px', 'solid', '#c8ccd1;background-color:#eaecf0;color:#222222}.mw-parser-output', '.mw-authority-control', '.mw-mf-linked-projects', 'ul', 'li{margin-bottom:0}Control', 'de', 'autoridadesProyectos', 'WikimediaDatos:Q44455Multimedia:Game', 'theory/Q44455IdentificadoresBNE:XX4576411BNF:11941518c(data)GND:4056243-8LCCN:sh85052941NDL:00574436NKC:ph126557NLI:987007557922805171SUDOC:02735525XDiccionarios', 'y', 'enciclopediasBritannica:urlIdentificadores', 'médicosMeSH:D005716UMLS:C0016997Datos:Q44455Multimedia:Game', 'theory/Q44455Obtenido', 'de', '«https://es.wikipedia.org/w/index.php?title=Teoría_de_juegos&oldid=151063250»Categoría:Teoría', 'de', 'juegosCategorías', 'ocultas:Wikipedia:Páginas', 'con', 'enlaces', 'mágicos', 'de', 'ISBNWikipedia:Artículos', 'que', 'necesitan', 'referencias', 'adicionalesWikipedia:Referenciar', '(aún', 'sin', 'clasificar)Wikipedia:Artículos', 'con', 'identificadores', 'BNEWikipedia:Artículos', 'con', 'identificadores', 'BNFWikipedia:Artículos', 'con', 'identificadores', 'GNDWikipedia:Artículos', 'con', 'identificadores', 'LCCNEsta', 'página', 'se', 'editó', 'por', 'última', 'vez', 'el', '10', 'may', '2023', 'a', 'las', '07:00.El', 'texto', 'está', 'disponible', 'bajo', 'laLicencia', 'Creative', 'Commons', 'Atribución', 'Compartir', 'Igual', '4.0;', 'pueden', 'aplicarse', 'cláusulas', 'adicionales.', 'Al', 'usar', 'este', 'sitio,', 'usted', 'acepta', 'nuestrostérminos', 'de', 'usoy', 'nuestrapolítica', 'de', 'privacidad.Wikipedia®', 'es', 'una', 'marca', 'registrada', 'de', 'laFundación', 'Wikimedia,', 'Inc.,', 'una', 'organización', 'sin', 'ánimo', 'de', 'lucro.Política', 'de', 'privacidadAcerca', 'de', 'WikipediaLimitación', 'de', 'responsabilidadCódigo', 'de', 'conductaVersión', 'para', 'móvilesDesarrolladoresEstadísticasDeclaración', 'de', 'cookiesActivar', 'o', 'desactivar', 'el', 'límite', 'de', 'anchura', 'del', 'contenido(RLQ=window.RLQ||[]).push(function(){mw.config.set({\"wgHostname\":\"mw2274\",\"wgBackendResponseTime\":129,\"wgPageParseReport\":{\"limitreport\":{\"cputime\":\"0.323\",\"walltime\":\"0.437\",\"ppvisitednodes\":{\"value\":2904,\"limit\":1000000},\"postexpandincludesize\":{\"value\":34584,\"limit\":2097152},\"templateargumentsize\":{\"value\":2377,\"limit\":2097152},\"expansiondepth\":{\"value\":23,\"limit\":100},\"expensivefunctioncount\":{\"value\":12,\"limit\":500},\"unstrip-depth\":{\"value\":0,\"limit\":20},\"unstrip-size\":{\"value\":20814,\"limit\":5000000},\"entityaccesscount\":{\"value\":13,\"limit\":400},\"timingprofile\":[\"100.00%', '335.977', '1', '-total\",\"', '61.47%', '206.533', '1', 'Plantilla:Control_de_autoridades\",\"', '17.78%', '59.748', '1', 'Plantilla:Listaref\",\"', '12.26%', '41.196', '1', 'Plantilla:Referencias_adicionales\",\"', '11.02%', '37.014', '5', 'Plantilla:Cita_publicación\",\"', '8.05%', '27.041', '1', 'Plantilla:Aviso\",\"', '7.00%', '23.505', '2', 'Plantilla:Problemas_artículo/validar\",\"', '4.90%', '16.453', '12', 'Plantilla:Str_mid\",\"', '4.40%', '14.797', '24', 'Plantilla:Trim\",\"', '3.69%', '12.397', '1', 'Plantilla:Distinguir\"]},\"scribunto\":{\"limitreport-timeusage\":{\"value\":\"0.185\",\"limit\":\"10.000\"},\"limitreport-memusage\":{\"value\":5638863,\"limit\":52428800}},\"cachereport\":{\"origin\":\"mw2365\",\"timestamp\":\"20230609111838\",\"ttl\":1814400,\"transientcontent\":false}}});});{\"@context\":\"https:\\\\/\\\\/schema.org\",\"@type\":\"Article\",\"name\":\"Teor\\\\u00eda', 'de', 'juegos\",\"url\":\"https:\\\\/\\\\/es.wikipedia.org\\\\/wiki\\\\/Teor%C3%ADa_de_juegos\",\"sameAs\":\"http:\\\\/\\\\/www.wikidata.org\\\\/entity\\\\/Q44455\",\"mainEntity\":\"http:\\\\/\\\\/www.wikidata.org\\\\/entity\\\\/Q44455\",\"author\":{\"@type\":\"Organization\",\"name\":\"Colaboradores', 'de', 'los', 'proyectos', 'Wikimedia\"},\"publisher\":{\"@type\":\"Organization\",\"name\":\"Wikimedia', 'Foundation,', 'Inc.\",\"logo\":{\"@type\":\"ImageObject\",\"url\":\"https:\\\\/\\\\/www.wikimedia.org\\\\/static\\\\/images\\\\/wmf-hor-googpub.png\"}},\"datePublished\":\"2003-11-14T16:54:43Z\",\"dateModified\":\"2023-05-10T07:00:14Z\",\"headline\":\"\\\\u00e1rea', 'de', 'la', 'matem\\\\u00e1tica', 'aplicada\"}{\"@context\":\"https:\\\\/\\\\/schema.org\",\"@type\":\"Article\",\"name\":\"Teor\\\\u00eda', 'de', 'juegos\",\"url\":\"https:\\\\/\\\\/es.wikipedia.org\\\\/wiki\\\\/Teor%C3%ADa_de_juegos\",\"sameAs\":\"http:\\\\/\\\\/www.wikidata.org\\\\/entity\\\\/Q44455\",\"mainEntity\":\"http:\\\\/\\\\/www.wikidata.org\\\\/entity\\\\/Q44455\",\"author\":{\"@type\":\"Organization\",\"name\":\"Colaboradores', 'de', 'los', 'proyectos', 'Wikimedia\"},\"publisher\":{\"@type\":\"Organization\",\"name\":\"Wikimedia', 'Foundation,', 'Inc.\",\"logo\":{\"@type\":\"ImageObject\",\"url\":\"https:\\\\/\\\\/www.wikimedia.org\\\\/static\\\\/images\\\\/wmf-hor-googpub.png\"}},\"datePublished\":\"2003-11-14T16:54:43Z\",\"dateModified\":\"2023-05-10T07:00:14Z\",\"headline\":\"\\\\u00e1rea', 'de', 'la', 'matem\\\\u00e1tica', 'aplicada\"}']\n"
          ]
        }
      ],
      "source": [
        "tokens = [t for t in text.split()]\n",
        "print(tokens)"
      ]
    },
    {
      "cell_type": "markdown",
      "metadata": {
        "id": "8nOolEeJ1g9K"
      },
      "source": [
        "<b>Primer Análisis</b>, eliminamos stopwords y realizamos un cálculo de la frecuencia de las palabras, por último identificamos las palabras más utilizadas"
      ]
    },
    {
      "cell_type": "code",
      "execution_count": null,
      "metadata": {
        "id": "KgBFKTb64kMA"
      },
      "outputs": [],
      "source": [
        "from nltk.corpus import stopwords\n",
        "\n",
        "sr = stopwords.words('spanish')\n",
        "clean_tokens = tokens[:]\n",
        "\n",
        "for token in tokens:\n",
        "    if token in stopwords.words('spanish'):\n",
        "        clean_tokens.remove(token)\n",
        "freq = nltk.FreqDist(clean_tokens)\n",
        "\n",
        "for key,val in freq.items():\n",
        "    print(str(key) + ':' + str(val))\n",
        "\n",
        "\n",
        "freq.plot(20, cumulative=False)"
      ]
    },
    {
      "cell_type": "markdown",
      "metadata": {
        "id": "Ods__oGM2IVl"
      },
      "source": [
        "También podemos complementar el listado de stopwords a nuestro juicio propio"
      ]
    },
    {
      "cell_type": "code",
      "execution_count": null,
      "metadata": {
        "id": "zUymAJgx8Z4l"
      },
      "outputs": [],
      "source": [
        "from nltk.corpus import stopwords\n",
        "sr = stopwords.words('spanish') + ['ser','El','El','Los','1']\n",
        "clean_tokens = tokens[:]\n",
        "\n",
        "for token in tokens:\n",
        "    if token in stopwords.words('spanish') + ['ser','El','Los','1']:\n",
        "        clean_tokens.remove(token)\n",
        "\n",
        "freq = nltk.FreqDist(clean_tokens)\n",
        "for key,val in freq.items():\n",
        "    print(str(key) + ':' + str(val))\n",
        "freq.plot(20, cumulative=False)"
      ]
    },
    {
      "cell_type": "markdown",
      "metadata": {
        "id": "lOFaCI0P-YNw"
      },
      "source": [
        "# Sentiment Analysis"
      ]
    },
    {
      "cell_type": "markdown",
      "metadata": {
        "id": "R0xrzErO2h04"
      },
      "source": [
        "El <b>análisis de sentimientos</b> (o  <b>opinion mining</b>) utiliza el procesamiento del lenguaje natural (<b>Natural Language Processing</b>) y el machine learning para interpretar y clasificar las emociones en datos subjetivos. El análisis de opiniones se utiliza a menudo en los negocios para detectar opiniones en datos sociales, medir la reputación de la marca y comprender a los clientes.\n",
        "\n",
        "<img src=\"https://monkeylearn.com/static/3ca10d6ce5dc6922836f278aef38f765/50bf7/what-is-sentiment-analysis6%402x.png\" width=\"500\">\n",
        "\n",
        "<center><i>Fuente: https://monkeylearn.com/sentiment-analysis/</i></center>\n",
        "<br><br>\n",
        "\n",
        "\n",
        "\n"
      ]
    },
    {
      "cell_type": "markdown",
      "metadata": {
        "id": "IoDtHoU05IHJ"
      },
      "source": [
        "<h2> Análisis de sentimientos con Textblob </h2>\n",
        "\n",
        "[TextBlob](https://textblob.readthedocs.io/en/dev/) es una biblioteca de Python (2 y 3) para procesar datos textuales. Proporciona una API simple para sumergirse en tareas comunes de procesamiento de lenguaje natural (NLP), como etiquetado de parte del discurso, extracción de frases nominales, análisis de sentimientos, clasificación, traducción y más.\n",
        "\n",
        "<img src=\"https://textblob.readthedocs.io/en/dev/_static/textblob-logo.png\" width=\"200\">\n",
        "\n",
        "\n"
      ]
    },
    {
      "cell_type": "markdown",
      "metadata": {
        "id": "lqT8V6dz4mCb"
      },
      "source": [
        "Importamos librerías para tratamiendo de texto"
      ]
    },
    {
      "cell_type": "code",
      "execution_count": null,
      "metadata": {
        "id": "d7_WTUBo7LYT"
      },
      "outputs": [],
      "source": [
        "import tweepy\n",
        "from textblob import TextBlob"
      ]
    },
    {
      "cell_type": "markdown",
      "metadata": {
        "id": "sx-J0zGg5xUG"
      },
      "source": [
        "Podemos identificar cada uno de los componentes de la oración"
      ]
    },
    {
      "cell_type": "code",
      "execution_count": null,
      "metadata": {
        "id": "b1awo3Q9TkHZ"
      },
      "outputs": [],
      "source": [
        "txt_example = TextBlob(\"My music lesson is so fantastic\")"
      ]
    },
    {
      "cell_type": "code",
      "execution_count": null,
      "metadata": {
        "colab": {
          "base_uri": "https://localhost:8080/"
        },
        "id": "VichW9WDUCsS",
        "outputId": "32428255-0c66-4223-8aa4-2d84f86e8525"
      },
      "outputs": [
        {
          "output_type": "execute_result",
          "data": {
            "text/plain": [
              "[('My', 'PRP$'),\n",
              " ('music', 'NN'),\n",
              " ('lesson', 'NN'),\n",
              " ('is', 'VBZ'),\n",
              " ('so', 'RB'),\n",
              " ('fantastic', 'JJ')]"
            ]
          },
          "metadata": {},
          "execution_count": 34
        }
      ],
      "source": [
        "txt_example.tags"
      ]
    },
    {
      "cell_type": "code",
      "execution_count": null,
      "metadata": {
        "colab": {
          "base_uri": "https://localhost:8080/"
        },
        "id": "GBcsxhbJVDN0",
        "outputId": "c2d4ccad-8cc6-4dc3-9b83-aac921dfdd64"
      },
      "outputs": [
        {
          "output_type": "execute_result",
          "data": {
            "text/plain": [
              "WordList(['My', 'music', 'lesson', 'is', 'so', 'fantastic'])"
            ]
          },
          "metadata": {},
          "execution_count": 35
        }
      ],
      "source": [
        "txt_example.words"
      ]
    },
    {
      "cell_type": "markdown",
      "metadata": {
        "id": "wGXZ6flz61DW"
      },
      "source": [
        "\n",
        "<b>TextBlob</b> devuelve la polaridad y subjetividad de una oración. La <b>polaridad</b> se encuentra entre [-1,1], -1 define un sentimiento negativo y 1 define un sentimiento positivo. Las palabras de negación invierten la polaridad.\n",
        "\n",
        "<b>TextBlob</b>  tiene etiquetas semánticas que ayudan con el análisis detallado. Por ejemplo, emoticonos, signos de exclamación, emojis, etc. La subjetividad se encuentra entre [0,1]. La subjetividad cuantifica la cantidad de opinión personal e información fáctica contenida en el texto. La subjetividad más alta significa que el texto contiene opiniones personales en lugar de información fáctica. TextBlob tiene un parámetro más: la intensidad.\n",
        "\n",
        "<b>TextBlob</b>  calcula la subjetividad observando la \"intensidad\". La intensidad determina si una palabra modifica la siguiente. Para el inglés, los adverbios se utilizan como modificadores (\"muy bueno\")."
      ]
    },
    {
      "cell_type": "markdown",
      "metadata": {
        "id": "L27hLVbJ6Afe"
      },
      "source": [
        "Finalmente podemos realizar un análisis de la polaridad del sentimiento del texto"
      ]
    },
    {
      "cell_type": "code",
      "execution_count": null,
      "metadata": {
        "colab": {
          "base_uri": "https://localhost:8080/"
        },
        "id": "hU4ErXEGWDSm",
        "outputId": "ed2b45f0-749d-4ee2-fe01-ee94ce467522"
      },
      "outputs": [
        {
          "output_type": "execute_result",
          "data": {
            "text/plain": [
              "0.4"
            ]
          },
          "metadata": {},
          "execution_count": 36
        }
      ],
      "source": [
        "txt_example.sentiment.polarity"
      ]
    },
    {
      "cell_type": "markdown",
      "metadata": {
        "id": "x2lFwZMhvrP1"
      },
      "source": [
        "# Social media Sentiment Analytics"
      ]
    },
    {
      "cell_type": "markdown",
      "metadata": {
        "id": "7VjWEba97ZEm"
      },
      "source": [
        "Para esto necesitaremos permisos de acceso de investigador a fuentes de social media."
      ]
    },
    {
      "cell_type": "code",
      "execution_count": null,
      "metadata": {
        "id": "hbHT0NFbL97Q"
      },
      "outputs": [],
      "source": [
        "consumer_key = 'BpMa47xMrhrdg3VnII49WR3lQ'\n",
        "consumer_secret = '6PTzrDT9wkb3OMG4zKel7mioGKobNDcyPjLX0r5P2Mw0a6rQgB'\n",
        "\n",
        "access_token = '1865754584-Cnai3Umxlur73nWuTLjerjpX2C2G15Z4BTHxX4K'\n",
        "access_token_secret = 'qQU1QLdn936VdfHknmGBKizDNDWCMp4fFDpeRhuQFd2yP'\n"
      ]
    },
    {
      "cell_type": "markdown",
      "metadata": {
        "id": "LfazEHSg7pYL"
      },
      "source": [
        "Seteando usuario"
      ]
    },
    {
      "cell_type": "code",
      "execution_count": null,
      "metadata": {
        "id": "dlXQXgZhWs27"
      },
      "outputs": [],
      "source": [
        "auth = tweepy.OAuthHandler(consumer_key, consumer_secret)\n",
        "auth.set_access_token(access_token, access_token_secret)"
      ]
    },
    {
      "cell_type": "code",
      "execution_count": null,
      "metadata": {
        "id": "BRnDaSZVYP9m"
      },
      "outputs": [],
      "source": [
        "api = tweepy.API(auth)"
      ]
    },
    {
      "cell_type": "markdown",
      "metadata": {
        "id": "1kWbJ4u77udO"
      },
      "source": [
        "Para comenzar, importaremos los 200 últimos tweets referentes a un tópico particular"
      ]
    },
    {
      "cell_type": "code",
      "source": [
        "api.user_timeline?"
      ],
      "metadata": {
        "id": "4P8QuiBkAHzt"
      },
      "execution_count": null,
      "outputs": []
    },
    {
      "cell_type": "code",
      "execution_count": null,
      "metadata": {
        "id": "sZcwQ9su_CSP"
      },
      "outputs": [],
      "source": [
        "public_tweets = api.user_timeline(screen_name='Netflix', count = 200)\n"
      ]
    },
    {
      "cell_type": "code",
      "execution_count": null,
      "metadata": {
        "id": "sGJynQ8luZya"
      },
      "outputs": [],
      "source": [
        "public_tweets"
      ]
    },
    {
      "cell_type": "markdown",
      "metadata": {
        "id": "6b9Yvm3I76Oj"
      },
      "source": [
        "Y aplicaremos nuestro análisis de polaridad"
      ]
    },
    {
      "cell_type": "code",
      "execution_count": null,
      "metadata": {
        "id": "wIlDHSayYwnO"
      },
      "outputs": [],
      "source": [
        "for tweet in public_tweets:\n",
        "  print(tweet.text)\n",
        "  analysis = TextBlob(tweet.text)\n",
        "  print(analysis.sentiment.polarity)"
      ]
    },
    {
      "cell_type": "code",
      "execution_count": null,
      "metadata": {
        "colab": {
          "base_uri": "https://localhost:8080/"
        },
        "id": "ylgXOXtKZ8a_",
        "outputId": "56b48ec9-a40d-4ddf-899f-ac0cdd82b654"
      },
      "outputs": [
        {
          "output_type": "execute_result",
          "data": {
            "text/plain": [
              "200"
            ]
          },
          "metadata": {},
          "execution_count": 44
        }
      ],
      "source": [
        "len(public_tweets)"
      ]
    },
    {
      "cell_type": "code",
      "execution_count": null,
      "metadata": {
        "id": "Z7epPXpZdg6Z"
      },
      "outputs": [],
      "source": [
        "import pandas as pd\n",
        "df = pd.DataFrame(columns=['SCORE'])"
      ]
    },
    {
      "cell_type": "code",
      "execution_count": null,
      "metadata": {
        "colab": {
          "base_uri": "https://localhost:8080/"
        },
        "id": "d2IV1zs2ZC3-",
        "outputId": "f558ca24-82db-4d67-8c72-cad807e1d733"
      },
      "outputs": [
        {
          "output_type": "stream",
          "name": "stderr",
          "text": [
            "<ipython-input-46-04255d4c2eb3>:1: FutureWarning: The default dtype for empty Series will be 'object' instead of 'float64' in a future version. Specify a dtype explicitly to silence this warning.\n",
            "  equation = pd.Series([])\n",
            "<ipython-input-46-04255d4c2eb3>:6: FutureWarning: The series.append method is deprecated and will be removed from pandas in a future version. Use pandas.concat instead.\n",
            "  equation = equation.append(pd.Series(a))\n",
            "<ipython-input-46-04255d4c2eb3>:6: FutureWarning: The series.append method is deprecated and will be removed from pandas in a future version. Use pandas.concat instead.\n",
            "  equation = equation.append(pd.Series(a))\n",
            "<ipython-input-46-04255d4c2eb3>:6: FutureWarning: The series.append method is deprecated and will be removed from pandas in a future version. Use pandas.concat instead.\n",
            "  equation = equation.append(pd.Series(a))\n",
            "<ipython-input-46-04255d4c2eb3>:6: FutureWarning: The series.append method is deprecated and will be removed from pandas in a future version. Use pandas.concat instead.\n",
            "  equation = equation.append(pd.Series(a))\n",
            "<ipython-input-46-04255d4c2eb3>:6: FutureWarning: The series.append method is deprecated and will be removed from pandas in a future version. Use pandas.concat instead.\n",
            "  equation = equation.append(pd.Series(a))\n",
            "<ipython-input-46-04255d4c2eb3>:6: FutureWarning: The series.append method is deprecated and will be removed from pandas in a future version. Use pandas.concat instead.\n",
            "  equation = equation.append(pd.Series(a))\n",
            "<ipython-input-46-04255d4c2eb3>:6: FutureWarning: The series.append method is deprecated and will be removed from pandas in a future version. Use pandas.concat instead.\n",
            "  equation = equation.append(pd.Series(a))\n",
            "<ipython-input-46-04255d4c2eb3>:6: FutureWarning: The series.append method is deprecated and will be removed from pandas in a future version. Use pandas.concat instead.\n",
            "  equation = equation.append(pd.Series(a))\n",
            "<ipython-input-46-04255d4c2eb3>:6: FutureWarning: The series.append method is deprecated and will be removed from pandas in a future version. Use pandas.concat instead.\n",
            "  equation = equation.append(pd.Series(a))\n",
            "<ipython-input-46-04255d4c2eb3>:6: FutureWarning: The series.append method is deprecated and will be removed from pandas in a future version. Use pandas.concat instead.\n",
            "  equation = equation.append(pd.Series(a))\n",
            "<ipython-input-46-04255d4c2eb3>:6: FutureWarning: The series.append method is deprecated and will be removed from pandas in a future version. Use pandas.concat instead.\n",
            "  equation = equation.append(pd.Series(a))\n",
            "<ipython-input-46-04255d4c2eb3>:6: FutureWarning: The series.append method is deprecated and will be removed from pandas in a future version. Use pandas.concat instead.\n",
            "  equation = equation.append(pd.Series(a))\n",
            "<ipython-input-46-04255d4c2eb3>:6: FutureWarning: The series.append method is deprecated and will be removed from pandas in a future version. Use pandas.concat instead.\n",
            "  equation = equation.append(pd.Series(a))\n",
            "<ipython-input-46-04255d4c2eb3>:6: FutureWarning: The series.append method is deprecated and will be removed from pandas in a future version. Use pandas.concat instead.\n",
            "  equation = equation.append(pd.Series(a))\n",
            "<ipython-input-46-04255d4c2eb3>:6: FutureWarning: The series.append method is deprecated and will be removed from pandas in a future version. Use pandas.concat instead.\n",
            "  equation = equation.append(pd.Series(a))\n",
            "<ipython-input-46-04255d4c2eb3>:6: FutureWarning: The series.append method is deprecated and will be removed from pandas in a future version. Use pandas.concat instead.\n",
            "  equation = equation.append(pd.Series(a))\n",
            "<ipython-input-46-04255d4c2eb3>:6: FutureWarning: The series.append method is deprecated and will be removed from pandas in a future version. Use pandas.concat instead.\n",
            "  equation = equation.append(pd.Series(a))\n",
            "<ipython-input-46-04255d4c2eb3>:6: FutureWarning: The series.append method is deprecated and will be removed from pandas in a future version. Use pandas.concat instead.\n",
            "  equation = equation.append(pd.Series(a))\n",
            "<ipython-input-46-04255d4c2eb3>:6: FutureWarning: The series.append method is deprecated and will be removed from pandas in a future version. Use pandas.concat instead.\n",
            "  equation = equation.append(pd.Series(a))\n",
            "<ipython-input-46-04255d4c2eb3>:6: FutureWarning: The series.append method is deprecated and will be removed from pandas in a future version. Use pandas.concat instead.\n",
            "  equation = equation.append(pd.Series(a))\n",
            "<ipython-input-46-04255d4c2eb3>:6: FutureWarning: The series.append method is deprecated and will be removed from pandas in a future version. Use pandas.concat instead.\n",
            "  equation = equation.append(pd.Series(a))\n",
            "<ipython-input-46-04255d4c2eb3>:6: FutureWarning: The series.append method is deprecated and will be removed from pandas in a future version. Use pandas.concat instead.\n",
            "  equation = equation.append(pd.Series(a))\n",
            "<ipython-input-46-04255d4c2eb3>:6: FutureWarning: The series.append method is deprecated and will be removed from pandas in a future version. Use pandas.concat instead.\n",
            "  equation = equation.append(pd.Series(a))\n",
            "<ipython-input-46-04255d4c2eb3>:6: FutureWarning: The series.append method is deprecated and will be removed from pandas in a future version. Use pandas.concat instead.\n",
            "  equation = equation.append(pd.Series(a))\n",
            "<ipython-input-46-04255d4c2eb3>:6: FutureWarning: The series.append method is deprecated and will be removed from pandas in a future version. Use pandas.concat instead.\n",
            "  equation = equation.append(pd.Series(a))\n",
            "<ipython-input-46-04255d4c2eb3>:6: FutureWarning: The series.append method is deprecated and will be removed from pandas in a future version. Use pandas.concat instead.\n",
            "  equation = equation.append(pd.Series(a))\n",
            "<ipython-input-46-04255d4c2eb3>:6: FutureWarning: The series.append method is deprecated and will be removed from pandas in a future version. Use pandas.concat instead.\n",
            "  equation = equation.append(pd.Series(a))\n",
            "<ipython-input-46-04255d4c2eb3>:6: FutureWarning: The series.append method is deprecated and will be removed from pandas in a future version. Use pandas.concat instead.\n",
            "  equation = equation.append(pd.Series(a))\n",
            "<ipython-input-46-04255d4c2eb3>:6: FutureWarning: The series.append method is deprecated and will be removed from pandas in a future version. Use pandas.concat instead.\n",
            "  equation = equation.append(pd.Series(a))\n",
            "<ipython-input-46-04255d4c2eb3>:6: FutureWarning: The series.append method is deprecated and will be removed from pandas in a future version. Use pandas.concat instead.\n",
            "  equation = equation.append(pd.Series(a))\n",
            "<ipython-input-46-04255d4c2eb3>:6: FutureWarning: The series.append method is deprecated and will be removed from pandas in a future version. Use pandas.concat instead.\n",
            "  equation = equation.append(pd.Series(a))\n",
            "<ipython-input-46-04255d4c2eb3>:6: FutureWarning: The series.append method is deprecated and will be removed from pandas in a future version. Use pandas.concat instead.\n",
            "  equation = equation.append(pd.Series(a))\n",
            "<ipython-input-46-04255d4c2eb3>:6: FutureWarning: The series.append method is deprecated and will be removed from pandas in a future version. Use pandas.concat instead.\n",
            "  equation = equation.append(pd.Series(a))\n",
            "<ipython-input-46-04255d4c2eb3>:6: FutureWarning: The series.append method is deprecated and will be removed from pandas in a future version. Use pandas.concat instead.\n",
            "  equation = equation.append(pd.Series(a))\n",
            "<ipython-input-46-04255d4c2eb3>:6: FutureWarning: The series.append method is deprecated and will be removed from pandas in a future version. Use pandas.concat instead.\n",
            "  equation = equation.append(pd.Series(a))\n",
            "<ipython-input-46-04255d4c2eb3>:6: FutureWarning: The series.append method is deprecated and will be removed from pandas in a future version. Use pandas.concat instead.\n",
            "  equation = equation.append(pd.Series(a))\n",
            "<ipython-input-46-04255d4c2eb3>:6: FutureWarning: The series.append method is deprecated and will be removed from pandas in a future version. Use pandas.concat instead.\n",
            "  equation = equation.append(pd.Series(a))\n",
            "<ipython-input-46-04255d4c2eb3>:6: FutureWarning: The series.append method is deprecated and will be removed from pandas in a future version. Use pandas.concat instead.\n",
            "  equation = equation.append(pd.Series(a))\n",
            "<ipython-input-46-04255d4c2eb3>:6: FutureWarning: The series.append method is deprecated and will be removed from pandas in a future version. Use pandas.concat instead.\n",
            "  equation = equation.append(pd.Series(a))\n",
            "<ipython-input-46-04255d4c2eb3>:6: FutureWarning: The series.append method is deprecated and will be removed from pandas in a future version. Use pandas.concat instead.\n",
            "  equation = equation.append(pd.Series(a))\n",
            "<ipython-input-46-04255d4c2eb3>:6: FutureWarning: The series.append method is deprecated and will be removed from pandas in a future version. Use pandas.concat instead.\n",
            "  equation = equation.append(pd.Series(a))\n",
            "<ipython-input-46-04255d4c2eb3>:6: FutureWarning: The series.append method is deprecated and will be removed from pandas in a future version. Use pandas.concat instead.\n",
            "  equation = equation.append(pd.Series(a))\n",
            "<ipython-input-46-04255d4c2eb3>:6: FutureWarning: The series.append method is deprecated and will be removed from pandas in a future version. Use pandas.concat instead.\n",
            "  equation = equation.append(pd.Series(a))\n",
            "<ipython-input-46-04255d4c2eb3>:6: FutureWarning: The series.append method is deprecated and will be removed from pandas in a future version. Use pandas.concat instead.\n",
            "  equation = equation.append(pd.Series(a))\n",
            "<ipython-input-46-04255d4c2eb3>:6: FutureWarning: The series.append method is deprecated and will be removed from pandas in a future version. Use pandas.concat instead.\n",
            "  equation = equation.append(pd.Series(a))\n",
            "<ipython-input-46-04255d4c2eb3>:6: FutureWarning: The series.append method is deprecated and will be removed from pandas in a future version. Use pandas.concat instead.\n",
            "  equation = equation.append(pd.Series(a))\n",
            "<ipython-input-46-04255d4c2eb3>:6: FutureWarning: The series.append method is deprecated and will be removed from pandas in a future version. Use pandas.concat instead.\n",
            "  equation = equation.append(pd.Series(a))\n",
            "<ipython-input-46-04255d4c2eb3>:6: FutureWarning: The series.append method is deprecated and will be removed from pandas in a future version. Use pandas.concat instead.\n",
            "  equation = equation.append(pd.Series(a))\n",
            "<ipython-input-46-04255d4c2eb3>:6: FutureWarning: The series.append method is deprecated and will be removed from pandas in a future version. Use pandas.concat instead.\n",
            "  equation = equation.append(pd.Series(a))\n",
            "<ipython-input-46-04255d4c2eb3>:6: FutureWarning: The series.append method is deprecated and will be removed from pandas in a future version. Use pandas.concat instead.\n",
            "  equation = equation.append(pd.Series(a))\n",
            "<ipython-input-46-04255d4c2eb3>:6: FutureWarning: The series.append method is deprecated and will be removed from pandas in a future version. Use pandas.concat instead.\n",
            "  equation = equation.append(pd.Series(a))\n",
            "<ipython-input-46-04255d4c2eb3>:6: FutureWarning: The series.append method is deprecated and will be removed from pandas in a future version. Use pandas.concat instead.\n",
            "  equation = equation.append(pd.Series(a))\n",
            "<ipython-input-46-04255d4c2eb3>:6: FutureWarning: The series.append method is deprecated and will be removed from pandas in a future version. Use pandas.concat instead.\n",
            "  equation = equation.append(pd.Series(a))\n",
            "<ipython-input-46-04255d4c2eb3>:6: FutureWarning: The series.append method is deprecated and will be removed from pandas in a future version. Use pandas.concat instead.\n",
            "  equation = equation.append(pd.Series(a))\n",
            "<ipython-input-46-04255d4c2eb3>:6: FutureWarning: The series.append method is deprecated and will be removed from pandas in a future version. Use pandas.concat instead.\n",
            "  equation = equation.append(pd.Series(a))\n",
            "<ipython-input-46-04255d4c2eb3>:6: FutureWarning: The series.append method is deprecated and will be removed from pandas in a future version. Use pandas.concat instead.\n",
            "  equation = equation.append(pd.Series(a))\n",
            "<ipython-input-46-04255d4c2eb3>:6: FutureWarning: The series.append method is deprecated and will be removed from pandas in a future version. Use pandas.concat instead.\n",
            "  equation = equation.append(pd.Series(a))\n",
            "<ipython-input-46-04255d4c2eb3>:6: FutureWarning: The series.append method is deprecated and will be removed from pandas in a future version. Use pandas.concat instead.\n",
            "  equation = equation.append(pd.Series(a))\n",
            "<ipython-input-46-04255d4c2eb3>:6: FutureWarning: The series.append method is deprecated and will be removed from pandas in a future version. Use pandas.concat instead.\n",
            "  equation = equation.append(pd.Series(a))\n",
            "<ipython-input-46-04255d4c2eb3>:6: FutureWarning: The series.append method is deprecated and will be removed from pandas in a future version. Use pandas.concat instead.\n",
            "  equation = equation.append(pd.Series(a))\n",
            "<ipython-input-46-04255d4c2eb3>:6: FutureWarning: The series.append method is deprecated and will be removed from pandas in a future version. Use pandas.concat instead.\n",
            "  equation = equation.append(pd.Series(a))\n",
            "<ipython-input-46-04255d4c2eb3>:6: FutureWarning: The series.append method is deprecated and will be removed from pandas in a future version. Use pandas.concat instead.\n",
            "  equation = equation.append(pd.Series(a))\n",
            "<ipython-input-46-04255d4c2eb3>:6: FutureWarning: The series.append method is deprecated and will be removed from pandas in a future version. Use pandas.concat instead.\n",
            "  equation = equation.append(pd.Series(a))\n",
            "<ipython-input-46-04255d4c2eb3>:6: FutureWarning: The series.append method is deprecated and will be removed from pandas in a future version. Use pandas.concat instead.\n",
            "  equation = equation.append(pd.Series(a))\n",
            "<ipython-input-46-04255d4c2eb3>:6: FutureWarning: The series.append method is deprecated and will be removed from pandas in a future version. Use pandas.concat instead.\n",
            "  equation = equation.append(pd.Series(a))\n",
            "<ipython-input-46-04255d4c2eb3>:6: FutureWarning: The series.append method is deprecated and will be removed from pandas in a future version. Use pandas.concat instead.\n",
            "  equation = equation.append(pd.Series(a))\n",
            "<ipython-input-46-04255d4c2eb3>:6: FutureWarning: The series.append method is deprecated and will be removed from pandas in a future version. Use pandas.concat instead.\n",
            "  equation = equation.append(pd.Series(a))\n",
            "<ipython-input-46-04255d4c2eb3>:6: FutureWarning: The series.append method is deprecated and will be removed from pandas in a future version. Use pandas.concat instead.\n",
            "  equation = equation.append(pd.Series(a))\n",
            "<ipython-input-46-04255d4c2eb3>:6: FutureWarning: The series.append method is deprecated and will be removed from pandas in a future version. Use pandas.concat instead.\n",
            "  equation = equation.append(pd.Series(a))\n",
            "<ipython-input-46-04255d4c2eb3>:6: FutureWarning: The series.append method is deprecated and will be removed from pandas in a future version. Use pandas.concat instead.\n",
            "  equation = equation.append(pd.Series(a))\n",
            "<ipython-input-46-04255d4c2eb3>:6: FutureWarning: The series.append method is deprecated and will be removed from pandas in a future version. Use pandas.concat instead.\n",
            "  equation = equation.append(pd.Series(a))\n",
            "<ipython-input-46-04255d4c2eb3>:6: FutureWarning: The series.append method is deprecated and will be removed from pandas in a future version. Use pandas.concat instead.\n",
            "  equation = equation.append(pd.Series(a))\n",
            "<ipython-input-46-04255d4c2eb3>:6: FutureWarning: The series.append method is deprecated and will be removed from pandas in a future version. Use pandas.concat instead.\n",
            "  equation = equation.append(pd.Series(a))\n",
            "<ipython-input-46-04255d4c2eb3>:6: FutureWarning: The series.append method is deprecated and will be removed from pandas in a future version. Use pandas.concat instead.\n",
            "  equation = equation.append(pd.Series(a))\n",
            "<ipython-input-46-04255d4c2eb3>:6: FutureWarning: The series.append method is deprecated and will be removed from pandas in a future version. Use pandas.concat instead.\n",
            "  equation = equation.append(pd.Series(a))\n",
            "<ipython-input-46-04255d4c2eb3>:6: FutureWarning: The series.append method is deprecated and will be removed from pandas in a future version. Use pandas.concat instead.\n",
            "  equation = equation.append(pd.Series(a))\n",
            "<ipython-input-46-04255d4c2eb3>:6: FutureWarning: The series.append method is deprecated and will be removed from pandas in a future version. Use pandas.concat instead.\n",
            "  equation = equation.append(pd.Series(a))\n",
            "<ipython-input-46-04255d4c2eb3>:6: FutureWarning: The series.append method is deprecated and will be removed from pandas in a future version. Use pandas.concat instead.\n",
            "  equation = equation.append(pd.Series(a))\n",
            "<ipython-input-46-04255d4c2eb3>:6: FutureWarning: The series.append method is deprecated and will be removed from pandas in a future version. Use pandas.concat instead.\n",
            "  equation = equation.append(pd.Series(a))\n",
            "<ipython-input-46-04255d4c2eb3>:6: FutureWarning: The series.append method is deprecated and will be removed from pandas in a future version. Use pandas.concat instead.\n",
            "  equation = equation.append(pd.Series(a))\n",
            "<ipython-input-46-04255d4c2eb3>:6: FutureWarning: The series.append method is deprecated and will be removed from pandas in a future version. Use pandas.concat instead.\n",
            "  equation = equation.append(pd.Series(a))\n",
            "<ipython-input-46-04255d4c2eb3>:6: FutureWarning: The series.append method is deprecated and will be removed from pandas in a future version. Use pandas.concat instead.\n",
            "  equation = equation.append(pd.Series(a))\n",
            "<ipython-input-46-04255d4c2eb3>:6: FutureWarning: The series.append method is deprecated and will be removed from pandas in a future version. Use pandas.concat instead.\n",
            "  equation = equation.append(pd.Series(a))\n",
            "<ipython-input-46-04255d4c2eb3>:6: FutureWarning: The series.append method is deprecated and will be removed from pandas in a future version. Use pandas.concat instead.\n",
            "  equation = equation.append(pd.Series(a))\n",
            "<ipython-input-46-04255d4c2eb3>:6: FutureWarning: The series.append method is deprecated and will be removed from pandas in a future version. Use pandas.concat instead.\n",
            "  equation = equation.append(pd.Series(a))\n",
            "<ipython-input-46-04255d4c2eb3>:6: FutureWarning: The series.append method is deprecated and will be removed from pandas in a future version. Use pandas.concat instead.\n",
            "  equation = equation.append(pd.Series(a))\n",
            "<ipython-input-46-04255d4c2eb3>:6: FutureWarning: The series.append method is deprecated and will be removed from pandas in a future version. Use pandas.concat instead.\n",
            "  equation = equation.append(pd.Series(a))\n",
            "<ipython-input-46-04255d4c2eb3>:6: FutureWarning: The series.append method is deprecated and will be removed from pandas in a future version. Use pandas.concat instead.\n",
            "  equation = equation.append(pd.Series(a))\n",
            "<ipython-input-46-04255d4c2eb3>:6: FutureWarning: The series.append method is deprecated and will be removed from pandas in a future version. Use pandas.concat instead.\n",
            "  equation = equation.append(pd.Series(a))\n",
            "<ipython-input-46-04255d4c2eb3>:6: FutureWarning: The series.append method is deprecated and will be removed from pandas in a future version. Use pandas.concat instead.\n",
            "  equation = equation.append(pd.Series(a))\n",
            "<ipython-input-46-04255d4c2eb3>:6: FutureWarning: The series.append method is deprecated and will be removed from pandas in a future version. Use pandas.concat instead.\n",
            "  equation = equation.append(pd.Series(a))\n",
            "<ipython-input-46-04255d4c2eb3>:6: FutureWarning: The series.append method is deprecated and will be removed from pandas in a future version. Use pandas.concat instead.\n",
            "  equation = equation.append(pd.Series(a))\n",
            "<ipython-input-46-04255d4c2eb3>:6: FutureWarning: The series.append method is deprecated and will be removed from pandas in a future version. Use pandas.concat instead.\n",
            "  equation = equation.append(pd.Series(a))\n",
            "<ipython-input-46-04255d4c2eb3>:6: FutureWarning: The series.append method is deprecated and will be removed from pandas in a future version. Use pandas.concat instead.\n",
            "  equation = equation.append(pd.Series(a))\n",
            "<ipython-input-46-04255d4c2eb3>:6: FutureWarning: The series.append method is deprecated and will be removed from pandas in a future version. Use pandas.concat instead.\n",
            "  equation = equation.append(pd.Series(a))\n",
            "<ipython-input-46-04255d4c2eb3>:6: FutureWarning: The series.append method is deprecated and will be removed from pandas in a future version. Use pandas.concat instead.\n",
            "  equation = equation.append(pd.Series(a))\n",
            "<ipython-input-46-04255d4c2eb3>:6: FutureWarning: The series.append method is deprecated and will be removed from pandas in a future version. Use pandas.concat instead.\n",
            "  equation = equation.append(pd.Series(a))\n",
            "<ipython-input-46-04255d4c2eb3>:6: FutureWarning: The series.append method is deprecated and will be removed from pandas in a future version. Use pandas.concat instead.\n",
            "  equation = equation.append(pd.Series(a))\n",
            "<ipython-input-46-04255d4c2eb3>:6: FutureWarning: The series.append method is deprecated and will be removed from pandas in a future version. Use pandas.concat instead.\n",
            "  equation = equation.append(pd.Series(a))\n",
            "<ipython-input-46-04255d4c2eb3>:6: FutureWarning: The series.append method is deprecated and will be removed from pandas in a future version. Use pandas.concat instead.\n",
            "  equation = equation.append(pd.Series(a))\n",
            "<ipython-input-46-04255d4c2eb3>:6: FutureWarning: The series.append method is deprecated and will be removed from pandas in a future version. Use pandas.concat instead.\n",
            "  equation = equation.append(pd.Series(a))\n",
            "<ipython-input-46-04255d4c2eb3>:6: FutureWarning: The series.append method is deprecated and will be removed from pandas in a future version. Use pandas.concat instead.\n",
            "  equation = equation.append(pd.Series(a))\n",
            "<ipython-input-46-04255d4c2eb3>:6: FutureWarning: The series.append method is deprecated and will be removed from pandas in a future version. Use pandas.concat instead.\n",
            "  equation = equation.append(pd.Series(a))\n",
            "<ipython-input-46-04255d4c2eb3>:6: FutureWarning: The series.append method is deprecated and will be removed from pandas in a future version. Use pandas.concat instead.\n",
            "  equation = equation.append(pd.Series(a))\n",
            "<ipython-input-46-04255d4c2eb3>:6: FutureWarning: The series.append method is deprecated and will be removed from pandas in a future version. Use pandas.concat instead.\n",
            "  equation = equation.append(pd.Series(a))\n",
            "<ipython-input-46-04255d4c2eb3>:6: FutureWarning: The series.append method is deprecated and will be removed from pandas in a future version. Use pandas.concat instead.\n",
            "  equation = equation.append(pd.Series(a))\n",
            "<ipython-input-46-04255d4c2eb3>:6: FutureWarning: The series.append method is deprecated and will be removed from pandas in a future version. Use pandas.concat instead.\n",
            "  equation = equation.append(pd.Series(a))\n",
            "<ipython-input-46-04255d4c2eb3>:6: FutureWarning: The series.append method is deprecated and will be removed from pandas in a future version. Use pandas.concat instead.\n",
            "  equation = equation.append(pd.Series(a))\n",
            "<ipython-input-46-04255d4c2eb3>:6: FutureWarning: The series.append method is deprecated and will be removed from pandas in a future version. Use pandas.concat instead.\n",
            "  equation = equation.append(pd.Series(a))\n",
            "<ipython-input-46-04255d4c2eb3>:6: FutureWarning: The series.append method is deprecated and will be removed from pandas in a future version. Use pandas.concat instead.\n",
            "  equation = equation.append(pd.Series(a))\n",
            "<ipython-input-46-04255d4c2eb3>:6: FutureWarning: The series.append method is deprecated and will be removed from pandas in a future version. Use pandas.concat instead.\n",
            "  equation = equation.append(pd.Series(a))\n",
            "<ipython-input-46-04255d4c2eb3>:6: FutureWarning: The series.append method is deprecated and will be removed from pandas in a future version. Use pandas.concat instead.\n",
            "  equation = equation.append(pd.Series(a))\n",
            "<ipython-input-46-04255d4c2eb3>:6: FutureWarning: The series.append method is deprecated and will be removed from pandas in a future version. Use pandas.concat instead.\n",
            "  equation = equation.append(pd.Series(a))\n",
            "<ipython-input-46-04255d4c2eb3>:6: FutureWarning: The series.append method is deprecated and will be removed from pandas in a future version. Use pandas.concat instead.\n",
            "  equation = equation.append(pd.Series(a))\n",
            "<ipython-input-46-04255d4c2eb3>:6: FutureWarning: The series.append method is deprecated and will be removed from pandas in a future version. Use pandas.concat instead.\n",
            "  equation = equation.append(pd.Series(a))\n",
            "<ipython-input-46-04255d4c2eb3>:6: FutureWarning: The series.append method is deprecated and will be removed from pandas in a future version. Use pandas.concat instead.\n",
            "  equation = equation.append(pd.Series(a))\n",
            "<ipython-input-46-04255d4c2eb3>:6: FutureWarning: The series.append method is deprecated and will be removed from pandas in a future version. Use pandas.concat instead.\n",
            "  equation = equation.append(pd.Series(a))\n",
            "<ipython-input-46-04255d4c2eb3>:6: FutureWarning: The series.append method is deprecated and will be removed from pandas in a future version. Use pandas.concat instead.\n",
            "  equation = equation.append(pd.Series(a))\n",
            "<ipython-input-46-04255d4c2eb3>:6: FutureWarning: The series.append method is deprecated and will be removed from pandas in a future version. Use pandas.concat instead.\n",
            "  equation = equation.append(pd.Series(a))\n",
            "<ipython-input-46-04255d4c2eb3>:6: FutureWarning: The series.append method is deprecated and will be removed from pandas in a future version. Use pandas.concat instead.\n",
            "  equation = equation.append(pd.Series(a))\n",
            "<ipython-input-46-04255d4c2eb3>:6: FutureWarning: The series.append method is deprecated and will be removed from pandas in a future version. Use pandas.concat instead.\n",
            "  equation = equation.append(pd.Series(a))\n",
            "<ipython-input-46-04255d4c2eb3>:6: FutureWarning: The series.append method is deprecated and will be removed from pandas in a future version. Use pandas.concat instead.\n",
            "  equation = equation.append(pd.Series(a))\n",
            "<ipython-input-46-04255d4c2eb3>:6: FutureWarning: The series.append method is deprecated and will be removed from pandas in a future version. Use pandas.concat instead.\n",
            "  equation = equation.append(pd.Series(a))\n",
            "<ipython-input-46-04255d4c2eb3>:6: FutureWarning: The series.append method is deprecated and will be removed from pandas in a future version. Use pandas.concat instead.\n",
            "  equation = equation.append(pd.Series(a))\n",
            "<ipython-input-46-04255d4c2eb3>:6: FutureWarning: The series.append method is deprecated and will be removed from pandas in a future version. Use pandas.concat instead.\n",
            "  equation = equation.append(pd.Series(a))\n",
            "<ipython-input-46-04255d4c2eb3>:6: FutureWarning: The series.append method is deprecated and will be removed from pandas in a future version. Use pandas.concat instead.\n",
            "  equation = equation.append(pd.Series(a))\n",
            "<ipython-input-46-04255d4c2eb3>:6: FutureWarning: The series.append method is deprecated and will be removed from pandas in a future version. Use pandas.concat instead.\n",
            "  equation = equation.append(pd.Series(a))\n",
            "<ipython-input-46-04255d4c2eb3>:6: FutureWarning: The series.append method is deprecated and will be removed from pandas in a future version. Use pandas.concat instead.\n",
            "  equation = equation.append(pd.Series(a))\n",
            "<ipython-input-46-04255d4c2eb3>:6: FutureWarning: The series.append method is deprecated and will be removed from pandas in a future version. Use pandas.concat instead.\n",
            "  equation = equation.append(pd.Series(a))\n",
            "<ipython-input-46-04255d4c2eb3>:6: FutureWarning: The series.append method is deprecated and will be removed from pandas in a future version. Use pandas.concat instead.\n",
            "  equation = equation.append(pd.Series(a))\n",
            "<ipython-input-46-04255d4c2eb3>:6: FutureWarning: The series.append method is deprecated and will be removed from pandas in a future version. Use pandas.concat instead.\n",
            "  equation = equation.append(pd.Series(a))\n",
            "<ipython-input-46-04255d4c2eb3>:6: FutureWarning: The series.append method is deprecated and will be removed from pandas in a future version. Use pandas.concat instead.\n",
            "  equation = equation.append(pd.Series(a))\n",
            "<ipython-input-46-04255d4c2eb3>:6: FutureWarning: The series.append method is deprecated and will be removed from pandas in a future version. Use pandas.concat instead.\n",
            "  equation = equation.append(pd.Series(a))\n",
            "<ipython-input-46-04255d4c2eb3>:6: FutureWarning: The series.append method is deprecated and will be removed from pandas in a future version. Use pandas.concat instead.\n",
            "  equation = equation.append(pd.Series(a))\n",
            "<ipython-input-46-04255d4c2eb3>:6: FutureWarning: The series.append method is deprecated and will be removed from pandas in a future version. Use pandas.concat instead.\n",
            "  equation = equation.append(pd.Series(a))\n",
            "<ipython-input-46-04255d4c2eb3>:6: FutureWarning: The series.append method is deprecated and will be removed from pandas in a future version. Use pandas.concat instead.\n",
            "  equation = equation.append(pd.Series(a))\n",
            "<ipython-input-46-04255d4c2eb3>:6: FutureWarning: The series.append method is deprecated and will be removed from pandas in a future version. Use pandas.concat instead.\n",
            "  equation = equation.append(pd.Series(a))\n",
            "<ipython-input-46-04255d4c2eb3>:6: FutureWarning: The series.append method is deprecated and will be removed from pandas in a future version. Use pandas.concat instead.\n",
            "  equation = equation.append(pd.Series(a))\n",
            "<ipython-input-46-04255d4c2eb3>:6: FutureWarning: The series.append method is deprecated and will be removed from pandas in a future version. Use pandas.concat instead.\n",
            "  equation = equation.append(pd.Series(a))\n",
            "<ipython-input-46-04255d4c2eb3>:6: FutureWarning: The series.append method is deprecated and will be removed from pandas in a future version. Use pandas.concat instead.\n",
            "  equation = equation.append(pd.Series(a))\n",
            "<ipython-input-46-04255d4c2eb3>:6: FutureWarning: The series.append method is deprecated and will be removed from pandas in a future version. Use pandas.concat instead.\n",
            "  equation = equation.append(pd.Series(a))\n",
            "<ipython-input-46-04255d4c2eb3>:6: FutureWarning: The series.append method is deprecated and will be removed from pandas in a future version. Use pandas.concat instead.\n",
            "  equation = equation.append(pd.Series(a))\n",
            "<ipython-input-46-04255d4c2eb3>:6: FutureWarning: The series.append method is deprecated and will be removed from pandas in a future version. Use pandas.concat instead.\n",
            "  equation = equation.append(pd.Series(a))\n",
            "<ipython-input-46-04255d4c2eb3>:6: FutureWarning: The series.append method is deprecated and will be removed from pandas in a future version. Use pandas.concat instead.\n",
            "  equation = equation.append(pd.Series(a))\n",
            "<ipython-input-46-04255d4c2eb3>:6: FutureWarning: The series.append method is deprecated and will be removed from pandas in a future version. Use pandas.concat instead.\n",
            "  equation = equation.append(pd.Series(a))\n",
            "<ipython-input-46-04255d4c2eb3>:6: FutureWarning: The series.append method is deprecated and will be removed from pandas in a future version. Use pandas.concat instead.\n",
            "  equation = equation.append(pd.Series(a))\n",
            "<ipython-input-46-04255d4c2eb3>:6: FutureWarning: The series.append method is deprecated and will be removed from pandas in a future version. Use pandas.concat instead.\n",
            "  equation = equation.append(pd.Series(a))\n",
            "<ipython-input-46-04255d4c2eb3>:6: FutureWarning: The series.append method is deprecated and will be removed from pandas in a future version. Use pandas.concat instead.\n",
            "  equation = equation.append(pd.Series(a))\n",
            "<ipython-input-46-04255d4c2eb3>:6: FutureWarning: The series.append method is deprecated and will be removed from pandas in a future version. Use pandas.concat instead.\n",
            "  equation = equation.append(pd.Series(a))\n",
            "<ipython-input-46-04255d4c2eb3>:6: FutureWarning: The series.append method is deprecated and will be removed from pandas in a future version. Use pandas.concat instead.\n",
            "  equation = equation.append(pd.Series(a))\n",
            "<ipython-input-46-04255d4c2eb3>:6: FutureWarning: The series.append method is deprecated and will be removed from pandas in a future version. Use pandas.concat instead.\n",
            "  equation = equation.append(pd.Series(a))\n",
            "<ipython-input-46-04255d4c2eb3>:6: FutureWarning: The series.append method is deprecated and will be removed from pandas in a future version. Use pandas.concat instead.\n",
            "  equation = equation.append(pd.Series(a))\n",
            "<ipython-input-46-04255d4c2eb3>:6: FutureWarning: The series.append method is deprecated and will be removed from pandas in a future version. Use pandas.concat instead.\n",
            "  equation = equation.append(pd.Series(a))\n",
            "<ipython-input-46-04255d4c2eb3>:6: FutureWarning: The series.append method is deprecated and will be removed from pandas in a future version. Use pandas.concat instead.\n",
            "  equation = equation.append(pd.Series(a))\n",
            "<ipython-input-46-04255d4c2eb3>:6: FutureWarning: The series.append method is deprecated and will be removed from pandas in a future version. Use pandas.concat instead.\n",
            "  equation = equation.append(pd.Series(a))\n",
            "<ipython-input-46-04255d4c2eb3>:6: FutureWarning: The series.append method is deprecated and will be removed from pandas in a future version. Use pandas.concat instead.\n",
            "  equation = equation.append(pd.Series(a))\n",
            "<ipython-input-46-04255d4c2eb3>:6: FutureWarning: The series.append method is deprecated and will be removed from pandas in a future version. Use pandas.concat instead.\n",
            "  equation = equation.append(pd.Series(a))\n",
            "<ipython-input-46-04255d4c2eb3>:6: FutureWarning: The series.append method is deprecated and will be removed from pandas in a future version. Use pandas.concat instead.\n",
            "  equation = equation.append(pd.Series(a))\n",
            "<ipython-input-46-04255d4c2eb3>:6: FutureWarning: The series.append method is deprecated and will be removed from pandas in a future version. Use pandas.concat instead.\n",
            "  equation = equation.append(pd.Series(a))\n",
            "<ipython-input-46-04255d4c2eb3>:6: FutureWarning: The series.append method is deprecated and will be removed from pandas in a future version. Use pandas.concat instead.\n",
            "  equation = equation.append(pd.Series(a))\n",
            "<ipython-input-46-04255d4c2eb3>:6: FutureWarning: The series.append method is deprecated and will be removed from pandas in a future version. Use pandas.concat instead.\n",
            "  equation = equation.append(pd.Series(a))\n",
            "<ipython-input-46-04255d4c2eb3>:6: FutureWarning: The series.append method is deprecated and will be removed from pandas in a future version. Use pandas.concat instead.\n",
            "  equation = equation.append(pd.Series(a))\n",
            "<ipython-input-46-04255d4c2eb3>:6: FutureWarning: The series.append method is deprecated and will be removed from pandas in a future version. Use pandas.concat instead.\n",
            "  equation = equation.append(pd.Series(a))\n",
            "<ipython-input-46-04255d4c2eb3>:6: FutureWarning: The series.append method is deprecated and will be removed from pandas in a future version. Use pandas.concat instead.\n",
            "  equation = equation.append(pd.Series(a))\n",
            "<ipython-input-46-04255d4c2eb3>:6: FutureWarning: The series.append method is deprecated and will be removed from pandas in a future version. Use pandas.concat instead.\n",
            "  equation = equation.append(pd.Series(a))\n",
            "<ipython-input-46-04255d4c2eb3>:6: FutureWarning: The series.append method is deprecated and will be removed from pandas in a future version. Use pandas.concat instead.\n",
            "  equation = equation.append(pd.Series(a))\n",
            "<ipython-input-46-04255d4c2eb3>:6: FutureWarning: The series.append method is deprecated and will be removed from pandas in a future version. Use pandas.concat instead.\n",
            "  equation = equation.append(pd.Series(a))\n",
            "<ipython-input-46-04255d4c2eb3>:6: FutureWarning: The series.append method is deprecated and will be removed from pandas in a future version. Use pandas.concat instead.\n",
            "  equation = equation.append(pd.Series(a))\n",
            "<ipython-input-46-04255d4c2eb3>:6: FutureWarning: The series.append method is deprecated and will be removed from pandas in a future version. Use pandas.concat instead.\n",
            "  equation = equation.append(pd.Series(a))\n",
            "<ipython-input-46-04255d4c2eb3>:6: FutureWarning: The series.append method is deprecated and will be removed from pandas in a future version. Use pandas.concat instead.\n",
            "  equation = equation.append(pd.Series(a))\n",
            "<ipython-input-46-04255d4c2eb3>:6: FutureWarning: The series.append method is deprecated and will be removed from pandas in a future version. Use pandas.concat instead.\n",
            "  equation = equation.append(pd.Series(a))\n",
            "<ipython-input-46-04255d4c2eb3>:6: FutureWarning: The series.append method is deprecated and will be removed from pandas in a future version. Use pandas.concat instead.\n",
            "  equation = equation.append(pd.Series(a))\n",
            "<ipython-input-46-04255d4c2eb3>:6: FutureWarning: The series.append method is deprecated and will be removed from pandas in a future version. Use pandas.concat instead.\n",
            "  equation = equation.append(pd.Series(a))\n",
            "<ipython-input-46-04255d4c2eb3>:6: FutureWarning: The series.append method is deprecated and will be removed from pandas in a future version. Use pandas.concat instead.\n",
            "  equation = equation.append(pd.Series(a))\n",
            "<ipython-input-46-04255d4c2eb3>:6: FutureWarning: The series.append method is deprecated and will be removed from pandas in a future version. Use pandas.concat instead.\n",
            "  equation = equation.append(pd.Series(a))\n",
            "<ipython-input-46-04255d4c2eb3>:6: FutureWarning: The series.append method is deprecated and will be removed from pandas in a future version. Use pandas.concat instead.\n",
            "  equation = equation.append(pd.Series(a))\n",
            "<ipython-input-46-04255d4c2eb3>:6: FutureWarning: The series.append method is deprecated and will be removed from pandas in a future version. Use pandas.concat instead.\n",
            "  equation = equation.append(pd.Series(a))\n",
            "<ipython-input-46-04255d4c2eb3>:6: FutureWarning: The series.append method is deprecated and will be removed from pandas in a future version. Use pandas.concat instead.\n",
            "  equation = equation.append(pd.Series(a))\n",
            "<ipython-input-46-04255d4c2eb3>:6: FutureWarning: The series.append method is deprecated and will be removed from pandas in a future version. Use pandas.concat instead.\n",
            "  equation = equation.append(pd.Series(a))\n",
            "<ipython-input-46-04255d4c2eb3>:6: FutureWarning: The series.append method is deprecated and will be removed from pandas in a future version. Use pandas.concat instead.\n",
            "  equation = equation.append(pd.Series(a))\n",
            "<ipython-input-46-04255d4c2eb3>:6: FutureWarning: The series.append method is deprecated and will be removed from pandas in a future version. Use pandas.concat instead.\n",
            "  equation = equation.append(pd.Series(a))\n",
            "<ipython-input-46-04255d4c2eb3>:6: FutureWarning: The series.append method is deprecated and will be removed from pandas in a future version. Use pandas.concat instead.\n",
            "  equation = equation.append(pd.Series(a))\n",
            "<ipython-input-46-04255d4c2eb3>:6: FutureWarning: The series.append method is deprecated and will be removed from pandas in a future version. Use pandas.concat instead.\n",
            "  equation = equation.append(pd.Series(a))\n",
            "<ipython-input-46-04255d4c2eb3>:6: FutureWarning: The series.append method is deprecated and will be removed from pandas in a future version. Use pandas.concat instead.\n",
            "  equation = equation.append(pd.Series(a))\n",
            "<ipython-input-46-04255d4c2eb3>:6: FutureWarning: The series.append method is deprecated and will be removed from pandas in a future version. Use pandas.concat instead.\n",
            "  equation = equation.append(pd.Series(a))\n",
            "<ipython-input-46-04255d4c2eb3>:6: FutureWarning: The series.append method is deprecated and will be removed from pandas in a future version. Use pandas.concat instead.\n",
            "  equation = equation.append(pd.Series(a))\n",
            "<ipython-input-46-04255d4c2eb3>:6: FutureWarning: The series.append method is deprecated and will be removed from pandas in a future version. Use pandas.concat instead.\n",
            "  equation = equation.append(pd.Series(a))\n",
            "<ipython-input-46-04255d4c2eb3>:6: FutureWarning: The series.append method is deprecated and will be removed from pandas in a future version. Use pandas.concat instead.\n",
            "  equation = equation.append(pd.Series(a))\n",
            "<ipython-input-46-04255d4c2eb3>:6: FutureWarning: The series.append method is deprecated and will be removed from pandas in a future version. Use pandas.concat instead.\n",
            "  equation = equation.append(pd.Series(a))\n",
            "<ipython-input-46-04255d4c2eb3>:6: FutureWarning: The series.append method is deprecated and will be removed from pandas in a future version. Use pandas.concat instead.\n",
            "  equation = equation.append(pd.Series(a))\n",
            "<ipython-input-46-04255d4c2eb3>:6: FutureWarning: The series.append method is deprecated and will be removed from pandas in a future version. Use pandas.concat instead.\n",
            "  equation = equation.append(pd.Series(a))\n",
            "<ipython-input-46-04255d4c2eb3>:6: FutureWarning: The series.append method is deprecated and will be removed from pandas in a future version. Use pandas.concat instead.\n",
            "  equation = equation.append(pd.Series(a))\n",
            "<ipython-input-46-04255d4c2eb3>:6: FutureWarning: The series.append method is deprecated and will be removed from pandas in a future version. Use pandas.concat instead.\n",
            "  equation = equation.append(pd.Series(a))\n",
            "<ipython-input-46-04255d4c2eb3>:6: FutureWarning: The series.append method is deprecated and will be removed from pandas in a future version. Use pandas.concat instead.\n",
            "  equation = equation.append(pd.Series(a))\n",
            "<ipython-input-46-04255d4c2eb3>:6: FutureWarning: The series.append method is deprecated and will be removed from pandas in a future version. Use pandas.concat instead.\n",
            "  equation = equation.append(pd.Series(a))\n",
            "<ipython-input-46-04255d4c2eb3>:6: FutureWarning: The series.append method is deprecated and will be removed from pandas in a future version. Use pandas.concat instead.\n",
            "  equation = equation.append(pd.Series(a))\n",
            "<ipython-input-46-04255d4c2eb3>:6: FutureWarning: The series.append method is deprecated and will be removed from pandas in a future version. Use pandas.concat instead.\n",
            "  equation = equation.append(pd.Series(a))\n",
            "<ipython-input-46-04255d4c2eb3>:6: FutureWarning: The series.append method is deprecated and will be removed from pandas in a future version. Use pandas.concat instead.\n",
            "  equation = equation.append(pd.Series(a))\n"
          ]
        }
      ],
      "source": [
        "equation = pd.Series([])\n",
        "\n",
        "for tweet in public_tweets:\n",
        "  analysis = TextBlob(tweet.text)\n",
        "  a = analysis.sentiment.polarity\n",
        "  equation = equation.append(pd.Series(a))\n"
      ]
    },
    {
      "cell_type": "code",
      "execution_count": null,
      "metadata": {
        "colab": {
          "base_uri": "https://localhost:8080/",
          "height": 363
        },
        "id": "EspbNr2afFVX",
        "outputId": "b17a56e1-4698-4372-d4aa-08d14c7ccfa8"
      },
      "outputs": [
        {
          "output_type": "execute_result",
          "data": {
            "text/plain": [
              "      SCORE\n",
              "0  0.066667\n",
              "0 -0.750000\n",
              "0  0.000000\n",
              "0  0.104167\n",
              "0  0.500000\n",
              "0 -0.100000\n",
              "0  0.032468\n",
              "0  0.000000\n",
              "0  0.000000\n",
              "0  0.193182"
            ],
            "text/html": [
              "\n",
              "  <div id=\"df-92cf926c-e6fe-4a00-8861-2fe1150cc308\">\n",
              "    <div class=\"colab-df-container\">\n",
              "      <div>\n",
              "<style scoped>\n",
              "    .dataframe tbody tr th:only-of-type {\n",
              "        vertical-align: middle;\n",
              "    }\n",
              "\n",
              "    .dataframe tbody tr th {\n",
              "        vertical-align: top;\n",
              "    }\n",
              "\n",
              "    .dataframe thead th {\n",
              "        text-align: right;\n",
              "    }\n",
              "</style>\n",
              "<table border=\"1\" class=\"dataframe\">\n",
              "  <thead>\n",
              "    <tr style=\"text-align: right;\">\n",
              "      <th></th>\n",
              "      <th>SCORE</th>\n",
              "    </tr>\n",
              "  </thead>\n",
              "  <tbody>\n",
              "    <tr>\n",
              "      <th>0</th>\n",
              "      <td>0.066667</td>\n",
              "    </tr>\n",
              "    <tr>\n",
              "      <th>0</th>\n",
              "      <td>-0.750000</td>\n",
              "    </tr>\n",
              "    <tr>\n",
              "      <th>0</th>\n",
              "      <td>0.000000</td>\n",
              "    </tr>\n",
              "    <tr>\n",
              "      <th>0</th>\n",
              "      <td>0.104167</td>\n",
              "    </tr>\n",
              "    <tr>\n",
              "      <th>0</th>\n",
              "      <td>0.500000</td>\n",
              "    </tr>\n",
              "    <tr>\n",
              "      <th>0</th>\n",
              "      <td>-0.100000</td>\n",
              "    </tr>\n",
              "    <tr>\n",
              "      <th>0</th>\n",
              "      <td>0.032468</td>\n",
              "    </tr>\n",
              "    <tr>\n",
              "      <th>0</th>\n",
              "      <td>0.000000</td>\n",
              "    </tr>\n",
              "    <tr>\n",
              "      <th>0</th>\n",
              "      <td>0.000000</td>\n",
              "    </tr>\n",
              "    <tr>\n",
              "      <th>0</th>\n",
              "      <td>0.193182</td>\n",
              "    </tr>\n",
              "  </tbody>\n",
              "</table>\n",
              "</div>\n",
              "      <button class=\"colab-df-convert\" onclick=\"convertToInteractive('df-92cf926c-e6fe-4a00-8861-2fe1150cc308')\"\n",
              "              title=\"Convert this dataframe to an interactive table.\"\n",
              "              style=\"display:none;\">\n",
              "        \n",
              "  <svg xmlns=\"http://www.w3.org/2000/svg\" height=\"24px\"viewBox=\"0 0 24 24\"\n",
              "       width=\"24px\">\n",
              "    <path d=\"M0 0h24v24H0V0z\" fill=\"none\"/>\n",
              "    <path d=\"M18.56 5.44l.94 2.06.94-2.06 2.06-.94-2.06-.94-.94-2.06-.94 2.06-2.06.94zm-11 1L8.5 8.5l.94-2.06 2.06-.94-2.06-.94L8.5 2.5l-.94 2.06-2.06.94zm10 10l.94 2.06.94-2.06 2.06-.94-2.06-.94-.94-2.06-.94 2.06-2.06.94z\"/><path d=\"M17.41 7.96l-1.37-1.37c-.4-.4-.92-.59-1.43-.59-.52 0-1.04.2-1.43.59L10.3 9.45l-7.72 7.72c-.78.78-.78 2.05 0 2.83L4 21.41c.39.39.9.59 1.41.59.51 0 1.02-.2 1.41-.59l7.78-7.78 2.81-2.81c.8-.78.8-2.07 0-2.86zM5.41 20L4 18.59l7.72-7.72 1.47 1.35L5.41 20z\"/>\n",
              "  </svg>\n",
              "      </button>\n",
              "      \n",
              "  <style>\n",
              "    .colab-df-container {\n",
              "      display:flex;\n",
              "      flex-wrap:wrap;\n",
              "      gap: 12px;\n",
              "    }\n",
              "\n",
              "    .colab-df-convert {\n",
              "      background-color: #E8F0FE;\n",
              "      border: none;\n",
              "      border-radius: 50%;\n",
              "      cursor: pointer;\n",
              "      display: none;\n",
              "      fill: #1967D2;\n",
              "      height: 32px;\n",
              "      padding: 0 0 0 0;\n",
              "      width: 32px;\n",
              "    }\n",
              "\n",
              "    .colab-df-convert:hover {\n",
              "      background-color: #E2EBFA;\n",
              "      box-shadow: 0px 1px 2px rgba(60, 64, 67, 0.3), 0px 1px 3px 1px rgba(60, 64, 67, 0.15);\n",
              "      fill: #174EA6;\n",
              "    }\n",
              "\n",
              "    [theme=dark] .colab-df-convert {\n",
              "      background-color: #3B4455;\n",
              "      fill: #D2E3FC;\n",
              "    }\n",
              "\n",
              "    [theme=dark] .colab-df-convert:hover {\n",
              "      background-color: #434B5C;\n",
              "      box-shadow: 0px 1px 3px 1px rgba(0, 0, 0, 0.15);\n",
              "      filter: drop-shadow(0px 1px 2px rgba(0, 0, 0, 0.3));\n",
              "      fill: #FFFFFF;\n",
              "    }\n",
              "  </style>\n",
              "\n",
              "      <script>\n",
              "        const buttonEl =\n",
              "          document.querySelector('#df-92cf926c-e6fe-4a00-8861-2fe1150cc308 button.colab-df-convert');\n",
              "        buttonEl.style.display =\n",
              "          google.colab.kernel.accessAllowed ? 'block' : 'none';\n",
              "\n",
              "        async function convertToInteractive(key) {\n",
              "          const element = document.querySelector('#df-92cf926c-e6fe-4a00-8861-2fe1150cc308');\n",
              "          const dataTable =\n",
              "            await google.colab.kernel.invokeFunction('convertToInteractive',\n",
              "                                                     [key], {});\n",
              "          if (!dataTable) return;\n",
              "\n",
              "          const docLinkHtml = 'Like what you see? Visit the ' +\n",
              "            '<a target=\"_blank\" href=https://colab.research.google.com/notebooks/data_table.ipynb>data table notebook</a>'\n",
              "            + ' to learn more about interactive tables.';\n",
              "          element.innerHTML = '';\n",
              "          dataTable['output_type'] = 'display_data';\n",
              "          await google.colab.output.renderOutput(dataTable, element);\n",
              "          const docLink = document.createElement('div');\n",
              "          docLink.innerHTML = docLinkHtml;\n",
              "          element.appendChild(docLink);\n",
              "        }\n",
              "      </script>\n",
              "    </div>\n",
              "  </div>\n",
              "  "
            ]
          },
          "metadata": {},
          "execution_count": 47
        }
      ],
      "source": [
        "df['SCORE'] = equation\n",
        "df.head(10)"
      ]
    },
    {
      "cell_type": "code",
      "execution_count": null,
      "metadata": {
        "colab": {
          "base_uri": "https://localhost:8080/",
          "height": 735
        },
        "id": "VR55p4NHinpG",
        "outputId": "2c6ee418-9ba5-454d-a420-f82055b9a7c5"
      },
      "outputs": [
        {
          "output_type": "execute_result",
          "data": {
            "text/plain": [
              "            SCORE\n",
              "count  200.000000\n",
              "mean     0.092134\n",
              "std      0.300635\n",
              "min     -1.000000\n",
              "25%      0.000000\n",
              "50%      0.000000\n",
              "75%      0.167614\n",
              "max      1.000000"
            ],
            "text/html": [
              "\n",
              "  <div id=\"df-99662f35-48b9-4346-a90c-fb525fa4570c\">\n",
              "    <div class=\"colab-df-container\">\n",
              "      <div>\n",
              "<style scoped>\n",
              "    .dataframe tbody tr th:only-of-type {\n",
              "        vertical-align: middle;\n",
              "    }\n",
              "\n",
              "    .dataframe tbody tr th {\n",
              "        vertical-align: top;\n",
              "    }\n",
              "\n",
              "    .dataframe thead th {\n",
              "        text-align: right;\n",
              "    }\n",
              "</style>\n",
              "<table border=\"1\" class=\"dataframe\">\n",
              "  <thead>\n",
              "    <tr style=\"text-align: right;\">\n",
              "      <th></th>\n",
              "      <th>SCORE</th>\n",
              "    </tr>\n",
              "  </thead>\n",
              "  <tbody>\n",
              "    <tr>\n",
              "      <th>count</th>\n",
              "      <td>200.000000</td>\n",
              "    </tr>\n",
              "    <tr>\n",
              "      <th>mean</th>\n",
              "      <td>0.092134</td>\n",
              "    </tr>\n",
              "    <tr>\n",
              "      <th>std</th>\n",
              "      <td>0.300635</td>\n",
              "    </tr>\n",
              "    <tr>\n",
              "      <th>min</th>\n",
              "      <td>-1.000000</td>\n",
              "    </tr>\n",
              "    <tr>\n",
              "      <th>25%</th>\n",
              "      <td>0.000000</td>\n",
              "    </tr>\n",
              "    <tr>\n",
              "      <th>50%</th>\n",
              "      <td>0.000000</td>\n",
              "    </tr>\n",
              "    <tr>\n",
              "      <th>75%</th>\n",
              "      <td>0.167614</td>\n",
              "    </tr>\n",
              "    <tr>\n",
              "      <th>max</th>\n",
              "      <td>1.000000</td>\n",
              "    </tr>\n",
              "  </tbody>\n",
              "</table>\n",
              "</div>\n",
              "      <button class=\"colab-df-convert\" onclick=\"convertToInteractive('df-99662f35-48b9-4346-a90c-fb525fa4570c')\"\n",
              "              title=\"Convert this dataframe to an interactive table.\"\n",
              "              style=\"display:none;\">\n",
              "        \n",
              "  <svg xmlns=\"http://www.w3.org/2000/svg\" height=\"24px\"viewBox=\"0 0 24 24\"\n",
              "       width=\"24px\">\n",
              "    <path d=\"M0 0h24v24H0V0z\" fill=\"none\"/>\n",
              "    <path d=\"M18.56 5.44l.94 2.06.94-2.06 2.06-.94-2.06-.94-.94-2.06-.94 2.06-2.06.94zm-11 1L8.5 8.5l.94-2.06 2.06-.94-2.06-.94L8.5 2.5l-.94 2.06-2.06.94zm10 10l.94 2.06.94-2.06 2.06-.94-2.06-.94-.94-2.06-.94 2.06-2.06.94z\"/><path d=\"M17.41 7.96l-1.37-1.37c-.4-.4-.92-.59-1.43-.59-.52 0-1.04.2-1.43.59L10.3 9.45l-7.72 7.72c-.78.78-.78 2.05 0 2.83L4 21.41c.39.39.9.59 1.41.59.51 0 1.02-.2 1.41-.59l7.78-7.78 2.81-2.81c.8-.78.8-2.07 0-2.86zM5.41 20L4 18.59l7.72-7.72 1.47 1.35L5.41 20z\"/>\n",
              "  </svg>\n",
              "      </button>\n",
              "      \n",
              "  <style>\n",
              "    .colab-df-container {\n",
              "      display:flex;\n",
              "      flex-wrap:wrap;\n",
              "      gap: 12px;\n",
              "    }\n",
              "\n",
              "    .colab-df-convert {\n",
              "      background-color: #E8F0FE;\n",
              "      border: none;\n",
              "      border-radius: 50%;\n",
              "      cursor: pointer;\n",
              "      display: none;\n",
              "      fill: #1967D2;\n",
              "      height: 32px;\n",
              "      padding: 0 0 0 0;\n",
              "      width: 32px;\n",
              "    }\n",
              "\n",
              "    .colab-df-convert:hover {\n",
              "      background-color: #E2EBFA;\n",
              "      box-shadow: 0px 1px 2px rgba(60, 64, 67, 0.3), 0px 1px 3px 1px rgba(60, 64, 67, 0.15);\n",
              "      fill: #174EA6;\n",
              "    }\n",
              "\n",
              "    [theme=dark] .colab-df-convert {\n",
              "      background-color: #3B4455;\n",
              "      fill: #D2E3FC;\n",
              "    }\n",
              "\n",
              "    [theme=dark] .colab-df-convert:hover {\n",
              "      background-color: #434B5C;\n",
              "      box-shadow: 0px 1px 3px 1px rgba(0, 0, 0, 0.15);\n",
              "      filter: drop-shadow(0px 1px 2px rgba(0, 0, 0, 0.3));\n",
              "      fill: #FFFFFF;\n",
              "    }\n",
              "  </style>\n",
              "\n",
              "      <script>\n",
              "        const buttonEl =\n",
              "          document.querySelector('#df-99662f35-48b9-4346-a90c-fb525fa4570c button.colab-df-convert');\n",
              "        buttonEl.style.display =\n",
              "          google.colab.kernel.accessAllowed ? 'block' : 'none';\n",
              "\n",
              "        async function convertToInteractive(key) {\n",
              "          const element = document.querySelector('#df-99662f35-48b9-4346-a90c-fb525fa4570c');\n",
              "          const dataTable =\n",
              "            await google.colab.kernel.invokeFunction('convertToInteractive',\n",
              "                                                     [key], {});\n",
              "          if (!dataTable) return;\n",
              "\n",
              "          const docLinkHtml = 'Like what you see? Visit the ' +\n",
              "            '<a target=\"_blank\" href=https://colab.research.google.com/notebooks/data_table.ipynb>data table notebook</a>'\n",
              "            + ' to learn more about interactive tables.';\n",
              "          element.innerHTML = '';\n",
              "          dataTable['output_type'] = 'display_data';\n",
              "          await google.colab.output.renderOutput(dataTable, element);\n",
              "          const docLink = document.createElement('div');\n",
              "          docLink.innerHTML = docLinkHtml;\n",
              "          element.appendChild(docLink);\n",
              "        }\n",
              "      </script>\n",
              "    </div>\n",
              "  </div>\n",
              "  "
            ]
          },
          "metadata": {},
          "execution_count": 48
        },
        {
          "output_type": "display_data",
          "data": {
            "text/plain": [
              "<Figure size 640x480 with 1 Axes>"
            ],
            "image/png": "[encoded data removed]"
          },
          "metadata": {}
        }
      ],
      "source": [
        "df.hist()\n",
        "df.describe()"
      ]
    },
    {
      "cell_type": "markdown",
      "metadata": {
        "id": "PKc0SFpKr1Mo"
      },
      "source": [
        "#Analizando estadisticas de Netflix"
      ]
    },
    {
      "cell_type": "code",
      "execution_count": null,
      "metadata": {
        "id": "s3dCy98pqzl5"
      },
      "outputs": [],
      "source": [
        "userID = \"Netflix\""
      ]
    },
    {
      "cell_type": "code",
      "execution_count": null,
      "metadata": {
        "id": "T8E-uH0mqyuv"
      },
      "outputs": [],
      "source": [
        "# Credenciales de Twitter\n",
        "auth = tweepy.OAuthHandler(consumer_key, consumer_secret)\n",
        "auth.set_access_token(access_token, access_token_secret)\n",
        "api = tweepy.API(auth)\n",
        "\n",
        "tweets = api.user_timeline(screen_name=userID,\n",
        "                           # 200 es el recuento máximo permitido\n",
        "                           count=200,\n",
        "                           include_rts = False,\n",
        "                           # Necesario para mantener full_text\n",
        "                           # de lo contrario, solo se extraen las primeras 140 palabras\n",
        "                           tweet_mode = 'extended'\n",
        "                           )"
      ]
    },
    {
      "cell_type": "code",
      "execution_count": null,
      "metadata": {
        "id": "5c_g6hWMq-NT"
      },
      "outputs": [],
      "source": [
        "for info in tweets[:3]:\n",
        "     print(\"ID: {}\".format(info.id))\n",
        "     print(info.created_at)\n",
        "     print(info.full_text)\n",
        "     print(\"\\n\")"
      ]
    },
    {
      "cell_type": "markdown",
      "metadata": {
        "id": "QSw1k6am8qpe"
      },
      "source": [
        "Dado que el solamente se nos permite extraer 200 tweets, crearemos un proceso iterativo que nos permitirá extraer bloques de 200 en 200"
      ]
    },
    {
      "cell_type": "code",
      "execution_count": null,
      "metadata": {
        "id": "7YQzcvYKqSAX"
      },
      "outputs": [],
      "source": [
        "all_tweets = []\n",
        "all_tweets.extend(tweets)\n",
        "oldest_id = tweets[-1].id\n",
        "while True:\n",
        "    tweets = api.user_timeline(screen_name=userID,\n",
        "                           # 200 es el recuento máximo permitido\n",
        "                           count=200,\n",
        "                           include_rts = False,\n",
        "                           max_id = oldest_id - 1,\n",
        "                           # Necesario para mantener full_text\n",
        "                           # de lo contrario, solo se extraen las primeras 140 palabras\n",
        "                           tweet_mode = 'extended'\n",
        "                           )\n",
        "    if len(tweets) == 0:\n",
        "        break\n",
        "    oldest_id = tweets[-1].id\n",
        "    all_tweets.extend(tweets)\n",
        "    print('N of tweets downloaded till now {}'.format(len(all_tweets)))"
      ]
    },
    {
      "cell_type": "code",
      "execution_count": null,
      "metadata": {
        "id": "Zlun67DHrLyt"
      },
      "outputs": [],
      "source": [
        "#transformamos los tweets en un 2D array que será enviado a csv\n",
        "from pandas import DataFrame\n",
        "outtweets = [[tweet.id_str,\n",
        "              tweet.created_at,\n",
        "              tweet.favorite_count,\n",
        "              tweet.retweet_count,\n",
        "              tweet.full_text.encode(\"utf-8\").decode(\"utf-8\")]\n",
        "             for idx, tweet in enumerate(all_tweets)]\n",
        "df = DataFrame(outtweets,columns=[\"id\",\"created_at\",\"favorite_count\",\"retweet_count\", \"text\"])\n",
        "df.to_csv('%s_tweets.csv' % userID,index=False)\n",
        "df.head(20)"
      ]
    },
    {
      "cell_type": "markdown",
      "metadata": {
        "id": "jD_vRNOM9gKo"
      },
      "source": [
        "Realizaremos nuestro primer análisis observando la popularidad del tema"
      ]
    },
    {
      "cell_type": "code",
      "execution_count": null,
      "metadata": {
        "id": "cOBw0RhWrjpn"
      },
      "outputs": [],
      "source": [
        "import matplotlib.pyplot as plt\n",
        "\n",
        "ylabels = [\"favorite_count\",\"retweet_count\"]\n",
        "\n",
        "fig = plt.figure(figsize=(13,3))\n",
        "fig.subplots_adjust(hspace=0.01,wspace=0.01)\n",
        "\n",
        "n_row = len(ylabels)\n",
        "n_col = 1\n",
        "for count, ylabel in enumerate(ylabels):\n",
        "    ax = fig.add_subplot(n_row,n_col,count+1)\n",
        "    ax.plot(df[\"created_at\"],df[ylabel])\n",
        "    ax.set_ylabel(ylabel)\n",
        "plt.show()"
      ]
    },
    {
      "cell_type": "code",
      "execution_count": null,
      "metadata": {
        "id": "NjbWJYkzCsmO"
      },
      "outputs": [],
      "source": [
        "import pandas as pd\n",
        "dfSent = pd.DataFrame(columns=['SCORE'])\n",
        "\n",
        "equation = pd.Series([])\n",
        "\n",
        "for tweet in df.text:\n",
        "  analysis = TextBlob(tweet)\n",
        "  a = analysis.sentiment.polarity\n",
        "  equation = equation.append(pd.Series(a))\n",
        "\n"
      ]
    },
    {
      "cell_type": "code",
      "execution_count": null,
      "metadata": {
        "id": "qEdV-LLbs89F"
      },
      "outputs": [],
      "source": [
        "dfSent['SCORE'] = equation\n",
        "dfSent.head()"
      ]
    },
    {
      "cell_type": "code",
      "execution_count": null,
      "metadata": {
        "id": "yYTQQ6hDsZwR"
      },
      "outputs": [],
      "source": [
        "dfSent.hist()\n",
        "dfSent.describe()"
      ]
    }
  ],
  "metadata": {
    "colab": {
      "provenance": [],
      "include_colab_link": true
    },
    "kernelspec": {
      "display_name": "Python 3",
      "name": "python3"
    }
  },
  "nbformat": 4,
  "nbformat_minor": 0
}